{
 "cells": [
  {
   "cell_type": "markdown",
   "metadata": {},
   "source": [
    "# IPUMS Social Data for Americas"
   ]
  },
  {
   "cell_type": "markdown",
   "metadata": {},
   "source": [
    "#  1. Preparing the Dataset"
   ]
  },
  {
   "cell_type": "code",
   "execution_count": 1,
   "metadata": {},
   "outputs": [
    {
     "name": "stdout",
     "output_type": "stream",
     "text": [
      "Requirement already satisfied: pandas in c:\\users\\shwarna.bhattacharje\\appdata\\local\\programs\\arcgis\\pro\\bin\\python\\envs\\arcgispro-py3\\lib\\site-packages (1.5.3)\n",
      "Requirement already satisfied: python-dateutil>=2.8.1 in c:\\users\\shwarna.bhattacharje\\appdata\\local\\programs\\arcgis\\pro\\bin\\python\\envs\\arcgispro-py3\\lib\\site-packages (from pandas) (2.8.2)\n",
      "Requirement already satisfied: pytz>=2020.1 in c:\\users\\shwarna.bhattacharje\\appdata\\local\\programs\\arcgis\\pro\\bin\\python\\envs\\arcgispro-py3\\lib\\site-packages\\pytz-2022.6-py3.11.egg (from pandas) (2022.6)\n",
      "Requirement already satisfied: numpy>=1.21.0 in c:\\users\\shwarna.bhattacharje\\appdata\\local\\programs\\arcgis\\pro\\bin\\python\\envs\\arcgispro-py3\\lib\\site-packages (from pandas) (1.26.4)\n",
      "Requirement already satisfied: six>=1.5 in c:\\users\\shwarna.bhattacharje\\appdata\\local\\programs\\arcgis\\pro\\bin\\python\\envs\\arcgispro-py3\\lib\\site-packages (from python-dateutil>=2.8.1->pandas) (1.16.0)\n"
     ]
    }
   ],
   "source": [
    "!pip install pandas\n"
   ]
  },
  {
   "cell_type": "code",
   "execution_count": 50,
   "metadata": {},
   "outputs": [],
   "source": [
    "# Import Library\n",
    "import os\n",
    "import pandas as pd\n",
    "import arcpy"
   ]
  },
  {
   "cell_type": "markdown",
   "metadata": {},
   "source": [
    "## Subseting the Country: Mexico"
   ]
  },
  {
   "cell_type": "code",
   "execution_count": 76,
   "metadata": {},
   "outputs": [
    {
     "name": "stdout",
     "output_type": "stream",
     "text": [
      "Iteration 1 completed\n",
      "Iteration 2 completed\n",
      "Iteration 3 completed\n",
      "Iteration 4 completed\n",
      "Iteration 5 completed\n",
      "Iteration 6 completed\n",
      "Iteration 7 completed\n",
      "Iteration 8 completed\n",
      "Iteration 9 completed\n",
      "Iteration 10 completed\n",
      "Iteration 11 completed\n",
      "Iteration 12 completed\n",
      "Iteration 13 completed\n",
      "Iteration 14 completed\n",
      "Iteration 15 completed\n",
      "Iteration 16 completed\n",
      "Iteration 17 completed\n",
      "Iteration 18 completed\n",
      "Iteration 19 completed\n",
      "Iteration 20 completed\n",
      "Iteration 21 completed\n",
      "Iteration 22 completed\n",
      "Iteration 23 completed\n",
      "Iteration 24 completed\n",
      "Iteration 25 completed\n",
      "Iteration 26 completed\n",
      "Iteration 27 completed\n",
      "Iteration 28 completed\n",
      "Iteration 29 completed\n",
      "Iteration 30 completed\n",
      "Iteration 31 completed\n",
      "Iteration 32 completed\n",
      "Iteration 33 completed\n",
      "Iteration 34 completed\n",
      "Iteration 35 completed\n",
      "Iteration 36 completed\n",
      "Iteration 37 completed\n",
      "Iteration 38 completed\n",
      "Iteration 39 completed\n",
      "Iteration 40 completed\n",
      "Iteration 41 completed\n",
      "Iteration 42 completed\n",
      "Iteration 43 completed\n",
      "Iteration 44 completed\n",
      "Iteration 45 completed\n",
      "Iteration 46 completed\n",
      "Iteration 47 completed\n",
      "Iteration 48 completed\n",
      "Iteration 49 completed\n",
      "Iteration 50 completed\n",
      "Iteration 51 completed\n",
      "Iteration 52 completed\n",
      "Iteration 53 completed\n",
      "Iteration 54 completed\n",
      "Iteration 55 completed\n",
      "Iteration 56 completed\n",
      "Iteration 57 completed\n",
      "Iteration 58 completed\n",
      "Iteration 59 completed\n",
      "Iteration 60 completed\n",
      "Iteration 61 completed\n",
      "Iteration 62 completed\n",
      "Iteration 63 completed\n",
      "Iteration 64 completed\n",
      "Iteration 65 completed\n",
      "Iteration 66 completed\n",
      "Iteration 67 completed\n",
      "Iteration 68 completed\n",
      "Iteration 69 completed\n",
      "Iteration 70 completed\n",
      "Iteration 71 completed\n",
      "Iteration 72 completed\n",
      "Iteration 73 completed\n",
      "Iteration 74 completed\n",
      "Iteration 75 completed\n",
      "Iteration 76 completed\n",
      "Iteration 77 completed\n",
      "Iteration 78 completed\n",
      "Iteration 79 completed\n",
      "Iteration 80 completed\n",
      "Iteration 81 completed\n",
      "Iteration 82 completed\n",
      "Iteration 83 completed\n",
      "Iteration 84 completed\n",
      "Iteration 85 completed\n",
      "Iteration 86 completed\n",
      "Iteration 87 completed\n",
      "Iteration 88 completed\n",
      "Iteration 89 completed\n",
      "Iteration 90 completed\n",
      "Iteration 91 completed\n",
      "Iteration 92 completed\n",
      "Iteration 93 completed\n",
      "Iteration 94 completed\n",
      "Iteration 95 completed\n",
      "Iteration 96 completed\n",
      "Iteration 97 completed\n",
      "Iteration 98 completed\n",
      "Iteration 99 completed\n",
      "Iteration 100 completed\n",
      "Iteration 101 completed\n",
      "Iteration 102 completed\n",
      "Iteration 103 completed\n",
      "Iteration 104 completed\n",
      "Iteration 105 completed\n",
      "Iteration 106 completed\n",
      "Iteration 107 completed\n",
      "Iteration 108 completed\n",
      "Iteration 109 completed\n",
      "Iteration 110 completed\n",
      "Iteration 111 completed\n",
      "Iteration 112 completed\n",
      "Iteration 113 completed\n",
      "Iteration 114 completed\n",
      "Iteration 115 completed\n",
      "Iteration 116 completed\n",
      "Iteration 117 completed\n",
      "Iteration 118 completed\n",
      "Iteration 119 completed\n",
      "Iteration 120 completed\n",
      "Total number of iterations: 120\n"
     ]
    }
   ],
   "source": [
    "# Define the chunk size (number of rows to load at a time)\n",
    "chunk_size = 1000000\n",
    "\n",
    "# Path to the original CSV file downloaded from box: 20240325_InternationalDemographicData\\IPUMS\\IPUMS_Americas_All\n",
    "# stored into the local computer\n",
    "# remember to use 'r' infront of the file path if you use '\\'.\n",
    "csv_file_path = r'C:\\Users\\Shwarna.Bhattacharje\\Documents\\IPUMS_Datasets\\ipumsi_00021.csv\\ipumsi_00021.csv'\n",
    "\n",
    "# Path to save intended country with applicable year, CSV naming convention: '{Country}_ipums_{Year}': e.g. 'Mexico_ipums_2020'\n",
    "output_file_path = r'C:\\Users\\Shwarna.Bhattacharje\\Documents\\IPUMS_Datasets\\ipums_americas_data\\Mexico_ipums_2020.csv'\n",
    "\n",
    "# Initialize iteration counter and header flag\n",
    "counter = 0\n",
    "header_written = False\n",
    "\n",
    "# Loop through the CSV file in chunks\n",
    "for i, chunk in enumerate(pd.read_csv(csv_file_path, iterator=True, chunksize=chunk_size)):\n",
    "    # Increment the iteration counter\n",
    "    counter += 1\n",
    "\n",
    "    # Apply multiple filters to the chunk\n",
    "    # Define 'COUNTRY' and 'YEAR' code for the filter\n",
    "    # Here example for Mexico: 'COUNTRY': 484, 'YEAR': 2020\n",
    "    filtered_chunk = chunk[(chunk['COUNTRY'] == 484) & (chunk['YEAR'] == 2020)]\n",
    "    \n",
    "    # Filter out columns where all row values of the particular column are NaN\n",
    "    filtered_chunk = filtered_chunk.dropna(axis=1, how='all')  \n",
    "\n",
    "\n",
    "     # Ensure column consistency\n",
    "    if not filtered_chunk.empty:\n",
    "        if not header_written:\n",
    "            filtered_chunk.to_csv(output_file_path, mode='w', index=False)\n",
    "            header_written = True  # Write header only once\n",
    "        else:\n",
    "            filtered_chunk.to_csv(output_file_path, mode='a', header=False, index=False)\n",
    "    # Print the current iteration number\n",
    "    print(f\"Iteration {counter} completed\")\n",
    "\n",
    "# After the loop, print the total number of iterations\n",
    "print(f\"Total number of iterations: {counter}\")\n"
   ]
  },
  {
   "cell_type": "code",
   "execution_count": 52,
   "metadata": {},
   "outputs": [
    {
     "data": {
      "text/html": [
       "<div>\n",
       "<style scoped>\n",
       "    .dataframe tbody tr th:only-of-type {\n",
       "        vertical-align: middle;\n",
       "    }\n",
       "\n",
       "    .dataframe tbody tr th {\n",
       "        vertical-align: top;\n",
       "    }\n",
       "\n",
       "    .dataframe thead th {\n",
       "        text-align: right;\n",
       "    }\n",
       "</style>\n",
       "<table border=\"1\" class=\"dataframe\">\n",
       "  <thead>\n",
       "    <tr style=\"text-align: right;\">\n",
       "      <th></th>\n",
       "      <th>COUNTRY</th>\n",
       "      <th>YEAR</th>\n",
       "      <th>SAMPLE</th>\n",
       "      <th>SERIAL</th>\n",
       "      <th>HHWT</th>\n",
       "      <th>URBAN</th>\n",
       "      <th>GEOLEV1</th>\n",
       "      <th>GEOLEV2</th>\n",
       "      <th>POPDENSGEO2</th>\n",
       "      <th>GEO2_MX2020</th>\n",
       "      <th>OWNERSHIP</th>\n",
       "      <th>OWNERSHIPD</th>\n",
       "      <th>ELECTRIC</th>\n",
       "      <th>INTERNET</th>\n",
       "      <th>PERNUM</th>\n",
       "      <th>PERWT</th>\n",
       "      <th>EDATTAIN</th>\n",
       "      <th>EDATTAIND</th>\n",
       "      <th>EMPSTAT</th>\n",
       "      <th>EMPSTATD</th>\n",
       "      <th>INCEARN</th>\n",
       "      <th>MX2020A_AFRDES</th>\n",
       "      <th>MX2020A_INDIG</th>\n",
       "    </tr>\n",
       "  </thead>\n",
       "  <tbody>\n",
       "    <tr>\n",
       "      <th>0</th>\n",
       "      <td>484</td>\n",
       "      <td>2020</td>\n",
       "      <td>484202001</td>\n",
       "      <td>1000</td>\n",
       "      <td>59.0</td>\n",
       "      <td>2</td>\n",
       "      <td>484001</td>\n",
       "      <td>484001001</td>\n",
       "      <td>562.77002</td>\n",
       "      <td>1001.0</td>\n",
       "      <td>1</td>\n",
       "      <td>100</td>\n",
       "      <td>1</td>\n",
       "      <td>2</td>\n",
       "      <td>1</td>\n",
       "      <td>59.0</td>\n",
       "      <td>4</td>\n",
       "      <td>400</td>\n",
       "      <td>3</td>\n",
       "      <td>310</td>\n",
       "      <td>99999999.0</td>\n",
       "      <td>2.0</td>\n",
       "      <td>2.0</td>\n",
       "    </tr>\n",
       "    <tr>\n",
       "      <th>1</th>\n",
       "      <td>484</td>\n",
       "      <td>2020</td>\n",
       "      <td>484202001</td>\n",
       "      <td>1000</td>\n",
       "      <td>59.0</td>\n",
       "      <td>2</td>\n",
       "      <td>484001</td>\n",
       "      <td>484001001</td>\n",
       "      <td>562.77002</td>\n",
       "      <td>1001.0</td>\n",
       "      <td>1</td>\n",
       "      <td>100</td>\n",
       "      <td>1</td>\n",
       "      <td>2</td>\n",
       "      <td>2</td>\n",
       "      <td>59.0</td>\n",
       "      <td>3</td>\n",
       "      <td>312</td>\n",
       "      <td>3</td>\n",
       "      <td>330</td>\n",
       "      <td>99999999.0</td>\n",
       "      <td>2.0</td>\n",
       "      <td>2.0</td>\n",
       "    </tr>\n",
       "    <tr>\n",
       "      <th>2</th>\n",
       "      <td>484</td>\n",
       "      <td>2020</td>\n",
       "      <td>484202001</td>\n",
       "      <td>1000</td>\n",
       "      <td>59.0</td>\n",
       "      <td>2</td>\n",
       "      <td>484001</td>\n",
       "      <td>484001001</td>\n",
       "      <td>562.77002</td>\n",
       "      <td>1001.0</td>\n",
       "      <td>1</td>\n",
       "      <td>100</td>\n",
       "      <td>1</td>\n",
       "      <td>2</td>\n",
       "      <td>3</td>\n",
       "      <td>59.0</td>\n",
       "      <td>1</td>\n",
       "      <td>110</td>\n",
       "      <td>2</td>\n",
       "      <td>200</td>\n",
       "      <td>99999999.0</td>\n",
       "      <td>2.0</td>\n",
       "      <td>2.0</td>\n",
       "    </tr>\n",
       "    <tr>\n",
       "      <th>3</th>\n",
       "      <td>484</td>\n",
       "      <td>2020</td>\n",
       "      <td>484202001</td>\n",
       "      <td>2000</td>\n",
       "      <td>59.0</td>\n",
       "      <td>2</td>\n",
       "      <td>484001</td>\n",
       "      <td>484001001</td>\n",
       "      <td>562.77002</td>\n",
       "      <td>1001.0</td>\n",
       "      <td>1</td>\n",
       "      <td>100</td>\n",
       "      <td>1</td>\n",
       "      <td>2</td>\n",
       "      <td>1</td>\n",
       "      <td>59.0</td>\n",
       "      <td>4</td>\n",
       "      <td>400</td>\n",
       "      <td>1</td>\n",
       "      <td>110</td>\n",
       "      <td>21500.0</td>\n",
       "      <td>2.0</td>\n",
       "      <td>2.0</td>\n",
       "    </tr>\n",
       "    <tr>\n",
       "      <th>4</th>\n",
       "      <td>484</td>\n",
       "      <td>2020</td>\n",
       "      <td>484202001</td>\n",
       "      <td>2000</td>\n",
       "      <td>59.0</td>\n",
       "      <td>2</td>\n",
       "      <td>484001</td>\n",
       "      <td>484001001</td>\n",
       "      <td>562.77002</td>\n",
       "      <td>1001.0</td>\n",
       "      <td>1</td>\n",
       "      <td>100</td>\n",
       "      <td>1</td>\n",
       "      <td>2</td>\n",
       "      <td>2</td>\n",
       "      <td>59.0</td>\n",
       "      <td>4</td>\n",
       "      <td>400</td>\n",
       "      <td>1</td>\n",
       "      <td>110</td>\n",
       "      <td>8600.0</td>\n",
       "      <td>2.0</td>\n",
       "      <td>2.0</td>\n",
       "    </tr>\n",
       "  </tbody>\n",
       "</table>\n",
       "</div>"
      ],
      "text/plain": [
       "   COUNTRY  YEAR     SAMPLE  ...     INCEARN  MX2020A_AFRDES  MX2020A_INDIG\n",
       "0      484  2020  484202001  ...  99999999.0             2.0            2.0\n",
       "1      484  2020  484202001  ...  99999999.0             2.0            2.0\n",
       "2      484  2020  484202001  ...  99999999.0             2.0            2.0\n",
       "3      484  2020  484202001  ...     21500.0             2.0            2.0\n",
       "4      484  2020  484202001  ...      8600.0             2.0            2.0\n",
       "\n",
       "[5 rows x 23 columns]"
      ]
     },
     "execution_count": 52,
     "metadata": {},
     "output_type": "execute_result"
    }
   ],
   "source": [
    "# Path to the output csv file for your intended country\n",
    "file_path = r'C:\\Users\\Shwarna.Bhattacharje\\Documents\\IPUMS_Datasets\\ipums_americas_data\\Mexico_ipums_2020.csv'\n",
    "\n",
    "# load the output csv file for intended country\n",
    "df = pd.read_csv(file_path)\n",
    "\n",
    "# Prview Datafrane\n",
    "df.head()\n"
   ]
  },
  {
   "cell_type": "code",
   "execution_count": 54,
   "metadata": {},
   "outputs": [
    {
     "name": "stdout",
     "output_type": "stream",
     "text": [
      "          COUNTRY  YEAR     SAMPLE  ...   INCEARN  MX2020A_AFRDES  MX2020A_INDIG\n",
      "0             484  2020  484202001  ...  99999999               2              2\n",
      "1             484  2020  484202001  ...  99999999               2              2\n",
      "2             484  2020  484202001  ...  99999999               2              2\n",
      "3             484  2020  484202001  ...     21500               2              2\n",
      "4             484  2020  484202001  ...      8600               2              2\n",
      "...           ...   ...        ...  ...       ...             ...            ...\n",
      "15015678      484  2020  484202001  ...  99999999               2              2\n",
      "15015679      484  2020  484202001  ...      6450               2              2\n",
      "15015680      484  2020  484202001  ...      5000               2              2\n",
      "15015681      484  2020  484202001  ...  99999999               2              2\n",
      "15015682      484  2020  484202001  ...  99999999               2              2\n",
      "\n",
      "[15015683 rows x 23 columns]\n",
      "COUNTRY             int64\n",
      "YEAR                int64\n",
      "SAMPLE              int64\n",
      "SERIAL              int64\n",
      "HHWT                int32\n",
      "URBAN               int64\n",
      "GEOLEV1             int64\n",
      "GEOLEV2             int64\n",
      "POPDENSGEO2       float64\n",
      "GEO2_MX2020         int32\n",
      "OWNERSHIP           int64\n",
      "OWNERSHIPD          int64\n",
      "ELECTRIC            int64\n",
      "INTERNET            int64\n",
      "PERNUM              int64\n",
      "PERWT               int32\n",
      "EDATTAIN            int64\n",
      "EDATTAIND           int64\n",
      "EMPSTAT             int64\n",
      "EMPSTATD            int64\n",
      "INCEARN             int32\n",
      "MX2020A_AFRDES      int32\n",
      "MX2020A_INDIG       int32\n",
      "dtype: object\n"
     ]
    }
   ],
   "source": [
    "# Iterate over all columns\n",
    "for col in df.columns:\n",
    "    # Check if the column is a float type and if all decimal parts are zero\n",
    "    if pd.api.types.is_float_dtype(df[col]) and (df[col] % 1 == 0).all():\n",
    "        # Convert the column to int if all decimal values are 0\n",
    "        df[col] = df[col].astype(int)\n",
    "\n",
    "# Display the DataFrame and its dtypes to confirm the conversion\n",
    "print(df)\n",
    "print(df.dtypes)\n"
   ]
  },
  {
   "cell_type": "markdown",
   "metadata": {},
   "source": [
    "## Variables"
   ]
  },
  {
   "cell_type": "markdown",
   "metadata": {},
   "source": [
    "To organize the data extraction process, create a separate folder for each country and extract all variables as CSV files into their respective folders. This organization is crucial for merging all variables into a single CSV file later."
   ]
  },
  {
   "cell_type": "markdown",
   "metadata": {
    "heading_collapsed": true
   },
   "source": [
    "### Variable: \"OWNERSHIP\"\n",
    "* Name: OWNERSHIP\n",
    "* Label: Ownership of dwelling [general version]\n",
    "* VariableText:OWNERSHIP indicates whether a member of the household owned the housing unit.Households that acquired their unit with a mortgage or other lending arrangement wereunderstood to \"own\" their unit even if they had not yet completed repayment. For thosethat did not own their housing unit, several options were possible: renting (from varioustypes of owners), subletting, usufruct, and de facto occupation.\n",
    "* Concept: Household Economic Variables -- HOUSEHOLD\n",
    "* List of Values with Label: 0 (NIU/not in universe); 1 (Owned); 2 (Not owned), 9 (Unknown)\n",
    "\n",
    "\n"
   ]
  },
  {
   "cell_type": "code",
   "execution_count": 79,
   "metadata": {
    "hidden": true
   },
   "outputs": [
    {
     "name": "stdout",
     "output_type": "stream",
     "text": [
      "          COUNTRY  YEAR     SAMPLE  ...   INCEARN  MX2020A_AFRDES  MX2020A_INDIG\n",
      "0             484  2020  484202001  ...  99999999               2              2\n",
      "1             484  2020  484202001  ...  99999999               2              2\n",
      "2             484  2020  484202001  ...  99999999               2              2\n",
      "3             484  2020  484202001  ...     21500               2              2\n",
      "4             484  2020  484202001  ...      8600               2              2\n",
      "...           ...   ...        ...  ...       ...             ...            ...\n",
      "15015678      484  2020  484202001  ...  99999999               2              2\n",
      "15015679      484  2020  484202001  ...      6450               2              2\n",
      "15015680      484  2020  484202001  ...      5000               2              2\n",
      "15015681      484  2020  484202001  ...  99999999               2              2\n",
      "15015682      484  2020  484202001  ...  99999999               2              2\n",
      "\n",
      "[14978866 rows x 23 columns]\n"
     ]
    }
   ],
   "source": [
    "# Get the unique values of 'OWNERSHIP' column\n",
    "df.OWNERSHIP.unique()\n",
    "\n",
    "# Filtering out rows where 'OWNERSHIP' = 0 since 0 equal to NIU(Not in universe)\n",
    "filtered_df = df[df['OWNERSHIP']!= 0]\n",
    "\n",
    "print(filtered_df)"
   ]
  },
  {
   "cell_type": "code",
   "execution_count": 80,
   "metadata": {
    "hidden": true
   },
   "outputs": [
    {
     "name": "stdout",
     "output_type": "stream",
     "text": [
      "      GEO2_MX2020  OWNERSHIP  Estimated_HH\n",
      "0            1001          1        655119\n",
      "1            1001          2        287356\n",
      "2            1002          1         43069\n",
      "3            1002          2          8222\n",
      "4            1003          1         37839\n",
      "...           ...        ...           ...\n",
      "5257        32056          2         44478\n",
      "5258        32057          1         18665\n",
      "5259        32057          2          1784\n",
      "5260        32058          1          1763\n",
      "5261        32058          2           996\n",
      "\n",
      "[5262 rows x 3 columns]\n",
      "      GEO2_MX2020  Estimated_HH_GEOL2\n",
      "0            1001              942475\n",
      "1            1002               51291\n",
      "2            1003               58155\n",
      "3            1004               16952\n",
      "4            1005              129850\n",
      "...           ...                 ...\n",
      "2464        32054               19426\n",
      "2465        32055               31362\n",
      "2466        32056              147845\n",
      "2467        32057               20449\n",
      "2468        32058                2759\n",
      "\n",
      "[2469 rows x 2 columns]\n",
      "      GEO2_MX2020  OWNERSHIP  Estimated_HH  Estimated_HH_GEOL2    pct\n",
      "0            1001          1        655119              942475  69.51\n",
      "1            1001          2        287356              942475  30.49\n",
      "2            1002          1         43069               51291  83.97\n",
      "3            1002          2          8222               51291  16.03\n",
      "4            1003          1         37839               58155  65.07\n",
      "...           ...        ...           ...                 ...    ...\n",
      "5257        32056          2         44478              147845  30.08\n",
      "5258        32057          1         18665               20449  91.28\n",
      "5259        32057          2          1784               20449   8.72\n",
      "5260        32058          1          1763                2759  63.90\n",
      "5261        32058          2           996                2759  36.10\n",
      "\n",
      "[5262 rows x 5 columns]\n"
     ]
    }
   ],
   "source": [
    "# Group by GEO2_MX2020 and OWNERSHIP, summing the 'HHWT' for calculation estimated household for each group \n",
    "grouped_data = filtered_df.groupby(['GEO2_MX2020', 'OWNERSHIP']).agg(Estimated_HH=('HHWT', 'sum')).reset_index()\n",
    "print(grouped_data)\n",
    "\n",
    "# Calculate estimated household for each smaller geographic region\n",
    "Estimated_household = grouped_data.groupby('GEO2_MX2020')['Estimated_HH'].sum().reset_index(name='Estimated_HH_GEOL2')\n",
    "print(Estimated_household)\n",
    "\n",
    "# Merge the estimated household back to the grouped data\n",
    "grouped_data = grouped_data.merge(Estimated_household, on='GEO2_MX2020', how='left')\n",
    "\n",
    "# Calculate the proportion (percentage) of people  by municipality\n",
    "grouped_data['pct'] = grouped_data['Estimated_HH'] / grouped_data['Estimated_HH_GEOL2']*100\n",
    "\n",
    "#rounding the value into 2 decimals\n",
    "grouped_data['pct'] = grouped_data['pct'].round(2)\n",
    "\n",
    "\n",
    "# Display the results\n",
    "print(grouped_data)"
   ]
  },
  {
   "cell_type": "markdown",
   "metadata": {
    "hidden": true
   },
   "source": [
    "#### Calculating estimated households of \"OWNERSHIP\" Var\n",
    "\n",
    "Variable List:\n",
    "* 1 : OWNED_HH\n",
    "* 2 : UNOWNED_HH\n",
    "* 9 : OWNED_UK_HH"
   ]
  },
  {
   "cell_type": "code",
   "execution_count": 81,
   "metadata": {
    "hidden": true
   },
   "outputs": [
    {
     "name": "stdout",
     "output_type": "stream",
     "text": [
      "OWNERSHIP         1       2  9\n",
      "GEO2_MX2020                   \n",
      "1001         655119  287356  0\n",
      "1002          43069    8222  0\n",
      "1003          37839   20316  0\n",
      "1004          13988    2964  0\n",
      "1005          90189   39661  0\n",
      "...             ...     ... ..\n",
      "32054         16664    2762  0\n",
      "32055         21752    9610  0\n",
      "32056        103367   44478  0\n",
      "32057         18665    1784  0\n",
      "32058          1763     996  0\n",
      "\n",
      "[2469 rows x 3 columns]\n",
      "\n",
      "Pivot table:\n",
      " OWNERSHIP  GEO2_MX2020  OWNED_HH  UNOWNED_HH  OWNED_UK_HH\n",
      "0                 1001    655119      287356            0\n",
      "1                 1002     43069        8222            0\n",
      "2                 1003     37839       20316            0\n",
      "3                 1004     13988        2964            0\n",
      "4                 1005     90189       39661            0\n",
      "...                ...       ...         ...          ...\n",
      "2464             32054     16664        2762            0\n",
      "2465             32055     21752        9610            0\n",
      "2466             32056    103367       44478            0\n",
      "2467             32057     18665        1784            0\n",
      "2468             32058      1763         996            0\n",
      "\n",
      "[2469 rows x 4 columns]\n"
     ]
    }
   ],
   "source": [
    "## Create a pivot table with 'OWNERSHIP' categories\n",
    "pivot_table = grouped_data.pivot_table(\n",
    "    index='GEO2_MX2020',  # Rows will be municipalities\n",
    "    columns='OWNERSHIP',   # Columns will be EDATTAIN categories\n",
    "    values='Estimated_HH',  # Values to be aggregated\n",
    "    aggfunc='sum',        # Sum the values for aggregation\n",
    "    fill_value=0          # Fill missing values with 0\n",
    ")\n",
    "\n",
    "pivot_table1 = pivot_table.reset_index()\n",
    "print(pivot_table)\n",
    "\n",
    "# Rename the columns of pivot table for \"OWNERSHIP\" variable\n",
    "# rename it based on datatsets.\n",
    "pivot_table_OWNERSHIP = pivot_table1.rename(columns={1: 'OWNED_HH', 2: 'UNOWNED_HH', \n",
    "                                       9 : 'OWNED_UK_HH' })\n",
    "\n",
    "# Export the DataFrame to a CSV file\n",
    "pivot_table_OWNERSHIP.to_csv(r'C:\\Users\\Shwarna.Bhattacharje\\Documents\\IPUMS_Datasets\\Dataset_output\\Mexico_2020\\MX20_OWNERSHIP.csv', index=False, encoding='utf-8')\n",
    "\n",
    "# Display the modified DataFrame\n",
    "print(\"\\nPivot table:\\n\", pivot_table_OWNERSHIP)"
   ]
  },
  {
   "cell_type": "markdown",
   "metadata": {
    "hidden": true
   },
   "source": [
    "#### Calculatiing percentage of \"OWNERSHIP\" Var\n",
    "\n",
    "Variable List:\n",
    "* 1 : OWNED_PCT\n",
    "* 2 : UNOWNED_PCT \n",
    "* 9 : OWNED_UK_PCT"
   ]
  },
  {
   "cell_type": "code",
   "execution_count": 82,
   "metadata": {
    "hidden": true
   },
   "outputs": [
    {
     "name": "stdout",
     "output_type": "stream",
     "text": [
      "OWNERSHIP  GEO2_MX2020      1      2    9\n",
      "0                 1001  69.51  30.49  0.0\n",
      "1                 1002  83.97  16.03  0.0\n",
      "2                 1003  65.07  34.93  0.0\n",
      "3                 1004  82.52  17.48  0.0\n",
      "4                 1005  69.46  30.54  0.0\n",
      "...                ...    ...    ...  ...\n",
      "2464             32054  85.78  14.22  0.0\n",
      "2465             32055  69.36  30.64  0.0\n",
      "2466             32056  69.92  30.08  0.0\n",
      "2467             32057  91.28   8.72  0.0\n",
      "2468             32058  63.90  36.10  0.0\n",
      "\n",
      "[2469 rows x 4 columns]\n",
      "\n",
      "Pivot table:\n",
      " OWNERSHIP  GEO2_MX2020  OWNED_PCT  UNOWNED_PCT  OWNED_UK_PCT\n",
      "0                 1001      69.51        30.49           0.0\n",
      "1                 1002      83.97        16.03           0.0\n",
      "2                 1003      65.07        34.93           0.0\n",
      "3                 1004      82.52        17.48           0.0\n",
      "4                 1005      69.46        30.54           0.0\n",
      "...                ...        ...          ...           ...\n",
      "2464             32054      85.78        14.22           0.0\n",
      "2465             32055      69.36        30.64           0.0\n",
      "2466             32056      69.92        30.08           0.0\n",
      "2467             32057      91.28         8.72           0.0\n",
      "2468             32058      63.90        36.10           0.0\n",
      "\n",
      "[2469 rows x 4 columns]\n"
     ]
    }
   ],
   "source": [
    "## Create a pivot table with 'OWNERSHIP' categories\n",
    "pivot_table = grouped_data.pivot_table(\n",
    "    index='GEO2_MX2020',  # Rows will be municipalities\n",
    "    columns='OWNERSHIP',   # Columns will be 'OWNERSHIP' categories\n",
    "    values='pct',  # Values to be aggregated\n",
    "    aggfunc='sum',        # Sum the values for aggregation\n",
    "    fill_value=0          # Fill missing values with 0\n",
    ")\n",
    "\n",
    "pivot_table = pivot_table.reset_index()\n",
    "print(pivot_table)\n",
    "\n",
    "# Rename the columns of pivot table for \"EDATTAIN\" variable\n",
    "# rename it based on datatsets.\n",
    "pivot_table_OWNERSHIP = pivot_table.rename(columns= {1: 'OWNED_PCT', 2: 'UNOWNED_PCT', 9 : 'OWNED_UK_PCT' })\n",
    "                                       \n",
    "# Print Ownership variable in a pivot table\n",
    "print(\"\\nPivot table:\\n\", pivot_table_OWNERSHIP)"
   ]
  },
  {
   "cell_type": "code",
   "execution_count": 83,
   "metadata": {
    "hidden": true
   },
   "outputs": [
    {
     "name": "stdout",
     "output_type": "stream",
     "text": [
      "      GEO2_MX2020  OWNED_HH  UNOWNED_HH  ...  OWNED_PCT  UNOWNED_PCT  OWNED_UK_PCT\n",
      "0            1001    655119      287356  ...      69.51        30.49           0.0\n",
      "1            1002     43069        8222  ...      83.97        16.03           0.0\n",
      "2            1003     37839       20316  ...      65.07        34.93           0.0\n",
      "3            1004     13988        2964  ...      82.52        17.48           0.0\n",
      "4            1005     90189       39661  ...      69.46        30.54           0.0\n",
      "...           ...       ...         ...  ...        ...          ...           ...\n",
      "2464        32054     16664        2762  ...      85.78        14.22           0.0\n",
      "2465        32055     21752        9610  ...      69.36        30.64           0.0\n",
      "2466        32056    103367       44478  ...      69.92        30.08           0.0\n",
      "2467        32057     18665        1784  ...      91.28         8.72           0.0\n",
      "2468        32058      1763         996  ...      63.90        36.10           0.0\n",
      "\n",
      "[2469 rows x 7 columns]\n"
     ]
    }
   ],
   "source": [
    "# Ensure both 'GEO2_MX2020' are of the same data type, convert to integer\n",
    "pivot_table_OWNERSHIP['GEO2_MX2020'] = pivot_table_OWNERSHIP['GEO2_MX2020'].astype(int)\n",
    "\n",
    "# Load the previously exported csv file on OWNERSHIP\n",
    "OWNERSHIP_CSV_file = pd.read_csv(r'C:\\Users\\Shwarna.Bhattacharje\\Documents\\IPUMS_Datasets\\Dataset_output\\Mexico_2020\\MX20_OWNERSHIP.csv')\n",
    "\n",
    "# merge the PCT data to the OWNERSHIP_CSV_fil\n",
    "merged_data = OWNERSHIP_CSV_file.merge(pivot_table_OWNERSHIP, on= 'GEO2_MX2020', how= 'left')\n",
    "\n",
    "# Export the DataFrame to the previously exported CSV file\n",
    "merged_data.to_csv(r'C:\\Users\\Shwarna.Bhattacharje\\Documents\\IPUMS_Datasets\\Dataset_output\\Mexico_2020\\MX20_OWNERSHIP.csv', index=False)\n",
    "\n",
    "# Display the modified DataFrame\n",
    "print(merged_data)"
   ]
  },
  {
   "cell_type": "markdown",
   "metadata": {
    "heading_collapsed": true
   },
   "source": [
    "### Variable: \"EDATTAIN\"\n",
    "* Name: EDATTAIN\n",
    "* Label: Educational attainment, international recode [general version]\n",
    "* VariableText: EDATTAIN records the person's educational attainment in terms of the level of schoolingcompleted (degree or other milestone). The emphasis on level completed is critical: aperson attending the final year of secondary education receives the code for havingcompleted lower secondary only -- and in some samples only primary. EDATTAIN does not necessarily reflect any particular country's definition of the various levelsof schooling in terms of terminology or the number of years of schooling. EDATTAIN is anattempt to merge  into a single, roughly comparable variable -- samples that providedegrees, ones that provide actual years of schooling, and those that have some of both. Inaddition to EDATTAIN, a country-specific education classification is provided which loses noinformation and reflects the particular educational system of that country (for exampleEDUCBR for Brazil, EDUCCL for Chile, and EDUCUS for the United States). As always, userscan refer to the original education source variables for each sample, if they wish. Many samples also give single years of schooling completed, recorded in YRSCHOOL. Somesamples provide educational information in a form that could not be incorporated into EDATTAIN.\n",
    "* Concept: Education Variables -- PERSON\n",
    "* List of Values with Label: 0 (NIU/not in universe); 1 (Less than primary completed);\n",
    "    2 (Primary completed); 3 (Secondary completed); 4 (University completed); 9 (Unknown)\n",
    "    "
   ]
  },
  {
   "cell_type": "code",
   "execution_count": 67,
   "metadata": {
    "hidden": true
   },
   "outputs": [
    {
     "name": "stdout",
     "output_type": "stream",
     "text": [
      "          COUNTRY  YEAR     SAMPLE  ...   INCEARN  MX2020A_AFRDES  MX2020A_INDIG\n",
      "0             484  2020  484202001  ...  99999999               2              2\n",
      "1             484  2020  484202001  ...  99999999               2              2\n",
      "2             484  2020  484202001  ...  99999999               2              2\n",
      "3             484  2020  484202001  ...     21500               2              2\n",
      "4             484  2020  484202001  ...      8600               2              2\n",
      "...           ...   ...        ...  ...       ...             ...            ...\n",
      "15015678      484  2020  484202001  ...  99999999               2              2\n",
      "15015679      484  2020  484202001  ...      6450               2              2\n",
      "15015680      484  2020  484202001  ...      5000               2              2\n",
      "15015681      484  2020  484202001  ...  99999999               2              2\n",
      "15015682      484  2020  484202001  ...  99999999               2              2\n",
      "\n",
      "[14217576 rows x 23 columns]\n"
     ]
    }
   ],
   "source": [
    "# Get the unique values of 'EDATTAIN' column\n",
    "df.EDATTAIN.unique()\n",
    "\n",
    "#Filtering out rows where 'EDATTAIN' = 0 since 0 equal to NIU(Not in universe)\n",
    "filtered_df = df[df['EDATTAIN']!= 0]\n",
    "\n",
    "print(filtered_df)"
   ]
  },
  {
   "cell_type": "code",
   "execution_count": 68,
   "metadata": {
    "hidden": true
   },
   "outputs": [
    {
     "name": "stdout",
     "output_type": "stream",
     "text": [
      "       GEO2_MX2020  EDATTAIN  Estimated_pop\n",
      "0             1001         1         199619\n",
      "1             1001         2         358805\n",
      "2             1001         3         197654\n",
      "3             1001         4         143791\n",
      "4             1001         9           1393\n",
      "...            ...       ...            ...\n",
      "12135        32058         1           1002\n",
      "12136        32058         2           1190\n",
      "12137        32058         3            295\n",
      "12138        32058         4            149\n",
      "12139        32058         9              8\n",
      "\n",
      "[12140 rows x 3 columns]\n",
      "      GEO2_MX2020  Estimated_pop_GEOL2\n",
      "0            1001               901262\n",
      "1            1002                48275\n",
      "2            1003                55019\n",
      "3            1004                15959\n",
      "4            1005               122544\n",
      "...           ...                  ...\n",
      "2464        32054                18042\n",
      "2465        32055                29987\n",
      "2466        32056               140760\n",
      "2467        32057                19052\n",
      "2468        32058                 2644\n",
      "\n",
      "[2469 rows x 2 columns]\n",
      "       GEO2_MX2020  EDATTAIN  Estimated_pop  Estimated_pop_GEOL2    pct\n",
      "0             1001         1         199619               901262  22.15\n",
      "1             1001         2         358805               901262  39.81\n",
      "2             1001         3         197654               901262  21.93\n",
      "3             1001         4         143791               901262  15.95\n",
      "4             1001         9           1393               901262   0.15\n",
      "...            ...       ...            ...                  ...    ...\n",
      "12135        32058         1           1002                 2644  37.90\n",
      "12136        32058         2           1190                 2644  45.01\n",
      "12137        32058         3            295                 2644  11.16\n",
      "12138        32058         4            149                 2644   5.64\n",
      "12139        32058         9              8                 2644   0.30\n",
      "\n",
      "[12140 rows x 5 columns]\n"
     ]
    }
   ],
   "source": [
    "# Group by GEO2_MX2020 and EDATTAIN, summing the 'PERWT' for calculation estimated population for each group \n",
    "grouped_data = filtered_df.groupby(['GEO2_MX2020', 'EDATTAIN']).agg(Estimated_pop=('PERWT', 'sum')).reset_index()\n",
    "print(grouped_data)\n",
    "\n",
    "# Calculate estimated population for each smaller geographic region\n",
    "Estimated_population = grouped_data.groupby('GEO2_MX2020')['Estimated_pop'].sum().reset_index(name='Estimated_pop_GEOL2')\n",
    "print(Estimated_population)\n",
    "\n",
    "# Merge the total weights back to the grouped data\n",
    "grouped_data = grouped_data.merge(Estimated_population, on='GEO2_MX2020', how='left')\n",
    "\n",
    "# Calculate the proportion (percentage) of people  by municipality\n",
    "grouped_data['pct'] = grouped_data['Estimated_pop'] / grouped_data['Estimated_pop_GEOL2']*100\n",
    "\n",
    "#rounding the value into 2 decimals\n",
    "grouped_data['pct'] = grouped_data['pct'].round(2)\n",
    "\n",
    "\n",
    "# Display the results\n",
    "print(grouped_data)"
   ]
  },
  {
   "cell_type": "markdown",
   "metadata": {
    "hidden": true
   },
   "source": [
    "#### Calculating Estimated Pop for \"EDATTAIN\" var\n",
    "\n",
    "Variable List:\n",
    "* 1 : EDU_LESS_PRIM_POP\n",
    "* 2 : EDU_PRIM_POP\n",
    "* 3 : EDU_SEC_POP\n",
    "* 4 : EDU_UNI_POP\n",
    "* 9 : EDU_UK_POP"
   ]
  },
  {
   "cell_type": "code",
   "execution_count": 69,
   "metadata": {
    "hidden": true
   },
   "outputs": [
    {
     "name": "stdout",
     "output_type": "stream",
     "text": [
      "EDATTAIN  GEO2_MX2020       1       2       3       4     9\n",
      "0                1001  199619  358805  197654  143791  1393\n",
      "1                1002   15980   23779    6551    1907    58\n",
      "2                1003   18892   27660    6458    1943    66\n",
      "3                1004    4813    7961    2525     638    22\n",
      "4                1005   35344   47933   22332   16752   183\n",
      "...               ...     ...     ...     ...     ...   ...\n",
      "2464            32054    6733    9380    1596     291    42\n",
      "2465            32055    9866   14619    3742    1745    15\n",
      "2466            32056   29428   49517   29300   32285   230\n",
      "2467            32057    5862   10114    2311     730    35\n",
      "2468            32058    1002    1190     295     149     8\n",
      "\n",
      "[2469 rows x 6 columns]\n",
      "\n",
      "Pivot table:\n",
      " EDATTAIN  GEO2_MX2020  EDU_LESS_PRIM_POP  ...  EDU_UNI_POP  EDU_UK_POP\n",
      "0                1001             199619  ...       143791        1393\n",
      "1                1002              15980  ...         1907          58\n",
      "2                1003              18892  ...         1943          66\n",
      "3                1004               4813  ...          638          22\n",
      "4                1005              35344  ...        16752         183\n",
      "...               ...                ...  ...          ...         ...\n",
      "2464            32054               6733  ...          291          42\n",
      "2465            32055               9866  ...         1745          15\n",
      "2466            32056              29428  ...        32285         230\n",
      "2467            32057               5862  ...          730          35\n",
      "2468            32058               1002  ...          149           8\n",
      "\n",
      "[2469 rows x 6 columns]\n"
     ]
    }
   ],
   "source": [
    "\n",
    "## Create a pivot table with EDATTAIN categories\n",
    "pivot_table = grouped_data.pivot_table(\n",
    "    index='GEO2_MX2020',  # Rows will be municipalities\n",
    "    columns='EDATTAIN',   # Columns will be EDATTAIN categories\n",
    "    values='Estimated_pop',  # Values to be aggregated\n",
    "    aggfunc='sum',        # Sum the values for aggregation\n",
    "    fill_value=0          # Fill missing values with 0\n",
    ")\n",
    "\n",
    "pivot_table1 = pivot_table.reset_index()\n",
    "print(pivot_table1)\n",
    "\n",
    "# Rename the columns of pivot table for \"EDATTAIN\" variable\n",
    "# rename it based on datatsets.\n",
    "pivot_table_EDATTAIN = pivot_table1.rename(columns={1: 'EDU_LESS_PRIM_POP', 2: 'EDU_PRIM_POP',3: 'EDU_SEC_POP',4:'EDU_UNI_POP', \n",
    "                                       9 : 'EDU_UK_POP' })\n",
    "\n",
    "# Print \"EDATTAIN\" variable in a pivot table\n",
    "print(\"\\nPivot table:\\n\", pivot_table_EDATTAIN)\n"
   ]
  },
  {
   "cell_type": "code",
   "execution_count": 70,
   "metadata": {
    "hidden": true
   },
   "outputs": [
    {
     "name": "stdout",
     "output_type": "stream",
     "text": [
      "\n",
      "Pivot table:\n",
      " EDATTAIN  YEAR  TOTAL_POP_MX20  ...  EDU_UNI_POP  EDU_UK_POP\n",
      "0         2020       125515554  ...       143791        1393\n",
      "1         2020       125515554  ...         1907          58\n",
      "2         2020       125515554  ...         1943          66\n",
      "3         2020       125515554  ...          638          22\n",
      "4         2020       125515554  ...        16752         183\n",
      "...        ...             ...  ...          ...         ...\n",
      "2464      2020       125515554  ...          291          42\n",
      "2465      2020       125515554  ...         1745          15\n",
      "2466      2020       125515554  ...        32285         230\n",
      "2467      2020       125515554  ...          730          35\n",
      "2468      2020       125515554  ...          149           8\n",
      "\n",
      "[2469 rows x 8 columns]\n",
      "\n",
      "Pivot table:\n",
      " EDATTAIN  YEAR  TOTAL_POP_MX20  ...  EDU_UNI_POP  EDU_UK_POP\n",
      "0         2020       125515554  ...       143791        1393\n",
      "1         2020       125515554  ...         1907          58\n",
      "2         2020       125515554  ...         1943          66\n",
      "3         2020       125515554  ...          638          22\n",
      "4         2020       125515554  ...        16752         183\n",
      "...        ...             ...  ...          ...         ...\n",
      "2464      2020       125515554  ...          291          42\n",
      "2465      2020       125515554  ...         1745          15\n",
      "2466      2020       125515554  ...        32285         230\n",
      "2467      2020       125515554  ...          730          35\n",
      "2468      2020       125515554  ...          149           8\n",
      "\n",
      "[2469 rows x 8 columns]\n"
     ]
    }
   ],
   "source": [
    "# Add Year  variable in the pivot table\n",
    "# Since year values are constant \n",
    "# Create a new coloumn for the pivot table\n",
    "pivot_table_EDATTAIN['YEAR'] = '2020'\n",
    "\n",
    "# Calculate the total population of Mexico\n",
    "pivot_table_EDATTAIN['TOTAL_POP_MX20'] = df['PERWT'].sum()\n",
    "# Reorder columns to place the new columns after 'YEAR' and 'TOTAL_POP_MX20' after 'YEAR'\n",
    "cols = ['YEAR', 'TOTAL_POP_MX20'] + [col for col in pivot_table_EDATTAIN.columns if col not in ['YEAR', 'TOTAL_POP_MX20']]\n",
    "pivot_table_EDATTAIN = pivot_table_EDATTAIN[cols]\n",
    "\n",
    "# # Add the index column to the exported table\n",
    "# PR_pivot_table_Race.reset_index(inplace=True)\n",
    "print(\"\\nPivot table:\\n\", pivot_table_EDATTAIN)\n",
    "\n",
    "# Export the DataFrame to a CSV file\n",
    "pivot_table_EDATTAIN.to_csv(r'C:\\Users\\Shwarna.Bhattacharje\\Documents\\IPUMS_Datasets\\Dataset_output\\Mexico_2020\\MX20_EDATTAIN.csv', index=False, encoding='utf-8')\n",
    "\n",
    "# Print \"EDATTAIN\" variable in a pivot table\n",
    "print(\"\\nPivot table:\\n\", pivot_table_EDATTAIN)\n"
   ]
  },
  {
   "cell_type": "markdown",
   "metadata": {
    "hidden": true
   },
   "source": [
    "#### Calculating Percenatge of \"EDATTAIN\" Var\n",
    "\n",
    "Variable List:\n",
    "* 1 : EDU_LESS_PRIM_PCT\n",
    "* 2 : EDU_PRIM_PCT\n",
    "* 3 : EDU_SEC_PCT\n",
    "* 4 : EDU_UNI_PCT\n",
    "* 9 : EDU_UK_PCT"
   ]
  },
  {
   "cell_type": "code",
   "execution_count": 71,
   "metadata": {
    "hidden": true
   },
   "outputs": [
    {
     "name": "stdout",
     "output_type": "stream",
     "text": [
      "EDATTAIN  GEO2_MX2020      1      2      3      4     9\n",
      "0                1001  22.15  39.81  21.93  15.95  0.15\n",
      "1                1002  33.10  49.26  13.57   3.95  0.12\n",
      "2                1003  34.34  50.27  11.74   3.53  0.12\n",
      "3                1004  30.16  49.88  15.82   4.00  0.14\n",
      "4                1005  28.84  39.11  18.22  13.67  0.15\n",
      "...               ...    ...    ...    ...    ...   ...\n",
      "2464            32054  37.32  51.99   8.85   1.61  0.23\n",
      "2465            32055  32.90  48.75  12.48   5.82  0.05\n",
      "2466            32056  20.91  35.18  20.82  22.94  0.16\n",
      "2467            32057  30.77  53.09  12.13   3.83  0.18\n",
      "2468            32058  37.90  45.01  11.16   5.64  0.30\n",
      "\n",
      "[2469 rows x 6 columns]\n",
      "\n",
      "Pivot table:\n",
      " EDATTAIN  GEO2_MX2020  EDU_LESS_PRIM_PCT  ...  EDU_UNI_PCT  EDU_UK_PCT\n",
      "0                1001              22.15  ...        15.95        0.15\n",
      "1                1002              33.10  ...         3.95        0.12\n",
      "2                1003              34.34  ...         3.53        0.12\n",
      "3                1004              30.16  ...         4.00        0.14\n",
      "4                1005              28.84  ...        13.67        0.15\n",
      "...               ...                ...  ...          ...         ...\n",
      "2464            32054              37.32  ...         1.61        0.23\n",
      "2465            32055              32.90  ...         5.82        0.05\n",
      "2466            32056              20.91  ...        22.94        0.16\n",
      "2467            32057              30.77  ...         3.83        0.18\n",
      "2468            32058              37.90  ...         5.64        0.30\n",
      "\n",
      "[2469 rows x 6 columns]\n"
     ]
    }
   ],
   "source": [
    "\n",
    "## Create a pivot table with EDATTAIN categories\n",
    "pivot_table = grouped_data.pivot_table(\n",
    "    index='GEO2_MX2020',  # Rows will be municipalities\n",
    "    columns='EDATTAIN',   # Columns will be EDATTAIN categories\n",
    "    values='pct',  # Values to be aggregated\n",
    "    aggfunc='sum',        # Sum the values for aggregation\n",
    "    fill_value=0          # Fill missing values with 0\n",
    ")\n",
    "\n",
    "pivot_table1 = pivot_table.reset_index()\n",
    "print(pivot_table1)\n",
    "\n",
    "# Rename the columns of pivot table for \"EDATTAIN\" variable\n",
    "# rename it based on datatsets.\n",
    "pivot_table_EDATTAIN = pivot_table1.rename(columns={1: 'EDU_LESS_PRIM_PCT', 2: 'EDU_PRIM_PCT',3: 'EDU_SEC_PCT',4:'EDU_UNI_PCT', \n",
    "                                       9 : 'EDU_UK_PCT' })\n",
    "# Print EDATTAIN variable in a pivot table\n",
    "print(\"\\nPivot table:\\n\", pivot_table_EDATTAIN)\n"
   ]
  },
  {
   "cell_type": "code",
   "execution_count": 72,
   "metadata": {
    "hidden": true
   },
   "outputs": [
    {
     "name": "stdout",
     "output_type": "stream",
     "text": [
      "      YEAR  TOTAL_POP_MX20  GEO2_MX2020  ...  EDU_SEC_PCT  EDU_UNI_PCT  EDU_UK_PCT\n",
      "0     2020       125515554         1001  ...        21.93        15.95        0.15\n",
      "1     2020       125515554         1002  ...        13.57         3.95        0.12\n",
      "2     2020       125515554         1003  ...        11.74         3.53        0.12\n",
      "3     2020       125515554         1004  ...        15.82         4.00        0.14\n",
      "4     2020       125515554         1005  ...        18.22        13.67        0.15\n",
      "...    ...             ...          ...  ...          ...          ...         ...\n",
      "2464  2020       125515554        32054  ...         8.85         1.61        0.23\n",
      "2465  2020       125515554        32055  ...        12.48         5.82        0.05\n",
      "2466  2020       125515554        32056  ...        20.82        22.94        0.16\n",
      "2467  2020       125515554        32057  ...        12.13         3.83        0.18\n",
      "2468  2020       125515554        32058  ...        11.16         5.64        0.30\n",
      "\n",
      "[2469 rows x 13 columns]\n"
     ]
    }
   ],
   "source": [
    "# Ensure both 'GEO2_MX2020' are of the same data type, convert to integer\n",
    "\n",
    "pivot_table_EDATTAIN['GEO2_MX2020'] = pivot_table_EDATTAIN['GEO2_MX2020'].astype(int)\n",
    "\n",
    "# Load the previously exported csv file on EDATTAIN\n",
    "EDATTAIN_CSV_file = pd.read_csv(r'C:\\Users\\Shwarna.Bhattacharje\\Documents\\IPUMS_Datasets\\Dataset_output\\Mexico_2020\\MX20_EDATTAIN.csv')\n",
    "\n",
    "# merge the PCT data to the EDATTAIN_CSV_file\n",
    "merged_data = EDATTAIN_CSV_file.merge(pivot_table_EDATTAIN, on= 'GEO2_MX2020', how= 'left')\n",
    "\n",
    "# Export the DataFrame to the previously exported CSV file\n",
    "merged_data.to_csv(r'C:\\Users\\Shwarna.Bhattacharje\\Documents\\IPUMS_Datasets\\Dataset_output\\Mexico_2020\\MX20_EDATTAIN.csv', index=False)\n",
    "\n",
    "# Display the modified DataFrame\n",
    "print(merged_data)"
   ]
  },
  {
   "cell_type": "markdown",
   "metadata": {
    "heading_collapsed": true
   },
   "source": [
    "### Variable: \"EMPSTAT\"\n",
    "* Name: EMPSTAT\n",
    "* Label: Activity status (employment status) [general version]\n",
    "* VariableText: EMPSTAT indicates whether or not the respondent was part of the labor force working orseeking work -- over a specified period of time. Depending on the sample, EMPSTAT canalso convey further information. The first digit of EMPSTAT is fully comparable, and classifies the population into threegroups: employed, unemployed, and inactive. The combination of employed andunemployed yields the total labor force. The second and third digits of EMPSTAT preserveadditional information available for some countries and census years but not for others. Employment status is sometimes referred to in other sources as \"activity status\".\n",
    "* Concept: Work Variables -- PERSON\n",
    "* List of Values with Label: 0 (NIU/not in universe); 1 (Employed);\n",
    "    2 (Unemployed); 3 (Inactive); 9 (Unknown)\n"
   ]
  },
  {
   "cell_type": "code",
   "execution_count": 90,
   "metadata": {
    "hidden": true
   },
   "outputs": [
    {
     "name": "stdout",
     "output_type": "stream",
     "text": [
      "          COUNTRY  YEAR     SAMPLE  ...   INCEARN  MX2020A_AFRDES  MX2020A_INDIG\n",
      "0             484  2020  484202001  ...  99999999               2              2\n",
      "1             484  2020  484202001  ...  99999999               2              2\n",
      "2             484  2020  484202001  ...  99999999               2              2\n",
      "3             484  2020  484202001  ...     21500               2              2\n",
      "4             484  2020  484202001  ...      8600               2              2\n",
      "...           ...   ...        ...  ...       ...             ...            ...\n",
      "15015678      484  2020  484202001  ...  99999999               2              2\n",
      "15015679      484  2020  484202001  ...      6450               2              2\n",
      "15015680      484  2020  484202001  ...      5000               2              2\n",
      "15015681      484  2020  484202001  ...  99999999               2              2\n",
      "15015682      484  2020  484202001  ...  99999999               2              2\n",
      "\n",
      "[11603846 rows x 23 columns]\n"
     ]
    }
   ],
   "source": [
    "# Get the unique values of 'EMPSTAT' column\n",
    "df.EMPSTAT.unique()\n",
    "\n",
    "#Filtering out rows where 'EMPSTAT' = 0 since 0 equal to NIU(Not in universe)\n",
    "filtered_df = df[df['EMPSTAT']!= 0]\n",
    "\n",
    "print(filtered_df)"
   ]
  },
  {
   "cell_type": "code",
   "execution_count": 91,
   "metadata": {
    "hidden": true,
    "scrolled": true
   },
   "outputs": [
    {
     "name": "stdout",
     "output_type": "stream",
     "text": [
      "      GEO2_MX2020  EMPSTAT  Estimated_pop\n",
      "0            1001        1         438864\n",
      "1            1001        2          32961\n",
      "2            1001        3         279070\n",
      "3            1001        9           1110\n",
      "4            1002        1          17985\n",
      "...           ...      ...            ...\n",
      "9787        32057        9             45\n",
      "9788        32058        1            791\n",
      "9789        32058        2            287\n",
      "9790        32058        3           1098\n",
      "9791        32058        9             10\n",
      "\n",
      "[9792 rows x 3 columns]\n",
      "      GEO2_MX2020  Estimated_pop_GEOL2\n",
      "0            1001               752005\n",
      "1            1002                38704\n",
      "2            1003                45196\n",
      "3            1004                12837\n",
      "4            1005                98692\n",
      "...           ...                  ...\n",
      "2464        32054                13995\n",
      "2465        32055                25010\n",
      "2466        32056               119573\n",
      "2467        32057                15115\n",
      "2468        32058                 2186\n",
      "\n",
      "[2469 rows x 2 columns]\n",
      "      GEO2_MX2020  EMPSTAT  Estimated_pop  Estimated_pop_GEOL2    pct\n",
      "0            1001        1         438864               752005  58.36\n",
      "1            1001        2          32961               752005   4.38\n",
      "2            1001        3         279070               752005  37.11\n",
      "3            1001        9           1110               752005   0.15\n",
      "4            1002        1          17985                38704  46.47\n",
      "...           ...      ...            ...                  ...    ...\n",
      "9787        32057        9             45                15115   0.30\n",
      "9788        32058        1            791                 2186  36.18\n",
      "9789        32058        2            287                 2186  13.13\n",
      "9790        32058        3           1098                 2186  50.23\n",
      "9791        32058        9             10                 2186   0.46\n",
      "\n",
      "[9792 rows x 5 columns]\n"
     ]
    }
   ],
   "source": [
    "# Group by GEO2_MX2020 and EMPSTAT, summing the 'PERWT' for calculation estimated population for each group \n",
    "grouped_data = filtered_df.groupby(['GEO2_MX2020', 'EMPSTAT']).agg(Estimated_pop=('PERWT', 'sum')).reset_index()\n",
    "print(grouped_data)\n",
    "\n",
    "# Calculate estimated population for each smaller geographic region\n",
    "Estimated_population = grouped_data.groupby('GEO2_MX2020')['Estimated_pop'].sum().reset_index(name='Estimated_pop_GEOL2')\n",
    "print(Estimated_population)\n",
    "\n",
    "# Merge the total weights back to the grouped data\n",
    "grouped_data = grouped_data.merge(Estimated_population, on='GEO2_MX2020', how='left')\n",
    "\n",
    "# Calculate the proportion (percentage) of people by municipality\n",
    "grouped_data['pct'] = grouped_data['Estimated_pop'] / grouped_data['Estimated_pop_GEOL2']*100\n",
    "\n",
    "#rounding the value into 2 decimals\n",
    "grouped_data['pct'] = grouped_data['pct'].round(2)\n",
    "\n",
    "\n",
    "# Display the results\n",
    "print(grouped_data)"
   ]
  },
  {
   "cell_type": "markdown",
   "metadata": {
    "hidden": true
   },
   "source": [
    "#### Calcuatiing Count of \"EMPSTAT\" var\n",
    "\n",
    "Variable List:\n",
    "* 1 : EMPLOYED_POP\n",
    "* 2 : UNEMPLOYED_POP\n",
    "* 3 : EMP_IN_POP \n",
    "* 9 : EMP_UK_POP"
   ]
  },
  {
   "cell_type": "code",
   "execution_count": 92,
   "metadata": {
    "hidden": true,
    "scrolled": true
   },
   "outputs": [
    {
     "name": "stdout",
     "output_type": "stream",
     "text": [
      "EMPSTAT  GEO2_MX2020       1      2       3     9\n",
      "0               1001  438864  32961  279070  1110\n",
      "1               1002   17985   3759   16902    58\n",
      "2               1003   20048   4778   19886   484\n",
      "3               1004    6337    796    5651    53\n",
      "4               1005   58759   4266   35553   114\n",
      "...              ...     ...    ...     ...   ...\n",
      "2464           32054    5404   1582    6973    36\n",
      "2465           32055   11549   2080   11143   238\n",
      "2466           32056   64747   6044   48620   162\n",
      "2467           32057    6734   1377    6959    45\n",
      "2468           32058     791    287    1098    10\n",
      "\n",
      "[2469 rows x 5 columns]\n",
      "EMPSTAT  GEO2_MX2020  EMPLOYED_POP  UNEMPLOYED_POP  EMP_IN_POP  EMP_UK_POP\n",
      "0               1001        438864           32961      279070        1110\n",
      "1               1002         17985            3759       16902          58\n",
      "2               1003         20048            4778       19886         484\n",
      "3               1004          6337             796        5651          53\n",
      "4               1005         58759            4266       35553         114\n",
      "...              ...           ...             ...         ...         ...\n",
      "2464           32054          5404            1582        6973          36\n",
      "2465           32055         11549            2080       11143         238\n",
      "2466           32056         64747            6044       48620         162\n",
      "2467           32057          6734            1377        6959          45\n",
      "2468           32058           791             287        1098          10\n",
      "\n",
      "[2469 rows x 5 columns]\n"
     ]
    }
   ],
   "source": [
    "\n",
    "## Create a pivot table with EMPSTAT categories\n",
    "pivot_table = grouped_data.pivot_table(\n",
    "    index='GEO2_MX2020',  # Rows will be municipalities\n",
    "    columns='EMPSTAT',   # Columns will be EDATTAIN categories\n",
    "    values='Estimated_pop',  # Values to be aggregated\n",
    "    aggfunc='sum',        # Sum the values for aggregation\n",
    "    fill_value=0          # Fill missing values with 0\n",
    ")\n",
    "\n",
    "pivot_table = pivot_table.reset_index()\n",
    "print(pivot_table)\n",
    "\n",
    "# Rename the columns of pivot table for \"EMPSTAT\" variable\n",
    "# rename it based on datatsets.\n",
    "pivot_table_EMPSTAT = pivot_table.rename(columns={1: 'EMPLOYED_POP', 2: 'UNEMPLOYED_POP',3: 'EMP_IN_POP', \n",
    "                                       9 : 'EMP_UK_POP' })\n",
    "\n",
    "# Export the DataFrame to a CSV file\n",
    "pivot_table_EMPSTAT.to_csv(r'C:\\Users\\Shwarna.Bhattacharje\\Documents\\IPUMS_Datasets\\Dataset_output\\Mexico_2020\\MX20_EMPSTAT.csv', index=False, encoding='utf-8')\n",
    "\n",
    "# Display the modified DataFrame\n",
    "print(pivot_table_EMPSTAT)"
   ]
  },
  {
   "cell_type": "markdown",
   "metadata": {
    "hidden": true
   },
   "source": [
    "#### Calcuatiing Percentage of \"EMPSTAT\" var\n",
    "\n",
    "Variable List:\n",
    "* 1 : EMPLOYED_PCT\n",
    "* 2 : UNEMPLOYED_PCT\n",
    "* 3 : EMP_IN_PCT \n",
    "* 9 : EMP_UK_PCT"
   ]
  },
  {
   "cell_type": "code",
   "execution_count": 93,
   "metadata": {
    "hidden": true,
    "scrolled": true
   },
   "outputs": [
    {
     "name": "stdout",
     "output_type": "stream",
     "text": [
      "EMPSTAT  GEO2_MX2020      1      2      3     9\n",
      "0               1001  58.36   4.38  37.11  0.15\n",
      "1               1002  46.47   9.71  43.67  0.15\n",
      "2               1003  44.36  10.57  44.00  1.07\n",
      "3               1004  49.37   6.20  44.02  0.41\n",
      "4               1005  59.54   4.32  36.02  0.12\n",
      "...              ...    ...    ...    ...   ...\n",
      "2464           32054  38.61  11.30  49.82  0.26\n",
      "2465           32055  46.18   8.32  44.55  0.95\n",
      "2466           32056  54.15   5.05  40.66  0.14\n",
      "2467           32057  44.55   9.11  46.04  0.30\n",
      "2468           32058  36.18  13.13  50.23  0.46\n",
      "\n",
      "[2469 rows x 5 columns]\n",
      "\n",
      "Pivot table:\n",
      " EMPSTAT  GEO2_MX2020  EMPLOYED_PCT  UNEMPLOYED_PCT  EMP_IN_PCT  EMP_UK_PCT\n",
      "0               1001         58.36            4.38       37.11        0.15\n",
      "1               1002         46.47            9.71       43.67        0.15\n",
      "2               1003         44.36           10.57       44.00        1.07\n",
      "3               1004         49.37            6.20       44.02        0.41\n",
      "4               1005         59.54            4.32       36.02        0.12\n",
      "...              ...           ...             ...         ...         ...\n",
      "2464           32054         38.61           11.30       49.82        0.26\n",
      "2465           32055         46.18            8.32       44.55        0.95\n",
      "2466           32056         54.15            5.05       40.66        0.14\n",
      "2467           32057         44.55            9.11       46.04        0.30\n",
      "2468           32058         36.18           13.13       50.23        0.46\n",
      "\n",
      "[2469 rows x 5 columns]\n"
     ]
    }
   ],
   "source": [
    "\n",
    "## Create a pivot table with EMPSTAT categories\n",
    "pivot_table = grouped_data.pivot_table(\n",
    "    index='GEO2_MX2020',  # Rows will be municipalities\n",
    "    columns='EMPSTAT',   # Columns will be EDATTAIN categories\n",
    "    values='pct',  # Values to be aggregated\n",
    "    aggfunc='sum',        # Sum the values for aggregation\n",
    "    fill_value=0          # Fill missing values with 0\n",
    ")\n",
    "\n",
    "pivot_table = pivot_table.reset_index()\n",
    "print(pivot_table)\n",
    "\n",
    "# Rename the columns of pivot table for \"EMPSTAT\" variable\n",
    "# rename it based on datatsets.\n",
    "pivot_table_EMPSTAT = pivot_table.rename(columns={1: 'EMPLOYED_PCT', 2: 'UNEMPLOYED_PCT',3: 'EMP_IN_PCT', \n",
    "                                       9 : 'EMP_UK_PCT' })\n",
    "# Print EMPSTAT variable in a pivot table\n",
    "print(\"\\nPivot table:\\n\", pivot_table_EMPSTAT)"
   ]
  },
  {
   "cell_type": "code",
   "execution_count": 94,
   "metadata": {
    "hidden": true
   },
   "outputs": [
    {
     "name": "stdout",
     "output_type": "stream",
     "text": [
      "      GEO2_MX2020  EMPLOYED_POP  ...  EMP_IN_PCT  EMP_UK_PCT\n",
      "0            1001        438864  ...       37.11        0.15\n",
      "1            1002         17985  ...       43.67        0.15\n",
      "2            1003         20048  ...       44.00        1.07\n",
      "3            1004          6337  ...       44.02        0.41\n",
      "4            1005         58759  ...       36.02        0.12\n",
      "...           ...           ...  ...         ...         ...\n",
      "2464        32054          5404  ...       49.82        0.26\n",
      "2465        32055         11549  ...       44.55        0.95\n",
      "2466        32056         64747  ...       40.66        0.14\n",
      "2467        32057          6734  ...       46.04        0.30\n",
      "2468        32058           791  ...       50.23        0.46\n",
      "\n",
      "[2469 rows x 9 columns]\n"
     ]
    }
   ],
   "source": [
    "# Ensure both 'GEO2_MX2020' are of the same data type, convert to integer\n",
    "pivot_table_EMPSTAT['GEO2_MX2020'] = pivot_table_EMPSTAT['GEO2_MX2020'].astype(int)\n",
    "\n",
    "# Load the previously exported csv file on EMPSTAT\n",
    "EMPSTAT_CSV_file = pd.read_csv(r'C:\\Users\\Shwarna.Bhattacharje\\Documents\\IPUMS_Datasets\\Dataset_output\\Mexico_2020\\MX20_EMPSTAT.csv')\n",
    "\n",
    "# merge the PCT data to the EMPSTAT_CSV_file\n",
    "merged_data = EMPSTAT_CSV_file.merge(pivot_table_EMPSTAT, on= 'GEO2_MX2020', how= 'left')\n",
    "\n",
    "# Export the DataFrame to the previously exported CSV file\n",
    "merged_data.to_csv(r'C:\\Users\\Shwarna.Bhattacharje\\Documents\\IPUMS_Datasets\\Dataset_output\\Mexico_2020\\MX20_EMPSTAT.csv', index=False)\n",
    "\n",
    "# Display the modified DataFrame\n",
    "print(merged_data)"
   ]
  },
  {
   "cell_type": "markdown",
   "metadata": {
    "heading_collapsed": true
   },
   "source": [
    "### Variable: \"URBAN\"\n",
    "* Name: URBAN\n",
    "* Label: Urban-rural status\n",
    "* Variable Text: URBAN indicates whether the household was located in a place designated asurban or as rural.\n",
    "* Concept: Geography: Global Variables -- HOUSEHOLD\n",
    "* List of Values with Label: 1 (Rural); 2 (Urban); 9(Unknown)\n"
   ]
  },
  {
   "cell_type": "code",
   "execution_count": 95,
   "metadata": {
    "hidden": true
   },
   "outputs": [
    {
     "data": {
      "text/plain": [
       "array([2, 1], dtype=int64)"
      ]
     },
     "execution_count": 95,
     "metadata": {},
     "output_type": "execute_result"
    }
   ],
   "source": [
    "# Get the unique values of 'URBAN' column\n",
    "df.URBAN.unique()\n"
   ]
  },
  {
   "cell_type": "code",
   "execution_count": 41,
   "metadata": {
    "hidden": true
   },
   "outputs": [
    {
     "name": "stdout",
     "output_type": "stream",
     "text": [
      "      GEO2_MX2020  URBAN  Estimated_HH\n",
      "0            1001      1         51685\n",
      "1            1001      2        893821\n",
      "2            1002      1         30337\n",
      "3            1002      2         21137\n",
      "4            1003      1         24414\n",
      "...           ...    ...           ...\n",
      "4094        32056      1          9257\n",
      "4095        32056      2        138588\n",
      "4096        32057      1          4469\n",
      "4097        32057      2         15980\n",
      "4098        32058      1          2768\n",
      "\n",
      "[4099 rows x 3 columns]\n",
      "      GEO2_MX2020  Estimated_HH_GEOL2\n",
      "0            1001              945506\n",
      "1            1002               51474\n",
      "2            1003               58155\n",
      "3            1004               16997\n",
      "4            1005              129859\n",
      "...           ...                 ...\n",
      "2464        32054               19444\n",
      "2465        32055               31420\n",
      "2466        32056              147845\n",
      "2467        32057               20449\n",
      "2468        32058                2768\n",
      "\n",
      "[2469 rows x 2 columns]\n",
      "      GEO2_MX2020  URBAN  Estimated_HH  Estimated_HH_GEOL2     pct\n",
      "0            1001      1         51685              945506    5.47\n",
      "1            1001      2        893821              945506   94.53\n",
      "2            1002      1         30337               51474   58.94\n",
      "3            1002      2         21137               51474   41.06\n",
      "4            1003      1         24414               58155   41.98\n",
      "...           ...    ...           ...                 ...     ...\n",
      "4094        32056      1          9257              147845    6.26\n",
      "4095        32056      2        138588              147845   93.74\n",
      "4096        32057      1          4469               20449   21.85\n",
      "4097        32057      2         15980               20449   78.15\n",
      "4098        32058      1          2768                2768  100.00\n",
      "\n",
      "[4099 rows x 5 columns]\n"
     ]
    }
   ],
   "source": [
    "# Group by GEO2_MX2020 and URBAN, summing the 'HHWT' for calculation estimated household for each group \n",
    "grouped_data = df.groupby(['GEO2_MX2020', 'URBAN']).agg(Estimated_HH=('HHWT', 'sum')).reset_index()\n",
    "print(grouped_data)\n",
    "\n",
    "# Calculate estimated household for each smaller geographic region\n",
    "Estimated_household = grouped_data.groupby('GEO2_MX2020')['Estimated_HH'].sum().reset_index(name='Estimated_HH_GEOL2')\n",
    "print(Estimated_household)\n",
    "\n",
    "# Merge the estimated household back to the grouped data\n",
    "grouped_data = grouped_data.merge(Estimated_household, on='GEO2_MX2020', how='left')\n",
    "\n",
    "# Calculate the proportion (percentage) of people  by municipality\n",
    "grouped_data['pct'] = grouped_data['Estimated_HH'] / grouped_data['Estimated_HH_GEOL2']*100\n",
    "\n",
    "#rounding the value into 2 decimals\n",
    "grouped_data['pct'] = grouped_data['pct'].round(2)\n",
    "\n",
    "\n",
    "# Display the results\n",
    "print(grouped_data)"
   ]
  },
  {
   "cell_type": "markdown",
   "metadata": {
    "hidden": true
   },
   "source": [
    "#### Calculating Estimated Pop of \"URBAN\" var\n",
    "\n",
    "Variable List:\n",
    "* 1: RURAL_HH\n",
    "* 2: URBAN_HH\n",
    "* 9: URBAN_UK_HH"
   ]
  },
  {
   "cell_type": "code",
   "execution_count": 42,
   "metadata": {
    "hidden": true
   },
   "outputs": [
    {
     "name": "stdout",
     "output_type": "stream",
     "text": [
      "URBAN  GEO2_MX2020      1       2\n",
      "0             1001  51685  893821\n",
      "1             1002  30337   21137\n",
      "2             1003  24414   33741\n",
      "3             1004   7666    9331\n",
      "4             1005  34669   95190\n",
      "...            ...    ...     ...\n",
      "2464         32054  15179    4265\n",
      "2465         32055  13109   18311\n",
      "2466         32056   9257  138588\n",
      "2467         32057   4469   15980\n",
      "2468         32058   2768       0\n",
      "\n",
      "[2469 rows x 3 columns]\n",
      "URBAN  GEO2_MX2020  RURAL_HH  URBAN_HH\n",
      "0             1001     51685    893821\n",
      "1             1002     30337     21137\n",
      "2             1003     24414     33741\n",
      "3             1004      7666      9331\n",
      "4             1005     34669     95190\n",
      "...            ...       ...       ...\n",
      "2464         32054     15179      4265\n",
      "2465         32055     13109     18311\n",
      "2466         32056      9257    138588\n",
      "2467         32057      4469     15980\n",
      "2468         32058      2768         0\n",
      "\n",
      "[2469 rows x 3 columns]\n"
     ]
    }
   ],
   "source": [
    "## Create a pivot table with 'URBAN' categories\n",
    "pivot_table = grouped_data.pivot_table(\n",
    "    index='GEO2_MX2020',  # Rows will be municipalities\n",
    "    columns='URBAN',   # Columns will be 'OWNERSHIP' categories\n",
    "    values='Estimated_HH',  # Values to be aggregated\n",
    "    aggfunc='sum',        # Sum the values for aggregation\n",
    "    fill_value=0          # Fill missing values with 0\n",
    ")\n",
    "\n",
    "pivot_table = pivot_table.reset_index()\n",
    "print(pivot_table)\n",
    "\n",
    "# Rename the columns of pivot table for \"URBAN\" variable\n",
    "# rename it based on datatsets.\n",
    "pivot_table_URBAN = pivot_table.rename(columns={1: 'RURAL_HH', 2: 'URBAN_HH' })\n",
    "                                       \n",
    "# Export the DataFrame to a CSV file\n",
    "pivot_table_URBAN.to_csv(r'C:\\Users\\Shwarna.Bhattacharje\\Documents\\IPUMS_Datasets\\Dataset_output\\Mexico_2020\\MX20_URBAN.csv', index=False, encoding='utf-8')\n",
    "\n",
    "# Display the modified DataFrame\n",
    "print(pivot_table_URBAN)"
   ]
  },
  {
   "cell_type": "markdown",
   "metadata": {
    "hidden": true
   },
   "source": [
    "#### Calculating Percentage of \"URBAN\" var\n",
    "\n",
    "Variable List:\n",
    "* 1: RURAL_PCT\n",
    "* 2: URBAN_PCT\n",
    "* 9: URBAN_UK_PCT"
   ]
  },
  {
   "cell_type": "code",
   "execution_count": 43,
   "metadata": {
    "hidden": true
   },
   "outputs": [
    {
     "name": "stdout",
     "output_type": "stream",
     "text": [
      "URBAN  GEO2_MX2020       1      2\n",
      "0             1001    5.47  94.53\n",
      "1             1002   58.94  41.06\n",
      "2             1003   41.98  58.02\n",
      "3             1004   45.10  54.90\n",
      "4             1005   26.70  73.30\n",
      "...            ...     ...    ...\n",
      "2464         32054   78.07  21.93\n",
      "2465         32055   41.72  58.28\n",
      "2466         32056    6.26  93.74\n",
      "2467         32057   21.85  78.15\n",
      "2468         32058  100.00   0.00\n",
      "\n",
      "[2469 rows x 3 columns]\n",
      "\n",
      "Pivot table:\n",
      " URBAN  GEO2_MX2020  RURAL_PCT  URBAN_PCT\n",
      "0             1001       5.47      94.53\n",
      "1             1002      58.94      41.06\n",
      "2             1003      41.98      58.02\n",
      "3             1004      45.10      54.90\n",
      "4             1005      26.70      73.30\n",
      "...            ...        ...        ...\n",
      "2464         32054      78.07      21.93\n",
      "2465         32055      41.72      58.28\n",
      "2466         32056       6.26      93.74\n",
      "2467         32057      21.85      78.15\n",
      "2468         32058     100.00       0.00\n",
      "\n",
      "[2469 rows x 3 columns]\n"
     ]
    }
   ],
   "source": [
    "## Create a pivot table with 'URBAN' categories\n",
    "pivot_table = grouped_data.pivot_table(\n",
    "    index='GEO2_MX2020',  # Rows will be municipalities\n",
    "    columns='URBAN',   # Columns will be 'OWNERSHIP' categories\n",
    "    values='pct',  # Values to be aggregated\n",
    "    aggfunc='sum',        # Sum the values for aggregation\n",
    "    fill_value=0          # Fill missing values with 0\n",
    ")\n",
    "\n",
    "pivot_table = pivot_table.reset_index()\n",
    "print(pivot_table)\n",
    "\n",
    "# Rename the columns of pivot table for \"URBAN\" variable\n",
    "# rename it based on datatsets.\n",
    "pivot_table_URBAN = pivot_table.rename(columns={1: 'RURAL_PCT', 2: 'URBAN_PCT' })\n",
    "                                       \n",
    "# Print URBAN variable in a pivot table\n",
    "print(\"\\nPivot table:\\n\", pivot_table_URBAN)"
   ]
  },
  {
   "cell_type": "code",
   "execution_count": 44,
   "metadata": {
    "hidden": true,
    "scrolled": true
   },
   "outputs": [
    {
     "name": "stdout",
     "output_type": "stream",
     "text": [
      "      GEO2_MX2020  RURAL_HH  URBAN_HH  RURAL_PCT  URBAN_PCT\n",
      "0            1001     51685    893821       5.47      94.53\n",
      "1            1002     30337     21137      58.94      41.06\n",
      "2            1003     24414     33741      41.98      58.02\n",
      "3            1004      7666      9331      45.10      54.90\n",
      "4            1005     34669     95190      26.70      73.30\n",
      "...           ...       ...       ...        ...        ...\n",
      "2464        32054     15179      4265      78.07      21.93\n",
      "2465        32055     13109     18311      41.72      58.28\n",
      "2466        32056      9257    138588       6.26      93.74\n",
      "2467        32057      4469     15980      21.85      78.15\n",
      "2468        32058      2768         0     100.00       0.00\n",
      "\n",
      "[2469 rows x 5 columns]\n"
     ]
    }
   ],
   "source": [
    "# Ensure both 'GEO2_MX2020' are of the same data type, convert to integer\n",
    "pivot_table_URBAN['GEO2_MX2020'] = pivot_table_URBAN['GEO2_MX2020'].astype(int)\n",
    "\n",
    "# Load the previously exported csv file on URBAN\n",
    "URBAN_CSV_file = pd.read_csv(r'C:\\Users\\Shwarna.Bhattacharje\\Documents\\IPUMS_Datasets\\Dataset_output\\Mexico_2020\\MX20_URBAN.csv')\n",
    "\n",
    "# merge the PCT data to the URBAN_CSV_fil\n",
    "merged_data = URBAN_CSV_file.merge(pivot_table_URBAN, on= 'GEO2_MX2020', how= 'left')\n",
    "\n",
    "# Export the DataFrame to the previously exported CSV file\n",
    "merged_data.to_csv(r'C:\\Users\\Shwarna.Bhattacharje\\Documents\\IPUMS_Datasets\\Dataset_output\\Mexico_2020\\MX20_URBAN.csv', index=False)\n",
    "\n",
    "# Display the modified DataFrame\n",
    "print(merged_data)"
   ]
  },
  {
   "cell_type": "markdown",
   "metadata": {
    "heading_collapsed": true
   },
   "source": [
    "### Variable: \"ELECTRIC\"\n",
    "\n",
    "* Name: ELECTRIC\n",
    "* Label: Electricity\n",
    "* Variable Text: ELECTRIC indicates whether the household had access to electricity.\n",
    "* Concept: Geography: Utilities Variables -- HOUSEHOLD\n",
    "* List of Values with Label: 0(NIU/Not in Universe); 1 (YES); 2 (NO); 9(Unknown)\n"
   ]
  },
  {
   "cell_type": "code",
   "execution_count": 101,
   "metadata": {
    "hidden": true,
    "scrolled": true
   },
   "outputs": [
    {
     "name": "stdout",
     "output_type": "stream",
     "text": [
      "          COUNTRY  YEAR     SAMPLE  ...   INCEARN  MX2020A_AFRDES  MX2020A_INDIG\n",
      "0             484  2020  484202001  ...  99999999               2              2\n",
      "1             484  2020  484202001  ...  99999999               2              2\n",
      "2             484  2020  484202001  ...  99999999               2              2\n",
      "3             484  2020  484202001  ...     21500               2              2\n",
      "4             484  2020  484202001  ...      8600               2              2\n",
      "...           ...   ...        ...  ...       ...             ...            ...\n",
      "15015678      484  2020  484202001  ...  99999999               2              2\n",
      "15015679      484  2020  484202001  ...      6450               2              2\n",
      "15015680      484  2020  484202001  ...      5000               2              2\n",
      "15015681      484  2020  484202001  ...  99999999               2              2\n",
      "15015682      484  2020  484202001  ...  99999999               2              2\n",
      "\n",
      "[14978866 rows x 23 columns]\n"
     ]
    }
   ],
   "source": [
    "# Get the unique values of 'ELECTRIC' column\n",
    "df.ELECTRIC.unique()\n",
    "\n",
    "#Filtering out rows where 'ELECTRIC' = 0 since 0 equal to NIU(Not in universe)\n",
    "filtered_df = df[df['ELECTRIC']!= 0]\n",
    "\n",
    "print(filtered_df)"
   ]
  },
  {
   "cell_type": "code",
   "execution_count": 102,
   "metadata": {
    "hidden": true
   },
   "outputs": [
    {
     "name": "stdout",
     "output_type": "stream",
     "text": [
      "      GEO2_MX2020  ELECTRIC  Estimated_HH\n",
      "0            1001         1        941546\n",
      "1            1001         2           929\n",
      "2            1002         1         50948\n",
      "3            1002         2           343\n",
      "4            1003         1         58015\n",
      "...           ...       ...           ...\n",
      "5108        32056         2           639\n",
      "5109        32057         1         20389\n",
      "5110        32057         2            60\n",
      "5111        32058         1          2746\n",
      "5112        32058         2            13\n",
      "\n",
      "[5113 rows x 3 columns]\n",
      "      GEO2_MX2020  Estimated_HH_GEOL2\n",
      "0            1001              942475\n",
      "1            1002               51291\n",
      "2            1003               58155\n",
      "3            1004               16952\n",
      "4            1005              129850\n",
      "...           ...                 ...\n",
      "2464        32054               19426\n",
      "2465        32055               31362\n",
      "2466        32056              147845\n",
      "2467        32057               20449\n",
      "2468        32058                2759\n",
      "\n",
      "[2469 rows x 2 columns]\n",
      "      GEO2_MX2020  ELECTRIC  Estimated_HH  Estimated_HH_GEOL2    pct\n",
      "0            1001         1        941546              942475  99.90\n",
      "1            1001         2           929              942475   0.10\n",
      "2            1002         1         50948               51291  99.33\n",
      "3            1002         2           343               51291   0.67\n",
      "4            1003         1         58015               58155  99.76\n",
      "...           ...       ...           ...                 ...    ...\n",
      "5108        32056         2           639              147845   0.43\n",
      "5109        32057         1         20389               20449  99.71\n",
      "5110        32057         2            60               20449   0.29\n",
      "5111        32058         1          2746                2759  99.53\n",
      "5112        32058         2            13                2759   0.47\n",
      "\n",
      "[5113 rows x 5 columns]\n"
     ]
    }
   ],
   "source": [
    "# Group by GEO2_MX2020 and ELECTRIC, summing the 'HHWT' for calculation estimated household for each group \n",
    "grouped_data = filtered_df.groupby(['GEO2_MX2020', 'ELECTRIC']).agg(Estimated_HH=('HHWT', 'sum')).reset_index()\n",
    "print(grouped_data)\n",
    "\n",
    "# Calculate estimated household for each smaller geographic region\n",
    "Estimated_household = grouped_data.groupby('GEO2_MX2020')['Estimated_HH'].sum().reset_index(name='Estimated_HH_GEOL2')\n",
    "print(Estimated_household)\n",
    "\n",
    "# Merge the estimated household back to the grouped data\n",
    "grouped_data = grouped_data.merge(Estimated_household, on='GEO2_MX2020', how='left')\n",
    "\n",
    "# Calculate the proportion (percentage) of Household  by municipality\n",
    "grouped_data['pct'] = grouped_data['Estimated_HH'] / grouped_data['Estimated_HH_GEOL2']*100\n",
    "\n",
    "#rounding the value into 2 decimals\n",
    "grouped_data['pct'] = grouped_data['pct'].round(2)\n",
    "\n",
    "\n",
    "# Display the results\n",
    "print(grouped_data)"
   ]
  },
  {
   "cell_type": "markdown",
   "metadata": {
    "hidden": true
   },
   "source": [
    "#### Calculating Estimated Households of \"ELECTRIC\" var\n",
    "\n",
    "Variable List\n",
    "\n",
    "* 1: ELEC_YES_HH\n",
    "* 2: ELEC_NO_HH\n",
    "* 9: ELEC_UK_HH"
   ]
  },
  {
   "cell_type": "code",
   "execution_count": 103,
   "metadata": {
    "hidden": true
   },
   "outputs": [
    {
     "name": "stdout",
     "output_type": "stream",
     "text": [
      "ELECTRIC  GEO2_MX2020       1    2  9\n",
      "0                1001  941546  929  0\n",
      "1                1002   50948  343  0\n",
      "2                1003   58015  140  0\n",
      "3                1004   16901   51  0\n",
      "4                1005  129449  401  0\n",
      "...               ...     ...  ... ..\n",
      "2464            32054   19312  114  0\n",
      "2465            32055   31257  105  0\n",
      "2466            32056  147206  639  0\n",
      "2467            32057   20389   60  0\n",
      "2468            32058    2746   13  0\n",
      "\n",
      "[2469 rows x 4 columns]\n",
      "ELECTRIC  GEO2_MX2020  ELEC_YES_HH  ELEC_NO_HH  ELEC_UK_HH\n",
      "0                1001       941546         929           0\n",
      "1                1002        50948         343           0\n",
      "2                1003        58015         140           0\n",
      "3                1004        16901          51           0\n",
      "4                1005       129449         401           0\n",
      "...               ...          ...         ...         ...\n",
      "2464            32054        19312         114           0\n",
      "2465            32055        31257         105           0\n",
      "2466            32056       147206         639           0\n",
      "2467            32057        20389          60           0\n",
      "2468            32058         2746          13           0\n",
      "\n",
      "[2469 rows x 4 columns]\n"
     ]
    }
   ],
   "source": [
    "## Create a pivot table with 'ELECTRIC' categories\n",
    "pivot_table = grouped_data.pivot_table(\n",
    "    index='GEO2_MX2020',  # Rows will be municipalities\n",
    "    columns='ELECTRIC',   # Columns will be 'ELECTRIC' categories\n",
    "    values='Estimated_HH',  # Values to be aggregated\n",
    "    aggfunc='sum',        # Sum the values for aggregation\n",
    "    fill_value=0          # Fill missing values with 0\n",
    ")\n",
    "\n",
    "pivot_table = pivot_table.reset_index()\n",
    "print(pivot_table)\n",
    "\n",
    "# Rename the columns of pivot table for \"ELECTRIC\" variable\n",
    "# rename it based on datatsets.\n",
    "pivot_table_ELECTRIC = pivot_table.rename(columns={1: 'ELEC_YES_HH', 2: 'ELEC_NO_HH', 9: 'ELEC_UK_HH' })\n",
    "                                       \n",
    "# Export the DataFrame to a CSV file\n",
    "pivot_table_ELECTRIC.to_csv(r'C:\\Users\\Shwarna.Bhattacharje\\Documents\\IPUMS_Datasets\\Dataset_output\\Mexico_2020\\MX20_ELECTRIC.csv', index=False, encoding='utf-8')\n",
    "\n",
    "# Display the modified DataFrame\n",
    "print(pivot_table_ELECTRIC)"
   ]
  },
  {
   "cell_type": "markdown",
   "metadata": {
    "hidden": true
   },
   "source": [
    "#### Calculating Percentage of \"ELECTRIC\" var\n",
    "\n",
    "Variable List\n",
    "\n",
    "* 1: ELEC_YES_PCT\n",
    "* 2: ELEC_NO_PCT\n",
    "* 9: ELEC_UK_PCT"
   ]
  },
  {
   "cell_type": "code",
   "execution_count": 104,
   "metadata": {
    "hidden": true
   },
   "outputs": [
    {
     "name": "stdout",
     "output_type": "stream",
     "text": [
      "ELECTRIC  GEO2_MX2020      1     2    9\n",
      "0                1001  99.90  0.10  0.0\n",
      "1                1002  99.33  0.67  0.0\n",
      "2                1003  99.76  0.24  0.0\n",
      "3                1004  99.70  0.30  0.0\n",
      "4                1005  99.69  0.31  0.0\n",
      "...               ...    ...   ...  ...\n",
      "2464            32054  99.41  0.59  0.0\n",
      "2465            32055  99.67  0.33  0.0\n",
      "2466            32056  99.57  0.43  0.0\n",
      "2467            32057  99.71  0.29  0.0\n",
      "2468            32058  99.53  0.47  0.0\n",
      "\n",
      "[2469 rows x 4 columns]\n",
      "\n",
      "Pivot table:\n",
      " ELECTRIC  GEO2_MX2020  ELEC_YES_PCT  ELEC_NO_PCT  ELEC_UK_PCT\n",
      "0                1001         99.90         0.10          0.0\n",
      "1                1002         99.33         0.67          0.0\n",
      "2                1003         99.76         0.24          0.0\n",
      "3                1004         99.70         0.30          0.0\n",
      "4                1005         99.69         0.31          0.0\n",
      "...               ...           ...          ...          ...\n",
      "2464            32054         99.41         0.59          0.0\n",
      "2465            32055         99.67         0.33          0.0\n",
      "2466            32056         99.57         0.43          0.0\n",
      "2467            32057         99.71         0.29          0.0\n",
      "2468            32058         99.53         0.47          0.0\n",
      "\n",
      "[2469 rows x 4 columns]\n"
     ]
    }
   ],
   "source": [
    "## Create a pivot table with 'ELECTRIC' categories\n",
    "pivot_table = grouped_data.pivot_table(\n",
    "    index='GEO2_MX2020',  # Rows will be municipalities\n",
    "    columns='ELECTRIC',   # Columns will be 'ELECTRIC' categories\n",
    "    values='pct',  # Values to be aggregated\n",
    "    aggfunc='sum',        # Sum the values for aggregation\n",
    "    fill_value=0          # Fill missing values with 0\n",
    ")\n",
    "\n",
    "pivot_table = pivot_table.reset_index()\n",
    "print(pivot_table)\n",
    "\n",
    "# Rename the columns of pivot table for \"ELECTRIC\" variable\n",
    "# rename it based on datatsets.\n",
    "pivot_table_ELECTRIC = pivot_table.rename(columns={1: 'ELEC_YES_PCT', 2: 'ELEC_NO_PCT', 9: 'ELEC_UK_PCT' })\n",
    "                                       \n",
    "# Print ELECTRIC variable in a pivot table\n",
    "print(\"\\nPivot table:\\n\", pivot_table_ELECTRIC)"
   ]
  },
  {
   "cell_type": "code",
   "execution_count": 105,
   "metadata": {
    "hidden": true,
    "scrolled": true
   },
   "outputs": [
    {
     "name": "stdout",
     "output_type": "stream",
     "text": [
      "      GEO2_MX2020  ELEC_YES_HH  ...  ELEC_NO_PCT  ELEC_UK_PCT\n",
      "0            1001       941546  ...         0.10          0.0\n",
      "1            1002        50948  ...         0.67          0.0\n",
      "2            1003        58015  ...         0.24          0.0\n",
      "3            1004        16901  ...         0.30          0.0\n",
      "4            1005       129449  ...         0.31          0.0\n",
      "...           ...          ...  ...          ...          ...\n",
      "2464        32054        19312  ...         0.59          0.0\n",
      "2465        32055        31257  ...         0.33          0.0\n",
      "2466        32056       147206  ...         0.43          0.0\n",
      "2467        32057        20389  ...         0.29          0.0\n",
      "2468        32058         2746  ...         0.47          0.0\n",
      "\n",
      "[2469 rows x 7 columns]\n"
     ]
    }
   ],
   "source": [
    "# Ensure both 'GEO2_MX2020' are of the same data type, convert to integer\n",
    "pivot_table_ELECTRIC['GEO2_MX2020'] = pivot_table_ELECTRIC['GEO2_MX2020'].astype(int)\n",
    "\n",
    "# Load the previously exported csv file on URBAN\n",
    "ELECTRIC_CSV_file = pd.read_csv(r'C:\\Users\\Shwarna.Bhattacharje\\Documents\\IPUMS_Datasets\\Dataset_output\\Mexico_2020\\MX20_ELECTRIC.csv')\n",
    "\n",
    "# merge the PCT data to the ELECTRIC_CSV_file\n",
    "merged_data =ELECTRIC_CSV_file.merge(pivot_table_ELECTRIC, on= 'GEO2_MX2020', how= 'left')\n",
    "\n",
    "# Export the DataFrame to the previously exported CSV file\n",
    "merged_data.to_csv(r'C:\\Users\\Shwarna.Bhattacharje\\Documents\\IPUMS_Datasets\\Dataset_output\\Mexico_2020\\MX20_ELECTRIC.csv', index=False)\n",
    "\n",
    "# Display the modified DataFrame\n",
    "print(merged_data)"
   ]
  },
  {
   "cell_type": "markdown",
   "metadata": {
    "heading_collapsed": true
   },
   "source": [
    "### Variable: \"INTERNET\"\n",
    "\n",
    "* Name: INTERNET\n",
    "* Label: Internet access\n",
    "* Variable Text: INTERNET indicates whether or not the household had an internet connection.\n",
    "* Concept: Utilities Variables -- HOUSEHOLD\n",
    "* List of Values with Label: 0(NIU/Not in Universe); 1 (NO); 2 (YES); 9(Unknown)\n"
   ]
  },
  {
   "cell_type": "code",
   "execution_count": 106,
   "metadata": {
    "hidden": true,
    "scrolled": true
   },
   "outputs": [
    {
     "name": "stdout",
     "output_type": "stream",
     "text": [
      "          COUNTRY  YEAR     SAMPLE  ...   INCEARN  MX2020A_AFRDES  MX2020A_INDIG\n",
      "0             484  2020  484202001  ...  99999999               2              2\n",
      "1             484  2020  484202001  ...  99999999               2              2\n",
      "2             484  2020  484202001  ...  99999999               2              2\n",
      "3             484  2020  484202001  ...     21500               2              2\n",
      "4             484  2020  484202001  ...      8600               2              2\n",
      "...           ...   ...        ...  ...       ...             ...            ...\n",
      "15015678      484  2020  484202001  ...  99999999               2              2\n",
      "15015679      484  2020  484202001  ...      6450               2              2\n",
      "15015680      484  2020  484202001  ...      5000               2              2\n",
      "15015681      484  2020  484202001  ...  99999999               2              2\n",
      "15015682      484  2020  484202001  ...  99999999               2              2\n",
      "\n",
      "[14978866 rows x 23 columns]\n"
     ]
    }
   ],
   "source": [
    "# Get the unique values of 'INTERNET' column\n",
    "df.INTERNET.unique()\n",
    "\n",
    "#Filtering out rows where 'INTERNET' = 0 since 0 equal to NIU(Not in universe)\n",
    "filtered_df = df[df['INTERNET']!= 0]\n",
    "\n",
    "print(filtered_df)"
   ]
  },
  {
   "cell_type": "code",
   "execution_count": 107,
   "metadata": {
    "hidden": true
   },
   "outputs": [
    {
     "name": "stdout",
     "output_type": "stream",
     "text": [
      "      GEO2_MX2020  INTERNET  Estimated_HH\n",
      "0            1001         1        261849\n",
      "1            1001         2        680626\n",
      "2            1002         1         31428\n",
      "3            1002         2         19835\n",
      "4            1002         9            28\n",
      "...           ...       ...           ...\n",
      "5495        32056         2        117226\n",
      "5496        32057         1         15536\n",
      "5497        32057         2          4913\n",
      "5498        32058         1          1827\n",
      "5499        32058         2           932\n",
      "\n",
      "[5500 rows x 3 columns]\n",
      "      GEO2_MX2020  Estimated_HH_GEOL2\n",
      "0            1001              942475\n",
      "1            1002               51291\n",
      "2            1003               58155\n",
      "3            1004               16952\n",
      "4            1005              129850\n",
      "...           ...                 ...\n",
      "2464        32054               19426\n",
      "2465        32055               31362\n",
      "2466        32056              147845\n",
      "2467        32057               20449\n",
      "2468        32058                2759\n",
      "\n",
      "[2469 rows x 2 columns]\n",
      "      GEO2_MX2020  INTERNET  Estimated_HH  Estimated_HH_GEOL2    pct\n",
      "0            1001         1        261849              942475  27.78\n",
      "1            1001         2        680626              942475  72.22\n",
      "2            1002         1         31428               51291  61.27\n",
      "3            1002         2         19835               51291  38.67\n",
      "4            1002         9            28               51291   0.05\n",
      "...           ...       ...           ...                 ...    ...\n",
      "5495        32056         2        117226              147845  79.29\n",
      "5496        32057         1         15536               20449  75.97\n",
      "5497        32057         2          4913               20449  24.03\n",
      "5498        32058         1          1827                2759  66.22\n",
      "5499        32058         2           932                2759  33.78\n",
      "\n",
      "[5500 rows x 5 columns]\n"
     ]
    }
   ],
   "source": [
    "# Group by GEO2_MX2020 and INTERNET, summing the 'HHWT' for calculation estimated household for each group \n",
    "grouped_data = filtered_df.groupby(['GEO2_MX2020', 'INTERNET']).agg(Estimated_HH=('HHWT', 'sum')).reset_index()\n",
    "print(grouped_data)\n",
    "\n",
    "# Calculate estimated household for each smaller geographic region\n",
    "Estimated_household = grouped_data.groupby('GEO2_MX2020')['Estimated_HH'].sum().reset_index(name='Estimated_HH_GEOL2')\n",
    "print(Estimated_household)\n",
    "\n",
    "# Merge the estimated household back to the grouped data\n",
    "grouped_data = grouped_data.merge(Estimated_household, on='GEO2_MX2020', how='left')\n",
    "\n",
    "# Calculate the proportion (percentage) of Household  by municipality\n",
    "grouped_data['pct'] = grouped_data['Estimated_HH'] / grouped_data['Estimated_HH_GEOL2']*100\n",
    "\n",
    "#rounding the value into 2 decimals\n",
    "grouped_data['pct'] = grouped_data['pct'].round(2)\n",
    "\n",
    "\n",
    "# Display the results\n",
    "print(grouped_data)"
   ]
  },
  {
   "cell_type": "markdown",
   "metadata": {
    "hidden": true
   },
   "source": [
    "#### Calculating Estimated Households of \"INTERNET\" var\n",
    "\n",
    "Variable List\n",
    "\n",
    "* 1: INT_NO_HH\n",
    "* 2: INT_YES_HH\n",
    "* 9: INT_UK_HH"
   ]
  },
  {
   "cell_type": "code",
   "execution_count": 108,
   "metadata": {
    "hidden": true
   },
   "outputs": [
    {
     "name": "stdout",
     "output_type": "stream",
     "text": [
      "INTERNET  GEO2_MX2020       1       2   9\n",
      "0                1001  261849  680626   0\n",
      "1                1002   31428   19835  28\n",
      "2                1003   28697   29458   0\n",
      "3                1004   11707    5245   0\n",
      "4                1005   49519   80295  36\n",
      "...               ...     ...     ...  ..\n",
      "2464            32054   14662    4764   0\n",
      "2465            32055   12499   18863   0\n",
      "2466            32056   30619  117226   0\n",
      "2467            32057   15536    4913   0\n",
      "2468            32058    1827     932   0\n",
      "\n",
      "[2469 rows x 4 columns]\n",
      "INTERNET  GEO2_MX2020  INT_NO_HH  INT_YES_HH  INT_UK_HH\n",
      "0                1001     261849      680626          0\n",
      "1                1002      31428       19835         28\n",
      "2                1003      28697       29458          0\n",
      "3                1004      11707        5245          0\n",
      "4                1005      49519       80295         36\n",
      "...               ...        ...         ...        ...\n",
      "2464            32054      14662        4764          0\n",
      "2465            32055      12499       18863          0\n",
      "2466            32056      30619      117226          0\n",
      "2467            32057      15536        4913          0\n",
      "2468            32058       1827         932          0\n",
      "\n",
      "[2469 rows x 4 columns]\n"
     ]
    }
   ],
   "source": [
    "## Create a pivot table with 'INTERNET' categories\n",
    "pivot_table = grouped_data.pivot_table(\n",
    "    index='GEO2_MX2020',  # Rows will be municipalities\n",
    "    columns='INTERNET',   # Columns will be 'ELECTRIC' categories\n",
    "    values='Estimated_HH',  # Values to be aggregated\n",
    "    aggfunc='sum',        # Sum the values for aggregation\n",
    "    fill_value=0          # Fill missing values with 0\n",
    ")\n",
    "\n",
    "pivot_table = pivot_table.reset_index()\n",
    "print(pivot_table)\n",
    "\n",
    "# Rename the columns of pivot table for \"INTERNET\" variable\n",
    "# rename it based on datatsets.\n",
    "pivot_table_INTERNET = pivot_table.rename(columns={1: 'INT_NO_HH', 2: 'INT_YES_HH', 9: 'INT_UK_HH' })\n",
    "                                       \n",
    "# Export the DataFrame to a CSV file\n",
    "pivot_table_INTERNET.to_csv(r'C:\\Users\\Shwarna.Bhattacharje\\Documents\\IPUMS_Datasets\\Dataset_output\\Mexico_2020\\MX20_INTERNET.csv', index=False, encoding='utf-8')\n",
    "\n",
    "# Display the modified DataFrame\n",
    "print(pivot_table_INTERNET)"
   ]
  },
  {
   "cell_type": "markdown",
   "metadata": {
    "hidden": true
   },
   "source": [
    "#### Calculating Percentage of \"INTERNET\" var\n",
    "\n",
    "Variable List\n",
    "\n",
    "* 1: INT_NO_PCT\n",
    "* 2: INT_YES_PCT\n",
    "* 9: INT_UK_PCT"
   ]
  },
  {
   "cell_type": "code",
   "execution_count": 109,
   "metadata": {
    "hidden": true
   },
   "outputs": [
    {
     "name": "stdout",
     "output_type": "stream",
     "text": [
      "INTERNET  GEO2_MX2020      1      2     9\n",
      "0                1001  27.78  72.22  0.00\n",
      "1                1002  61.27  38.67  0.05\n",
      "2                1003  49.35  50.65  0.00\n",
      "3                1004  69.06  30.94  0.00\n",
      "4                1005  38.14  61.84  0.03\n",
      "...               ...    ...    ...   ...\n",
      "2464            32054  75.48  24.52  0.00\n",
      "2465            32055  39.85  60.15  0.00\n",
      "2466            32056  20.71  79.29  0.00\n",
      "2467            32057  75.97  24.03  0.00\n",
      "2468            32058  66.22  33.78  0.00\n",
      "\n",
      "[2469 rows x 4 columns]\n",
      "\n",
      "Pivot table:\n",
      " INTERNET  GEO2_MX2020  INT_NO_PCT  INT_YES_PCT  INT_UK_PCT\n",
      "0                1001       27.78        72.22        0.00\n",
      "1                1002       61.27        38.67        0.05\n",
      "2                1003       49.35        50.65        0.00\n",
      "3                1004       69.06        30.94        0.00\n",
      "4                1005       38.14        61.84        0.03\n",
      "...               ...         ...          ...         ...\n",
      "2464            32054       75.48        24.52        0.00\n",
      "2465            32055       39.85        60.15        0.00\n",
      "2466            32056       20.71        79.29        0.00\n",
      "2467            32057       75.97        24.03        0.00\n",
      "2468            32058       66.22        33.78        0.00\n",
      "\n",
      "[2469 rows x 4 columns]\n"
     ]
    }
   ],
   "source": [
    "## Create a pivot table with 'INTERNET' categories\n",
    "pivot_table = grouped_data.pivot_table(\n",
    "    index='GEO2_MX2020',  # Rows will be municipalities\n",
    "    columns='INTERNET',   # Columns will be 'ELECTRIC' categories\n",
    "    values='pct',  # Values to be aggregated\n",
    "    aggfunc='sum',        # Sum the values for aggregation\n",
    "    fill_value=0          # Fill missing values with 0\n",
    ")\n",
    "\n",
    "pivot_table = pivot_table.reset_index()\n",
    "print(pivot_table)\n",
    "\n",
    "# Rename the columns of pivot table for \"INTERNET\" variable\n",
    "# rename it based on datatsets.\n",
    "pivot_table_INTERNET = pivot_table.rename(columns={1: 'INT_NO_PCT', 2: 'INT_YES_PCT', 9: 'INT_UK_PCT' })\n",
    "                                       \n",
    "# Print Ownership variable in a pivot table\n",
    "print(\"\\nPivot table:\\n\", pivot_table_INTERNET)"
   ]
  },
  {
   "cell_type": "code",
   "execution_count": 110,
   "metadata": {
    "hidden": true,
    "scrolled": true
   },
   "outputs": [
    {
     "name": "stdout",
     "output_type": "stream",
     "text": [
      "      GEO2_MX2020  INT_NO_HH  INT_YES_HH  ...  INT_NO_PCT  INT_YES_PCT  INT_UK_PCT\n",
      "0            1001     261849      680626  ...       27.78        72.22        0.00\n",
      "1            1002      31428       19835  ...       61.27        38.67        0.05\n",
      "2            1003      28697       29458  ...       49.35        50.65        0.00\n",
      "3            1004      11707        5245  ...       69.06        30.94        0.00\n",
      "4            1005      49519       80295  ...       38.14        61.84        0.03\n",
      "...           ...        ...         ...  ...         ...          ...         ...\n",
      "2464        32054      14662        4764  ...       75.48        24.52        0.00\n",
      "2465        32055      12499       18863  ...       39.85        60.15        0.00\n",
      "2466        32056      30619      117226  ...       20.71        79.29        0.00\n",
      "2467        32057      15536        4913  ...       75.97        24.03        0.00\n",
      "2468        32058       1827         932  ...       66.22        33.78        0.00\n",
      "\n",
      "[2469 rows x 7 columns]\n"
     ]
    }
   ],
   "source": [
    "# Ensure both 'GEO2_MX2020' are of the same data type, convert to integer\n",
    "pivot_table_INTERNET['GEO2_MX2020'] = pivot_table_INTERNET['GEO2_MX2020'].astype(int)\n",
    "\n",
    "# Load the previously exported csv file on INTERNET\n",
    "INTERNET_CSV_file = pd.read_csv(r'C:\\Users\\Shwarna.Bhattacharje\\Documents\\IPUMS_Datasets\\Dataset_output\\Mexico_2020\\MX20_INTERNET.csv')\n",
    "\n",
    "# merge the PCT data to the INTERNET_CSV_file\n",
    "merged_data = INTERNET_CSV_file.merge(pivot_table_INTERNET, on= 'GEO2_MX2020', how= 'left')\n",
    "\n",
    "# Export the DataFrame to the previously exported CSV file\n",
    "merged_data.to_csv(r'C:\\Users\\Shwarna.Bhattacharje\\Documents\\IPUMS_Datasets\\Dataset_output\\Mexico_2020\\MX20_INTERNET.csv', index=False)\n",
    "\n",
    "# Display the modified DataFrame\n",
    "print(merged_data)"
   ]
  },
  {
   "cell_type": "markdown",
   "metadata": {
    "heading_collapsed": true
   },
   "source": [
    "### Variable: \"INCEARN\"\n",
    "* Name: INCEARN\n",
    "* Label: Earned income\n",
    "* Variable Text: INCEARN reports the person's total income from their labor (from wages, abusiness, or a farm) in the previous month or year.\n",
    "* Concept: Income Variables -- PERSON\n",
    "* Code Instruction: INCEARN is an 8-digit numeric variable.\n",
    "                    99999998 = Unknown/missing.\n",
    "                    99999999 = NIU (not in universe).\n",
    "\n",
    "Variable List\n",
    "* Sum of INCEARN: INCEARN_P_SUM\n",
    "* Mean of INCEARN: INCEARN_P_Mean\n",
    "* Median of INCEARN: INCEARN_P_Med"
   ]
  },
  {
   "cell_type": "markdown",
   "metadata": {
    "heading_collapsed": true,
    "hidden": true
   },
   "source": [
    "#### Measuring Poverty Ratio"
   ]
  },
  {
   "cell_type": "code",
   "execution_count": 34,
   "metadata": {
    "hidden": true
   },
   "outputs": [
    {
     "name": "stdout",
     "output_type": "stream",
     "text": [
      "          COUNTRY  YEAR     SAMPLE  ...  INCEARN  MX2020A_AFRDES  MX2020A_INDIG\n",
      "3             484  2020  484202001  ...    21500               2              2\n",
      "4             484  2020  484202001  ...     8600               2              2\n",
      "7             484  2020  484202001  ...    20000               2              2\n",
      "8             484  2020  484202001  ...    30000               2              2\n",
      "9             484  2020  484202001  ...    32000               2              2\n",
      "...           ...   ...        ...  ...      ...             ...            ...\n",
      "15015669      484  2020  484202001  ...     1200               2              2\n",
      "15015676      484  2020  484202001  ...        0               2              2\n",
      "15015677      484  2020  484202001  ...     3440               2              2\n",
      "15015679      484  2020  484202001  ...     6450               2              2\n",
      "15015680      484  2020  484202001  ...     5000               2              2\n",
      "\n",
      "[5523470 rows x 23 columns]\n"
     ]
    },
    {
     "name": "stderr",
     "output_type": "stream",
     "text": [
      "[34]:9: SettingWithCopyWarning: \n",
      "A value is trying to be set on a copy of a slice from a DataFrame.\n",
      "Try using .loc[row_indexer,col_indexer] = value instead\n",
      "\n",
      "See the caveats in the documentation: https://pandas.pydata.org/pandas-docs/stable/user_guide/indexing.html#returning-a-view-versus-a-copy\n"
     ]
    },
    {
     "name": "stdout",
     "output_type": "stream",
     "text": [
      "          COUNTRY  YEAR  ...  MX2020A_INDIG  INCEARN_DAILY\n",
      "3             484  2020  ...              2     716.666667\n",
      "4             484  2020  ...              2     286.666667\n",
      "7             484  2020  ...              2     666.666667\n",
      "8             484  2020  ...              2    1000.000000\n",
      "9             484  2020  ...              2    1066.666667\n",
      "...           ...   ...  ...            ...            ...\n",
      "15015669      484  2020  ...              2      40.000000\n",
      "15015676      484  2020  ...              2       0.000000\n",
      "15015677      484  2020  ...              2     114.666667\n",
      "15015679      484  2020  ...              2     215.000000\n",
      "15015680      484  2020  ...              2     166.666667\n",
      "\n",
      "[5523470 rows x 24 columns]\n"
     ]
    },
    {
     "name": "stderr",
     "output_type": "stream",
     "text": [
      "[34]:17: SettingWithCopyWarning: \n",
      "A value is trying to be set on a copy of a slice from a DataFrame.\n",
      "Try using .loc[row_indexer,col_indexer] = value instead\n",
      "\n",
      "See the caveats in the documentation: https://pandas.pydata.org/pandas-docs/stable/user_guide/indexing.html#returning-a-view-versus-a-copy\n"
     ]
    },
    {
     "name": "stdout",
     "output_type": "stream",
     "text": [
      "          COUNTRY  YEAR  ...  INCEARN_DAILY  INCEARN_DAILY_USD\n",
      "3             484  2020  ...     716.666667          35.496120\n",
      "4             484  2020  ...     286.666667          14.198448\n",
      "7             484  2020  ...     666.666667          33.019647\n",
      "8             484  2020  ...    1000.000000          49.529470\n",
      "9             484  2020  ...    1066.666667          52.831435\n",
      "...           ...   ...  ...            ...                ...\n",
      "15015669      484  2020  ...      40.000000           1.981179\n",
      "15015676      484  2020  ...       0.000000           0.000000\n",
      "15015677      484  2020  ...     114.666667           5.679379\n",
      "15015679      484  2020  ...     215.000000          10.648836\n",
      "15015680      484  2020  ...     166.666667           8.254912\n",
      "\n",
      "[5523470 rows x 25 columns]\n"
     ]
    },
    {
     "name": "stderr",
     "output_type": "stream",
     "text": [
      "[34]:24: SettingWithCopyWarning: \n",
      "A value is trying to be set on a copy of a slice from a DataFrame.\n",
      "Try using .loc[row_indexer,col_indexer] = value instead\n",
      "\n",
      "See the caveats in the documentation: https://pandas.pydata.org/pandas-docs/stable/user_guide/indexing.html#returning-a-view-versus-a-copy\n"
     ]
    },
    {
     "name": "stdout",
     "output_type": "stream",
     "text": [
      "          COUNTRY  YEAR  ...  INCEARN_DAILY_USD  POVERTY_RATIO\n",
      "3             484  2020  ...          35.496120       5.181915\n",
      "4             484  2020  ...          14.198448       2.072766\n",
      "7             484  2020  ...          33.019647       4.820386\n",
      "8             484  2020  ...          49.529470       7.230580\n",
      "9             484  2020  ...          52.831435       7.712618\n",
      "...           ...   ...  ...                ...            ...\n",
      "15015669      484  2020  ...           1.981179       0.289223\n",
      "15015676      484  2020  ...           0.000000       0.000000\n",
      "15015677      484  2020  ...           5.679379       0.829106\n",
      "15015679      484  2020  ...          10.648836       1.554575\n",
      "15015680      484  2020  ...           8.254912       1.205097\n",
      "\n",
      "[5523470 rows x 26 columns]\n"
     ]
    }
   ],
   "source": [
    "# Filter out rows where income is either 99999999 or 99999998\n",
    "INCEARN_filtered = df[~df['INCEARN'].isin([99999999, 99999998])]\n",
    "\n",
    "print(INCEARN_filtered)\n",
    "\n",
    "# Convert to daily income\n",
    "# 1 month = 30 days\n",
    "average_days_in_month = 30\n",
    "INCEARN_filtered['INCEARN_DAILY'] = INCEARN_filtered['INCEARN'] / average_days_in_month\n",
    "print(INCEARN_filtered)\n",
    "\n",
    "# Convert peso to USD\n",
    "# Exchange rate: 1 Dollar = 20.19 Mexican Peso\n",
    "Exchange_Rate = 20.19\n",
    "\n",
    "# Add a new column 'INCEARN_Daily_USD' that converts 'INCEARN_Daily' from pesos to USD\n",
    "INCEARN_filtered['INCEARN_DAILY_USD'] = INCEARN_filtered['INCEARN_DAILY']/Exchange_Rate\n",
    "print(INCEARN_filtered)\n",
    "\n",
    "# Poverty Line = $6.85 per person per day\n",
    "\n",
    "poverty_line = 6.85\n",
    "\n",
    "INCEARN_filtered['POVERTY_RATIO'] = INCEARN_filtered['INCEARN_DAILY_USD']/poverty_line\n",
    "print(INCEARN_filtered)\n",
    "\n",
    "\n"
   ]
  },
  {
   "cell_type": "code",
   "execution_count": 35,
   "metadata": {
    "hidden": true
   },
   "outputs": [
    {
     "name": "stdout",
     "output_type": "stream",
     "text": [
      "1650.982334489021\n"
     ]
    },
    {
     "name": "stderr",
     "output_type": "stream",
     "text": [
      "[35]:14: SettingWithCopyWarning: \n",
      "A value is trying to be set on a copy of a slice from a DataFrame.\n",
      "Try using .loc[row_indexer,col_indexer] = value instead\n",
      "\n",
      "See the caveats in the documentation: https://pandas.pydata.org/pandas-docs/stable/user_guide/indexing.html#returning-a-view-versus-a-copy\n"
     ]
    },
    {
     "name": "stdout",
     "output_type": "stream",
     "text": [
      "          COUNTRY  YEAR  ...  POVERTY_RATIO   INC_INDEX\n",
      "3             484  2020  ...       5.181915    1.742324\n",
      "4             484  2020  ...       2.072766    0.446950\n",
      "7             484  2020  ...       4.820386    1.591700\n",
      "8             484  2020  ...       7.230580    2.595866\n",
      "9             484  2020  ...       7.712618    2.796699\n",
      "...           ...   ...  ...            ...         ...\n",
      "15015669      484  2020  ...       0.289223  -71.077682\n",
      "15015676      484  2020  ...       0.000000 -100.000000\n",
      "15015677      484  2020  ...       0.829106  -17.089354\n",
      "15015679      484  2020  ...       1.554575    0.231054\n",
      "15015680      484  2020  ...       1.205097    0.085450\n",
      "\n",
      "[5523470 rows x 27 columns]\n",
      "          COUNTRY  GEO2_MX2020  ...  POVERTY_RATIO   INC_INDEX\n",
      "3             484         1001  ...       5.181915    1.742324\n",
      "4             484         1001  ...       2.072766    0.446950\n",
      "7             484         1001  ...       4.820386    1.591700\n",
      "8             484         1001  ...       7.230580    2.595866\n",
      "9             484         1001  ...       7.712618    2.796699\n",
      "...           ...          ...  ...            ...         ...\n",
      "15015669      484        32058  ...       0.289223  -71.077682\n",
      "15015676      484        32058  ...       0.000000 -100.000000\n",
      "15015677      484        32058  ...       0.829106  -17.089354\n",
      "15015679      484        32058  ...       1.554575    0.231054\n",
      "15015680      484        32058  ...       1.205097    0.085450\n",
      "\n",
      "[5523470 rows x 8 columns]\n"
     ]
    }
   ],
   "source": [
    "### Creating Income index from INCEARN_DAILY_USD\n",
    "# Calculate maximum daily income\n",
    "max_income = INCEARN_filtered['INCEARN_DAILY_USD'].max()\n",
    "print(max_income)\n",
    "\n",
    "# Function to calculate income index\n",
    "def calculate_income_index(income, poverty_line, max_income):\n",
    "    if income < poverty_line:\n",
    "        return ((income - poverty_line) / poverty_line) * 100\n",
    "    else:\n",
    "        return ((income - poverty_line) / (max_income - poverty_line)) * 100\n",
    "\n",
    "# Apply the function to the DataFrame\n",
    "INCEARN_filtered['INC_INDEX'] = INCEARN_filtered['INCEARN_DAILY_USD'].apply(lambda x: calculate_income_index(x, poverty_line, max_income))\n",
    "\n",
    "print(INCEARN_filtered)\n",
    "\n",
    "# Select columns from the dataframe for income var\n",
    "\n",
    "Selected_columns = INCEARN_filtered[['COUNTRY', 'GEO2_MX2020','PERWT', 'INCEARN', 'INCEARN_DAILY', 'INCEARN_DAILY_USD', 'POVERTY_RATIO','INC_INDEX' ]]\n",
    "\n",
    "\n",
    "# Export the DataFrame to a CSV file \n",
    "Selected_columns.to_csv(r'C:\\Users\\Shwarna.Bhattacharje\\Documents\\IPUMS_Datasets\\Dataset_output\\MX20_INCEARN_p.csv', index=False, encoding='utf-8')\n",
    "\n",
    "# Display the modified DataFrame\n",
    "print(Selected_columns)\n"
   ]
  },
  {
   "cell_type": "markdown",
   "metadata": {
    "hidden": true
   },
   "source": [
    "The population living in poverty has been identified using the income index. Individuals with an income index below zero are considered to be in poverty."
   ]
  },
  {
   "cell_type": "code",
   "execution_count": 36,
   "metadata": {
    "hidden": true,
    "scrolled": true
   },
   "outputs": [
    {
     "name": "stdout",
     "output_type": "stream",
     "text": [
      "         COUNTRY  GEO2_MX2020  PERWT  ...  POVERTY_RATIO   INC_INDEX  POVERTY_STATUS\n",
      "0            484         1001     59  ...       5.181915    1.742324   ABOVE_POVERTY\n",
      "1            484         1001     59  ...       2.072766    0.446950   ABOVE_POVERTY\n",
      "2            484         1001     59  ...       4.820386    1.591700   ABOVE_POVERTY\n",
      "3            484         1001     59  ...       7.230580    2.595866   ABOVE_POVERTY\n",
      "4            484         1001     59  ...       7.712618    2.796699   ABOVE_POVERTY\n",
      "...          ...          ...    ...  ...            ...         ...             ...\n",
      "5523465      484        32058      1  ...       0.289223  -71.077682   BELOW_POVERTY\n",
      "5523466      484        32058      1  ...       0.000000 -100.000000   BELOW_POVERTY\n",
      "5523467      484        32058      1  ...       0.829106  -17.089354   BELOW_POVERTY\n",
      "5523468      484        32058      1  ...       1.554575    0.231054   ABOVE_POVERTY\n",
      "5523469      484        32058      1  ...       1.205097    0.085450   ABOVE_POVERTY\n",
      "\n",
      "[5523470 rows x 9 columns]\n",
      "      GEO2_MX2020 POVERTY_STATUS  Estimated_pop\n",
      "0            1001  ABOVE_POVERTY         349687\n",
      "1            1001  BELOW_POVERTY          87777\n",
      "2            1002  ABOVE_POVERTY          12528\n",
      "3            1002  BELOW_POVERTY           5451\n",
      "4            1003  ABOVE_POVERTY          14553\n",
      "...           ...            ...            ...\n",
      "4927        32056  BELOW_POVERTY          17589\n",
      "4928        32057  ABOVE_POVERTY           4492\n",
      "4929        32057  BELOW_POVERTY           2238\n",
      "4930        32058  ABOVE_POVERTY            472\n",
      "4931        32058  BELOW_POVERTY            318\n",
      "\n",
      "[4932 rows x 3 columns]\n",
      "      GEO2_MX2020  Estimated_pop_GEOL2\n",
      "0            1001               437464\n",
      "1            1002                17979\n",
      "2            1003                20048\n",
      "3            1004                 6331\n",
      "4            1005                58748\n",
      "...           ...                  ...\n",
      "2461        32054                 5404\n",
      "2462        32055                11520\n",
      "2463        32056                64678\n",
      "2464        32057                 6730\n",
      "2465        32058                  790\n",
      "\n",
      "[2466 rows x 2 columns]\n",
      "      GEO2_MX2020 POVERTY_STATUS  Estimated_pop  Estimated_pop_GEOL2    pct\n",
      "0            1001  ABOVE_POVERTY         349687               437464  79.94\n",
      "1            1001  BELOW_POVERTY          87777               437464  20.06\n",
      "2            1002  ABOVE_POVERTY          12528                17979  69.68\n",
      "3            1002  BELOW_POVERTY           5451                17979  30.32\n",
      "4            1003  ABOVE_POVERTY          14553                20048  72.59\n",
      "...           ...            ...            ...                  ...    ...\n",
      "4927        32056  BELOW_POVERTY          17589                64678  27.19\n",
      "4928        32057  ABOVE_POVERTY           4492                 6730  66.75\n",
      "4929        32057  BELOW_POVERTY           2238                 6730  33.25\n",
      "4930        32058  ABOVE_POVERTY            472                  790  59.75\n",
      "4931        32058  BELOW_POVERTY            318                  790  40.25\n",
      "\n",
      "[4932 rows x 5 columns]\n"
     ]
    }
   ],
   "source": [
    "# Load the previously exported csv file with income index\n",
    "\n",
    "poverty_df = pd.read_csv (r'C:\\Users\\Shwarna.Bhattacharje\\Documents\\IPUMS_Datasets\\Dataset_output\\MX20_INCEARN_p.csv')\n",
    " \n",
    "# Define a new column indicating poverty status with lowercase 'below poverty'\n",
    "poverty_df['POVERTY_STATUS'] = poverty_df['INC_INDEX'].apply(lambda x: 'BELOW_POVERTY' if x < 0 else 'ABOVE_POVERTY')\n",
    "\n",
    "print(poverty_df)\n",
    "                              \n",
    "# Group by GEO2_MX2020 and POVERTY_STATUS, summing the 'PERWT' for calculation estimated population for each group \n",
    "grouped_data = poverty_df.groupby(['GEO2_MX2020', 'POVERTY_STATUS']).agg(Estimated_pop=('PERWT', 'sum')).reset_index()\n",
    "print(grouped_data)\n",
    "\n",
    "# Calculate estimated population for each smaller geographic region\n",
    "Estimated_population = grouped_data.groupby('GEO2_MX2020')['Estimated_pop'].sum().reset_index(name='Estimated_pop_GEOL2')\n",
    "print(Estimated_population)\n",
    "\n",
    "# Merge the total weights back to the grouped data\n",
    "grouped_data = grouped_data.merge(Estimated_population, on='GEO2_MX2020', how='left')\n",
    "\n",
    "# Calculate the proportion (percentage) of people by municipality\n",
    "grouped_data['pct'] = grouped_data['Estimated_pop'] / grouped_data['Estimated_pop_GEOL2']*100\n",
    "\n",
    "#rounding the value into 2 decimals\n",
    "grouped_data['pct'] = grouped_data['pct'].round(2)\n",
    "\n",
    "\n",
    "# Display the results\n",
    "print(grouped_data)"
   ]
  },
  {
   "cell_type": "markdown",
   "metadata": {
    "heading_collapsed": true,
    "hidden": true
   },
   "source": [
    "#### Calculating Estimated Pop of  'POVERTY_STATUS'\n"
   ]
  },
  {
   "cell_type": "code",
   "execution_count": 37,
   "metadata": {
    "hidden": true,
    "scrolled": true
   },
   "outputs": [
    {
     "name": "stdout",
     "output_type": "stream",
     "text": [
      "POVERTY_STATUS  GEO2_MX2020  ABOVE_POVERTY  BELOW_POVERTY\n",
      "0                      1001         349687          87777\n",
      "1                      1002          12528           5451\n",
      "2                      1003          14553           5495\n",
      "3                      1004           4797           1534\n",
      "4                      1005          47780          10968\n",
      "...                     ...            ...            ...\n",
      "2461                  32054           2093           3311\n",
      "2462                  32055           6643           4877\n",
      "2463                  32056          47089          17589\n",
      "2464                  32057           4492           2238\n",
      "2465                  32058            472            318\n",
      "\n",
      "[2466 rows x 3 columns]\n",
      "POVERTY_STATUS  GEO2_MX2020  ABOVE_POVERTY_POP  BELOW_POVERTY_POP\n",
      "0                      1001             349687              87777\n",
      "1                      1002              12528               5451\n",
      "2                      1003              14553               5495\n",
      "3                      1004               4797               1534\n",
      "4                      1005              47780              10968\n",
      "...                     ...                ...                ...\n",
      "2461                  32054               2093               3311\n",
      "2462                  32055               6643               4877\n",
      "2463                  32056              47089              17589\n",
      "2464                  32057               4492               2238\n",
      "2465                  32058                472                318\n",
      "\n",
      "[2466 rows x 3 columns]\n"
     ]
    }
   ],
   "source": [
    "## Create a pivot table with POVERTY_STATUS categories\n",
    "pivot_table = grouped_data.pivot_table(\n",
    "    index='GEO2_MX2020',  # Rows will be municipalities\n",
    "    columns='POVERTY_STATUS',   # Columns will be POVERTY_STATUSS categories\n",
    "    values='Estimated_pop',  # Values to be aggregated\n",
    "    aggfunc='sum',        # Sum the values for aggregation\n",
    "    fill_value=0          # Fill missing values with 0\n",
    ")\n",
    "\n",
    "pivot_table = pivot_table.reset_index()\n",
    "print(pivot_table)\n",
    "\n",
    "# Rename the columns of pivot table for \"MX2020A_AFRDES\" variable\n",
    "# rename it based on datatsets.\n",
    "pivot_table_POVERTY_STATUS = pivot_table.rename(columns={'BELOW_POVERTY': 'BELOW_POVERTY_POP', 'ABOVE_POVERTY': 'ABOVE_POVERTY_POP'\n",
    "                                       })\n",
    "\n",
    "# Export the DataFrame to a CSV file \n",
    "pivot_table_POVERTY_STATUS.to_csv(r'C:\\Users\\Shwarna.Bhattacharje\\Documents\\IPUMS_Datasets\\Dataset_output\\Mexico_2020\\MX20_POVERTY_STATUS.csv', index=False, encoding='utf-8')\n",
    "\n",
    "# Display the modified DataFrame\n",
    "print(pivot_table_POVERTY_STATUS)"
   ]
  },
  {
   "cell_type": "code",
   "execution_count": 38,
   "metadata": {
    "hidden": true,
    "scrolled": true
   },
   "outputs": [
    {
     "name": "stdout",
     "output_type": "stream",
     "text": [
      "POVERTY_STATUS  GEO2_MX2020  ABOVE_POVERTY  BELOW_POVERTY\n",
      "0                      1001          79.94          20.06\n",
      "1                      1002          69.68          30.32\n",
      "2                      1003          72.59          27.41\n",
      "3                      1004          75.77          24.23\n",
      "4                      1005          81.33          18.67\n",
      "...                     ...            ...            ...\n",
      "2461                  32054          38.73          61.27\n",
      "2462                  32055          57.66          42.34\n",
      "2463                  32056          72.81          27.19\n",
      "2464                  32057          66.75          33.25\n",
      "2465                  32058          59.75          40.25\n",
      "\n",
      "[2466 rows x 3 columns]\n",
      "POVERTY_STATUS  GEO2_MX2020  ABOVE_POVERTY_PCT  BELOW_POVERTY_PCT\n",
      "0                      1001              79.94              20.06\n",
      "1                      1002              69.68              30.32\n",
      "2                      1003              72.59              27.41\n",
      "3                      1004              75.77              24.23\n",
      "4                      1005              81.33              18.67\n",
      "...                     ...                ...                ...\n",
      "2461                  32054              38.73              61.27\n",
      "2462                  32055              57.66              42.34\n",
      "2463                  32056              72.81              27.19\n",
      "2464                  32057              66.75              33.25\n",
      "2465                  32058              59.75              40.25\n",
      "\n",
      "[2466 rows x 3 columns]\n"
     ]
    }
   ],
   "source": [
    "## Create a pivot table with POVERTY_STATUS categories\n",
    "pivot_table = grouped_data.pivot_table(\n",
    "    index='GEO2_MX2020',  # Rows will be municipalities\n",
    "    columns='POVERTY_STATUS',   # Columns will be POVERTY_STATUSS categories\n",
    "    values='pct',  # Values to be aggregated\n",
    "    aggfunc='sum',        # Sum the values for aggregation\n",
    "    fill_value=0          # Fill missing values with 0\n",
    ")\n",
    "\n",
    "pivot_table = pivot_table.reset_index()\n",
    "print(pivot_table)\n",
    "\n",
    "# Rename the columns of pivot table for \"MX2020A_AFRDES\" variable\n",
    "# rename it based on datatsets.\n",
    "pivot_table_POVERTY_STATUS = pivot_table.rename(columns={'BELOW_POVERTY': 'BELOW_POVERTY_PCT', 'ABOVE_POVERTY': 'ABOVE_POVERTY_PCT'\n",
    "                                       })\n",
    "# Display the modified DataFrame\n",
    "print(pivot_table_POVERTY_STATUS)"
   ]
  },
  {
   "cell_type": "code",
   "execution_count": 39,
   "metadata": {
    "hidden": true,
    "scrolled": true
   },
   "outputs": [
    {
     "name": "stdout",
     "output_type": "stream",
     "text": [
      "      GEO2_MX2020  ABOVE_POVERTY_POP  ...  ABOVE_POVERTY_PCT  BELOW_POVERTY_PCT\n",
      "0            1001             349687  ...              79.94              20.06\n",
      "1            1002              12528  ...              69.68              30.32\n",
      "2            1003              14553  ...              72.59              27.41\n",
      "3            1004               4797  ...              75.77              24.23\n",
      "4            1005              47780  ...              81.33              18.67\n",
      "...           ...                ...  ...                ...                ...\n",
      "2461        32054               2093  ...              38.73              61.27\n",
      "2462        32055               6643  ...              57.66              42.34\n",
      "2463        32056              47089  ...              72.81              27.19\n",
      "2464        32057               4492  ...              66.75              33.25\n",
      "2465        32058                472  ...              59.75              40.25\n",
      "\n",
      "[2466 rows x 5 columns]\n"
     ]
    }
   ],
   "source": [
    "# Ensure both 'GEO2_MX2020' are of the same data type, convert to integer\n",
    "pivot_table_POVERTY_STATUS['GEO2_MX2020'] = pivot_table_POVERTY_STATUS['GEO2_MX2020'].astype(int)\n",
    "\n",
    "# Load the previously exported csv file on Poverty\n",
    "POVERTY_STATUS_CSV_file = pd.read_csv(r'C:\\Users\\Shwarna.Bhattacharje\\Documents\\IPUMS_Datasets\\Dataset_output\\Mexico_2020\\MX20_POVERTY_STATUS.csv')\n",
    "\n",
    "# merge the PCT data to the POVERTY_STATUS_CSV_file\n",
    "merged_data = POVERTY_STATUS_CSV_file.merge(pivot_table_POVERTY_STATUS, on= 'GEO2_MX2020', how= 'left')\n",
    "\n",
    "# Export the DataFrame to the previously exported CSV file\n",
    "merged_data.to_csv(r'C:\\Users\\Shwarna.Bhattacharje\\Documents\\IPUMS_Datasets\\Dataset_output\\Mexico_2020\\MX20_POVERTY_STATUS.csv', index=False)\n",
    "\n",
    "# Display the modified DataFrame\n",
    "print(merged_data)"
   ]
  },
  {
   "cell_type": "markdown",
   "metadata": {
    "heading_collapsed": true
   },
   "source": [
    "### Variable: \"MX2020A_AFRDES\"\n",
    "* Name: MX2020A_AFRDES\n",
    "* Label: Person considers himself/herself as Black (Afro descent or Afro Mexican)\n",
    "* Variable Text: This variable indicates whether the respondent considers himself or herselfBlack (Afro descent or Afro Mexican).\n",
    "* Concept: Ethnicity and Language Variables -- PERSON\n",
    "* List of Values with Label: 1 (Yes); 2 (No); 9(Unknown)"
   ]
  },
  {
   "cell_type": "code",
   "execution_count": 111,
   "metadata": {
    "hidden": true
   },
   "outputs": [
    {
     "data": {
      "text/plain": [
       "array([2, 1, 9])"
      ]
     },
     "execution_count": 111,
     "metadata": {},
     "output_type": "execute_result"
    }
   ],
   "source": [
    "# Get the unique values of 'MX2020A_AFRDES' column\n",
    "df.MX2020A_AFRDES.unique()\n"
   ]
  },
  {
   "cell_type": "code",
   "execution_count": 112,
   "metadata": {
    "hidden": true,
    "scrolled": true
   },
   "outputs": [
    {
     "name": "stdout",
     "output_type": "stream",
     "text": [
      "      GEO2_MX2020  MX2020A_AFRDES  Estimated_pop\n",
      "0            1001               1          11001\n",
      "1            1001               2         931277\n",
      "2            1001               9            197\n",
      "3            1002               1            154\n",
      "4            1002               2          51137\n",
      "...           ...             ...            ...\n",
      "6252        32057               2          20186\n",
      "6253        32057               9              3\n",
      "6254        32058               1              7\n",
      "6255        32058               2           2749\n",
      "6256        32058               9              3\n",
      "\n",
      "[6257 rows x 3 columns]\n",
      "      GEO2_MX2020  Estimated_pop_GEOL2\n",
      "0            1001               942475\n",
      "1            1002                51291\n",
      "2            1003                58155\n",
      "3            1004                16952\n",
      "4            1005               129850\n",
      "...           ...                  ...\n",
      "2464        32054                19426\n",
      "2465        32055                31362\n",
      "2466        32056               147845\n",
      "2467        32057                20449\n",
      "2468        32058                 2759\n",
      "\n",
      "[2469 rows x 2 columns]\n",
      "      GEO2_MX2020  MX2020A_AFRDES  Estimated_pop  Estimated_pop_GEOL2    pct\n",
      "0            1001               1          11001               942475   1.17\n",
      "1            1001               2         931277               942475  98.81\n",
      "2            1001               9            197               942475   0.02\n",
      "3            1002               1            154                51291   0.30\n",
      "4            1002               2          51137                51291  99.70\n",
      "...           ...             ...            ...                  ...    ...\n",
      "6252        32057               2          20186                20449  98.71\n",
      "6253        32057               9              3                20449   0.01\n",
      "6254        32058               1              7                 2759   0.25\n",
      "6255        32058               2           2749                 2759  99.64\n",
      "6256        32058               9              3                 2759   0.11\n",
      "\n",
      "[6257 rows x 5 columns]\n"
     ]
    }
   ],
   "source": [
    "# Group by GEO2_MX2020 and MX2020A_AFRDES, summing the 'PERWT' for calculation estimated population for each group \n",
    "grouped_data = df.groupby(['GEO2_MX2020', 'MX2020A_AFRDES']).agg(Estimated_pop=('PERWT', 'sum')).reset_index()\n",
    "print(grouped_data)\n",
    "\n",
    "# Calculate estimated population for each smaller geographic region\n",
    "Estimated_population = grouped_data.groupby('GEO2_MX2020')['Estimated_pop'].sum().reset_index(name='Estimated_pop_GEOL2')\n",
    "print(Estimated_population)\n",
    "\n",
    "# Merge the total weights back to the grouped data\n",
    "grouped_data = grouped_data.merge(Estimated_population, on='GEO2_MX2020', how='left')\n",
    "\n",
    "# Calculate the proportion (percentage) of people by municipality\n",
    "grouped_data['pct'] = grouped_data['Estimated_pop'] / grouped_data['Estimated_pop_GEOL2']*100\n",
    "\n",
    "#rounding the value into 2 decimals\n",
    "grouped_data['pct'] = grouped_data['pct'].round(2)\n",
    "\n",
    "\n",
    "# Display the results\n",
    "print(grouped_data)"
   ]
  },
  {
   "cell_type": "markdown",
   "metadata": {
    "hidden": true
   },
   "source": [
    "#### Calculating Estimated Pop of \"MX2020A_AFRDES\" var\n",
    "\n",
    "* 1: AFRDES_YES_POP\n",
    "* 2: AFRDES_NO_POP\n",
    "* 9: AFRDES_UK_POP"
   ]
  },
  {
   "cell_type": "code",
   "execution_count": 113,
   "metadata": {
    "hidden": true,
    "scrolled": true
   },
   "outputs": [
    {
     "name": "stdout",
     "output_type": "stream",
     "text": [
      "MX2020A_AFRDES  GEO2_MX2020      1       2    9\n",
      "0                      1001  11001  931277  197\n",
      "1                      1002    154   51137    0\n",
      "2                      1003    226   57929    0\n",
      "3                      1004     71   16881    0\n",
      "4                      1005   3305  126521   24\n",
      "...                     ...    ...     ...  ...\n",
      "2464                  32054     33   19384    9\n",
      "2465                  32055    472   30865   25\n",
      "2466                  32056   2009  145742   94\n",
      "2467                  32057    260   20186    3\n",
      "2468                  32058      7    2749    3\n",
      "\n",
      "[2469 rows x 4 columns]\n",
      "MX2020A_AFRDES  GEO2_MX2020  AFRDES_YES_POP  AFRDES_NO_POP  AFRDES_UK_POP\n",
      "0                      1001           11001         931277            197\n",
      "1                      1002             154          51137              0\n",
      "2                      1003             226          57929              0\n",
      "3                      1004              71          16881              0\n",
      "4                      1005            3305         126521             24\n",
      "...                     ...             ...            ...            ...\n",
      "2464                  32054              33          19384              9\n",
      "2465                  32055             472          30865             25\n",
      "2466                  32056            2009         145742             94\n",
      "2467                  32057             260          20186              3\n",
      "2468                  32058               7           2749              3\n",
      "\n",
      "[2469 rows x 4 columns]\n"
     ]
    }
   ],
   "source": [
    "## Create a pivot table with MX2020A_AFRDES categories\n",
    "pivot_table = grouped_data.pivot_table(\n",
    "    index='GEO2_MX2020',  # Rows will be municipalities\n",
    "    columns='MX2020A_AFRDES',   # Columns will be MX2020A_AFRDES categories\n",
    "    values='Estimated_pop',  # Values to be aggregated\n",
    "    aggfunc='sum',        # Sum the values for aggregation\n",
    "    fill_value=0          # Fill missing values with 0\n",
    ")\n",
    "\n",
    "pivot_table = pivot_table.reset_index()\n",
    "print(pivot_table)\n",
    "\n",
    "# Rename the columns of pivot table for \"MX2020A_AFRDES\" variable\n",
    "# rename it based on datatsets.\n",
    "pivot_table_MX2020A_AFRDES = pivot_table.rename(columns={1: 'AFRDES_YES_POP', 2: 'AFRDES_NO_POP',\n",
    "                                       9 : 'AFRDES_UK_POP' })\n",
    "\n",
    "# Export the DataFrame to a CSV file \n",
    "pivot_table_MX2020A_AFRDES.to_csv(r'C:\\Users\\Shwarna.Bhattacharje\\Documents\\IPUMS_Datasets\\Dataset_output\\Mexico_2020\\MX20_MX2020A_AFRDES.csv', index=False, encoding='utf-8')\n",
    "\n",
    "# Display the modified DataFrame\n",
    "print(pivot_table_MX2020A_AFRDES)"
   ]
  },
  {
   "cell_type": "markdown",
   "metadata": {
    "hidden": true
   },
   "source": [
    "#### Calculating Percentage of \"MX2020A_AFRDES\" var\n",
    "\n",
    "* 1: AFRDES_YES_PCT\n",
    "* 2: AFRDES_NO_PCT\n",
    "* 9: AFRDES_UK_PCT"
   ]
  },
  {
   "cell_type": "code",
   "execution_count": 114,
   "metadata": {
    "hidden": true,
    "scrolled": false
   },
   "outputs": [
    {
     "name": "stdout",
     "output_type": "stream",
     "text": [
      "MX2020A_AFRDES  GEO2_MX2020     1      2     9\n",
      "0                      1001  1.17  98.81  0.02\n",
      "1                      1002  0.30  99.70  0.00\n",
      "2                      1003  0.39  99.61  0.00\n",
      "3                      1004  0.42  99.58  0.00\n",
      "4                      1005  2.55  97.44  0.02\n",
      "...                     ...   ...    ...   ...\n",
      "2464                  32054  0.17  99.78  0.05\n",
      "2465                  32055  1.51  98.42  0.08\n",
      "2466                  32056  1.36  98.58  0.06\n",
      "2467                  32057  1.27  98.71  0.01\n",
      "2468                  32058  0.25  99.64  0.11\n",
      "\n",
      "[2469 rows x 4 columns]\n",
      "\n",
      "Pivot table:\n",
      " MX2020A_AFRDES  GEO2_MX2020  AFRDES_YES_PCT  AFRDES_NO_PCT  AFRDES_UK_PCT\n",
      "0                      1001            1.17          98.81           0.02\n",
      "1                      1002            0.30          99.70           0.00\n",
      "2                      1003            0.39          99.61           0.00\n",
      "3                      1004            0.42          99.58           0.00\n",
      "4                      1005            2.55          97.44           0.02\n",
      "...                     ...             ...            ...            ...\n",
      "2464                  32054            0.17          99.78           0.05\n",
      "2465                  32055            1.51          98.42           0.08\n",
      "2466                  32056            1.36          98.58           0.06\n",
      "2467                  32057            1.27          98.71           0.01\n",
      "2468                  32058            0.25          99.64           0.11\n",
      "\n",
      "[2469 rows x 4 columns]\n"
     ]
    }
   ],
   "source": [
    "\n",
    "## Create a pivot table with MX2020A_AFRDES categories\n",
    "pivot_table = grouped_data.pivot_table(\n",
    "    index='GEO2_MX2020',  # Rows will be municipalities\n",
    "    columns='MX2020A_AFRDES',   # Columns will be MX2020A_AFRDES categories\n",
    "    values='pct',  # Values to be aggregated\n",
    "    aggfunc='sum',        # Sum the values for aggregation\n",
    "    fill_value=0          # Fill missing values with 0\n",
    ")\n",
    "\n",
    "pivot_table = pivot_table.reset_index()\n",
    "print(pivot_table)\n",
    "\n",
    "# Rename the columns of pivot table for \"MX2020A_AFRDES\" variable\n",
    "# rename it based on datatsets.\n",
    "pivot_table_MX2020A_AFRDES = pivot_table.rename(columns={1: 'AFRDES_YES_PCT', 2: 'AFRDES_NO_PCT',\n",
    "                                       9 : 'AFRDES_UK_PCT' })\n",
    "# Print Ownership variable in a pivot table\n",
    "print(\"\\nPivot table:\\n\", pivot_table_MX2020A_AFRDES)"
   ]
  },
  {
   "cell_type": "code",
   "execution_count": 115,
   "metadata": {
    "hidden": true
   },
   "outputs": [
    {
     "name": "stdout",
     "output_type": "stream",
     "text": [
      "      GEO2_MX2020  AFRDES_YES_POP  ...  AFRDES_NO_PCT  AFRDES_UK_PCT\n",
      "0            1001           11001  ...          98.81           0.02\n",
      "1            1002             154  ...          99.70           0.00\n",
      "2            1003             226  ...          99.61           0.00\n",
      "3            1004              71  ...          99.58           0.00\n",
      "4            1005            3305  ...          97.44           0.02\n",
      "...           ...             ...  ...            ...            ...\n",
      "2464        32054              33  ...          99.78           0.05\n",
      "2465        32055             472  ...          98.42           0.08\n",
      "2466        32056            2009  ...          98.58           0.06\n",
      "2467        32057             260  ...          98.71           0.01\n",
      "2468        32058               7  ...          99.64           0.11\n",
      "\n",
      "[2469 rows x 7 columns]\n"
     ]
    }
   ],
   "source": [
    "# Ensure both 'GEO2_MX2020' are of the same data type, convert to integer\n",
    "pivot_table_MX2020A_AFRDES['GEO2_MX2020'] = pivot_table_MX2020A_AFRDES['GEO2_MX2020'].astype(int)\n",
    "\n",
    "# Load the previously exported csv file on MX2020A_AFRDES\n",
    "MX2020A_AFRDES_CSV_file = pd.read_csv(r'C:\\Users\\Shwarna.Bhattacharje\\Documents\\IPUMS_Datasets\\Dataset_output\\Mexico_2020\\MX20_MX2020A_AFRDES.csv')\n",
    "\n",
    "# merge the PCT data to the MX2020A_AFRDES_CSV_file\n",
    "merged_data = MX2020A_AFRDES_CSV_file.merge(pivot_table_MX2020A_AFRDES, on= 'GEO2_MX2020', how= 'left')\n",
    "\n",
    "# Export the DataFrame to the previously exported CSV file\n",
    "merged_data.to_csv(r'C:\\Users\\Shwarna.Bhattacharje\\Documents\\IPUMS_Datasets\\Dataset_output\\Mexico_2020\\MX20_MX2020A_AFRDES.csv', index=False)\n",
    "\n",
    "# Display the modified DataFrame\n",
    "print(merged_data)"
   ]
  },
  {
   "cell_type": "markdown",
   "metadata": {
    "heading_collapsed": true
   },
   "source": [
    "### Variable: \"MX2020A_INDIG\"\n",
    "* Name: MX2020A_INDIG\n",
    "* Label: Persons considers himself/hersefl as indigenous according to their culture\n",
    "* Variable Text:This variable indicates whether the person considers him or herself as indigenous based on his or her culture.\n",
    "* Concept: Ethnicity and Language Variables -- PERSON\n",
    "* List of Values with Label: 1 (Yes); 2 (No); 8(Unknown); 9 (Not in Universe)"
   ]
  },
  {
   "cell_type": "code",
   "execution_count": 116,
   "metadata": {
    "hidden": true
   },
   "outputs": [
    {
     "name": "stdout",
     "output_type": "stream",
     "text": [
      "          COUNTRY  YEAR     SAMPLE  ...   INCEARN  MX2020A_AFRDES  MX2020A_INDIG\n",
      "0             484  2020  484202001  ...  99999999               2              2\n",
      "1             484  2020  484202001  ...  99999999               2              2\n",
      "2             484  2020  484202001  ...  99999999               2              2\n",
      "3             484  2020  484202001  ...     21500               2              2\n",
      "4             484  2020  484202001  ...      8600               2              2\n",
      "...           ...   ...        ...  ...       ...             ...            ...\n",
      "15015678      484  2020  484202001  ...  99999999               2              2\n",
      "15015679      484  2020  484202001  ...      6450               2              2\n",
      "15015680      484  2020  484202001  ...      5000               2              2\n",
      "15015681      484  2020  484202001  ...  99999999               2              2\n",
      "15015682      484  2020  484202001  ...  99999999               2              2\n",
      "\n",
      "[14217576 rows x 23 columns]\n"
     ]
    }
   ],
   "source": [
    "# Get the unique values of 'MX2020A_INDIG' column\n",
    "df.MX2020A_INDIG.unique()\n",
    "\n",
    "#Filtering out rows where 'MX2020A_INDIG' = 9 since 9 equal to NIU(Not in universe)\n",
    "filtered_df = df[df['MX2020A_INDIG']!= 9]\n",
    "\n",
    "print(filtered_df)"
   ]
  },
  {
   "cell_type": "code",
   "execution_count": 117,
   "metadata": {
    "hidden": true,
    "scrolled": true
   },
   "outputs": [
    {
     "name": "stdout",
     "output_type": "stream",
     "text": [
      "      GEO2_MX2020  MX2020A_INDIG  Estimated_pop\n",
      "0            1001              1          59858\n",
      "1            1001              2         841218\n",
      "2            1001              8            186\n",
      "3            1002              1           1643\n",
      "4            1002              2          46632\n",
      "...           ...            ...            ...\n",
      "6717        32057              2          18742\n",
      "6718        32057              8             72\n",
      "6719        32058              1            101\n",
      "6720        32058              2           2539\n",
      "6721        32058              8              4\n",
      "\n",
      "[6722 rows x 3 columns]\n",
      "      GEO2_MX2020  Estimated_pop_GEOL2\n",
      "0            1001               901262\n",
      "1            1002                48275\n",
      "2            1003                55019\n",
      "3            1004                15959\n",
      "4            1005               122544\n",
      "...           ...                  ...\n",
      "2464        32054                18042\n",
      "2465        32055                29987\n",
      "2466        32056               140760\n",
      "2467        32057                19052\n",
      "2468        32058                 2644\n",
      "\n",
      "[2469 rows x 2 columns]\n",
      "      GEO2_MX2020  MX2020A_INDIG  Estimated_pop  Estimated_pop_GEOL2    pct\n",
      "0            1001              1          59858               901262   6.64\n",
      "1            1001              2         841218               901262  93.34\n",
      "2            1001              8            186               901262   0.02\n",
      "3            1002              1           1643                48275   3.40\n",
      "4            1002              2          46632                48275  96.60\n",
      "...           ...            ...            ...                  ...    ...\n",
      "6717        32057              2          18742                19052  98.37\n",
      "6718        32057              8             72                19052   0.38\n",
      "6719        32058              1            101                 2644   3.82\n",
      "6720        32058              2           2539                 2644  96.03\n",
      "6721        32058              8              4                 2644   0.15\n",
      "\n",
      "[6722 rows x 5 columns]\n"
     ]
    }
   ],
   "source": [
    "# Group by GEO2_MX2020 and MX2020A_INDIG, summing the 'PERWT' for calculation estimated population for each group \n",
    "grouped_data = filtered_df.groupby(['GEO2_MX2020', 'MX2020A_INDIG']).agg(Estimated_pop=('PERWT', 'sum')).reset_index()\n",
    "print(grouped_data)\n",
    "\n",
    "# Calculate estimated population for each smaller geographic region\n",
    "Estimated_population = grouped_data.groupby('GEO2_MX2020')['Estimated_pop'].sum().reset_index(name='Estimated_pop_GEOL2')\n",
    "print(Estimated_population)\n",
    "\n",
    "# Merge the total weights back to the grouped data\n",
    "grouped_data = grouped_data.merge(Estimated_population, on='GEO2_MX2020', how='left')\n",
    "\n",
    "# Calculate the proportion (percentage) of people by municipality\n",
    "grouped_data['pct'] = grouped_data['Estimated_pop'] / grouped_data['Estimated_pop_GEOL2']*100\n",
    "\n",
    "#rounding the value into 2 decimals\n",
    "grouped_data['pct'] = grouped_data['pct'].round(2)\n",
    "\n",
    "\n",
    "# Display the results\n",
    "print(grouped_data)"
   ]
  },
  {
   "cell_type": "markdown",
   "metadata": {
    "heading_collapsed": true,
    "hidden": true
   },
   "source": [
    "#### Calculating Estimated Population of  \"MX2020A_INDIG\" var\n",
    "\n",
    "* 1: INDIG_YES_POP\n",
    "* 2: INDIG_NO_POP\n",
    "* 8: INDIG_UK_POP"
   ]
  },
  {
   "cell_type": "code",
   "execution_count": 120,
   "metadata": {
    "hidden": true,
    "scrolled": true
   },
   "outputs": [
    {
     "name": "stdout",
     "output_type": "stream",
     "text": [
      "MX2020A_INDIG  GEO2_MX2020      1       2    8\n",
      "0                     1001  59858  841218  186\n",
      "1                     1002   1643   46632    0\n",
      "2                     1003   2308   52564  147\n",
      "3                     1004   1030   14905   24\n",
      "4                     1005   7966  114554   24\n",
      "...                    ...    ...     ...  ...\n",
      "2464                 32054    138   17850   54\n",
      "2465                 32055   1187   28760   40\n",
      "2466                 32056   7939  132369  452\n",
      "2467                 32057    238   18742   72\n",
      "2468                 32058    101    2539    4\n",
      "\n",
      "[2469 rows x 4 columns]\n",
      "MX2020A_INDIG  GEO2_MX2020  INDIG_YES_POP  INDIG_NO_POP  INDIG_UK_POP\n",
      "0                     1001          59858        841218           186\n",
      "1                     1002           1643         46632             0\n",
      "2                     1003           2308         52564           147\n",
      "3                     1004           1030         14905            24\n",
      "4                     1005           7966        114554            24\n",
      "...                    ...            ...           ...           ...\n",
      "2464                 32054            138         17850            54\n",
      "2465                 32055           1187         28760            40\n",
      "2466                 32056           7939        132369           452\n",
      "2467                 32057            238         18742            72\n",
      "2468                 32058            101          2539             4\n",
      "\n",
      "[2469 rows x 4 columns]\n"
     ]
    }
   ],
   "source": [
    "\n",
    "## Create a pivot table with MX2020A_INDIG categories\n",
    "pivot_table = grouped_data.pivot_table(\n",
    "    index='GEO2_MX2020',  # Rows will be municipalities\n",
    "    columns='MX2020A_INDIG',   # Columns will be MX2020A_AFRDES categories\n",
    "    values='Estimated_pop',  # Values to be aggregated\n",
    "    aggfunc='sum',        # Sum the values for aggregation\n",
    "    fill_value=0          # Fill missing values with 0\n",
    ")\n",
    "\n",
    "pivot_table = pivot_table.reset_index()\n",
    "print(pivot_table)\n",
    "\n",
    "# Rename the columns of pivot table for \"MX2020A_INDIG\" variable\n",
    "# rename it based on datatsets.\n",
    "pivot_table_MX2020A_INDIG = pivot_table.rename(columns={1: 'INDIG_YES_POP', 2: 'INDIG_NO_POP',\n",
    "                                       8 : 'INDIG_UK_POP' })\n",
    "# Export the DataFrame to a CSV file\n",
    "pivot_table_MX2020A_INDIG.to_csv(r'C:\\Users\\Shwarna.Bhattacharje\\Documents\\IPUMS_Datasets\\Dataset_output\\Mexico_2020\\MX20_MX2020A_INDIG.csv', index=False, encoding='utf-8')\n",
    "\n",
    "# Display the modified DataFrame\n",
    "print(pivot_table_MX2020A_INDIG)"
   ]
  },
  {
   "cell_type": "markdown",
   "metadata": {
    "hidden": true
   },
   "source": [
    "#### Calculating Percentage of \"MX2020A_INDIG\" var\n",
    "\n",
    "* 1: INDIG_YES_PCT\n",
    "* 2: INDIG_NO_PCT\n",
    "* 8: INDIG_UK_PCT"
   ]
  },
  {
   "cell_type": "code",
   "execution_count": 121,
   "metadata": {
    "hidden": true,
    "scrolled": true
   },
   "outputs": [
    {
     "name": "stdout",
     "output_type": "stream",
     "text": [
      "MX2020A_INDIG  GEO2_MX2020     1      2     8\n",
      "0                     1001  6.64  93.34  0.02\n",
      "1                     1002  3.40  96.60  0.00\n",
      "2                     1003  4.19  95.54  0.27\n",
      "3                     1004  6.45  93.40  0.15\n",
      "4                     1005  6.50  93.48  0.02\n",
      "...                    ...   ...    ...   ...\n",
      "2464                 32054  0.76  98.94  0.30\n",
      "2465                 32055  3.96  95.91  0.13\n",
      "2466                 32056  5.64  94.04  0.32\n",
      "2467                 32057  1.25  98.37  0.38\n",
      "2468                 32058  3.82  96.03  0.15\n",
      "\n",
      "[2469 rows x 4 columns]\n",
      "MX2020A_INDIG  GEO2_MX2020  INDIG_YES_PCT  INDIG_NO_PCT  INDIGS_UK_PCT\n",
      "0                     1001           6.64         93.34           0.02\n",
      "1                     1002           3.40         96.60           0.00\n",
      "2                     1003           4.19         95.54           0.27\n",
      "3                     1004           6.45         93.40           0.15\n",
      "4                     1005           6.50         93.48           0.02\n",
      "...                    ...            ...           ...            ...\n",
      "2464                 32054           0.76         98.94           0.30\n",
      "2465                 32055           3.96         95.91           0.13\n",
      "2466                 32056           5.64         94.04           0.32\n",
      "2467                 32057           1.25         98.37           0.38\n",
      "2468                 32058           3.82         96.03           0.15\n",
      "\n",
      "[2469 rows x 4 columns]\n"
     ]
    }
   ],
   "source": [
    "\n",
    "## Create a pivot table with MX2020A_INDIG categories\n",
    "pivot_table = grouped_data.pivot_table(\n",
    "    index='GEO2_MX2020',  # Rows will be municipalities\n",
    "    columns='MX2020A_INDIG',   # Columns will be MX2020A_INDIG categories\n",
    "    values='pct',  # Values to be aggregated\n",
    "    aggfunc='sum',        # Sum the values for aggregation\n",
    "    fill_value=0          # Fill missing values with 0\n",
    ")\n",
    "\n",
    "pivot_table = pivot_table.reset_index()\n",
    "print(pivot_table)\n",
    "\n",
    "# Rename the columns of pivot table for \"MX2020A_INDIG\" variable\n",
    "# rename it based on datatsets.\n",
    "pivot_table_MX2020A_INDIG = pivot_table.rename(columns={1: 'INDIG_YES_PCT', 2: 'INDIG_NO_PCT',\n",
    "                                       8 : 'INDIGS_UK_PCT' })\n",
    "\n",
    "# Display the modified DataFrame\n",
    "print(pivot_table_MX2020A_INDIG)"
   ]
  },
  {
   "cell_type": "code",
   "execution_count": 122,
   "metadata": {
    "hidden": true
   },
   "outputs": [
    {
     "name": "stdout",
     "output_type": "stream",
     "text": [
      "      GEO2_MX2020  INDIG_YES_POP  ...  INDIG_NO_PCT  INDIGS_UK_PCT\n",
      "0            1001          59858  ...         93.34           0.02\n",
      "1            1002           1643  ...         96.60           0.00\n",
      "2            1003           2308  ...         95.54           0.27\n",
      "3            1004           1030  ...         93.40           0.15\n",
      "4            1005           7966  ...         93.48           0.02\n",
      "...           ...            ...  ...           ...            ...\n",
      "2464        32054            138  ...         98.94           0.30\n",
      "2465        32055           1187  ...         95.91           0.13\n",
      "2466        32056           7939  ...         94.04           0.32\n",
      "2467        32057            238  ...         98.37           0.38\n",
      "2468        32058            101  ...         96.03           0.15\n",
      "\n",
      "[2469 rows x 7 columns]\n"
     ]
    }
   ],
   "source": [
    "# Ensure both 'GEO2_MX2020' are of the same data type, convert to integer\n",
    "pivot_table_MX2020A_INDIG['GEO2_MX2020'] = pivot_table_MX2020A_INDIG['GEO2_MX2020'].astype(int)\n",
    "\n",
    "# Load the previously exported csv file on MX2020A_INDIG\n",
    "MX2020A_INDIG_CSV_file = pd.read_csv(r'C:\\Users\\Shwarna.Bhattacharje\\Documents\\IPUMS_Datasets\\Dataset_output\\Mexico_2020\\MX20_MX2020A_INDIG.csv')\n",
    "\n",
    "# merge the PCT data to the MX2020A_AFRDES_CSV_file\n",
    "merged_data = MX2020A_INDIG_CSV_file.merge(pivot_table_MX2020A_INDIG, on= 'GEO2_MX2020', how= 'left')\n",
    "\n",
    "# Export the DataFrame to the previously exported CSV file\n",
    "merged_data.to_csv(r'C:\\Users\\Shwarna.Bhattacharje\\Documents\\IPUMS_Datasets\\Dataset_output\\Mexico_2020\\MX20_MX2020A_INDIG.csv', index=False)\n",
    "\n",
    "# Display the modified DataFrame\n",
    "print(merged_data)"
   ]
  },
  {
   "cell_type": "markdown",
   "metadata": {
    "heading_collapsed": true
   },
   "source": [
    "## Subseting Country: Puerto Rico"
   ]
  },
  {
   "cell_type": "code",
   "execution_count": 2,
   "metadata": {
    "hidden": true
   },
   "outputs": [
    {
     "name": "stdout",
     "output_type": "stream",
     "text": [
      "Iteration 1 completed\n",
      "Iteration 2 completed\n",
      "Iteration 3 completed\n",
      "Iteration 4 completed\n",
      "Iteration 5 completed\n",
      "Iteration 6 completed\n",
      "Iteration 7 completed\n",
      "Iteration 8 completed\n",
      "Iteration 9 completed\n",
      "Iteration 10 completed\n",
      "Iteration 11 completed\n",
      "Iteration 12 completed\n",
      "Iteration 13 completed\n",
      "Iteration 14 completed\n",
      "Iteration 15 completed\n",
      "Iteration 16 completed\n",
      "Iteration 17 completed\n",
      "Iteration 18 completed\n",
      "Iteration 19 completed\n",
      "Iteration 20 completed\n",
      "Iteration 21 completed\n",
      "Iteration 22 completed\n",
      "Iteration 23 completed\n",
      "Iteration 24 completed\n",
      "Iteration 25 completed\n",
      "Iteration 26 completed\n",
      "Iteration 27 completed\n",
      "Iteration 28 completed\n",
      "Iteration 29 completed\n",
      "Iteration 30 completed\n",
      "Iteration 31 completed\n",
      "Iteration 32 completed\n",
      "Iteration 33 completed\n",
      "Iteration 34 completed\n",
      "Iteration 35 completed\n",
      "Iteration 36 completed\n",
      "Iteration 37 completed\n",
      "Iteration 38 completed\n",
      "Iteration 39 completed\n",
      "Iteration 40 completed\n",
      "Iteration 41 completed\n",
      "Iteration 42 completed\n",
      "Iteration 43 completed\n",
      "Iteration 44 completed\n",
      "Iteration 45 completed\n",
      "Iteration 46 completed\n",
      "Iteration 47 completed\n",
      "Iteration 48 completed\n",
      "Iteration 49 completed\n",
      "Iteration 50 completed\n",
      "Iteration 51 completed\n",
      "Iteration 52 completed\n",
      "Iteration 53 completed\n",
      "Iteration 54 completed\n",
      "Iteration 55 completed\n",
      "Iteration 56 completed\n",
      "Iteration 57 completed\n",
      "Iteration 58 completed\n",
      "Iteration 59 completed\n",
      "Iteration 60 completed\n",
      "Iteration 61 completed\n",
      "Iteration 62 completed\n",
      "Iteration 63 completed\n",
      "Iteration 64 completed\n",
      "Iteration 65 completed\n",
      "Iteration 66 completed\n",
      "Iteration 67 completed\n",
      "Iteration 68 completed\n",
      "Iteration 69 completed\n",
      "Iteration 70 completed\n",
      "Iteration 71 completed\n",
      "Iteration 72 completed\n",
      "Iteration 73 completed\n",
      "Iteration 74 completed\n",
      "Iteration 75 completed\n",
      "Iteration 76 completed\n",
      "Iteration 77 completed\n",
      "Iteration 78 completed\n",
      "Iteration 79 completed\n",
      "Iteration 80 completed\n",
      "Iteration 81 completed\n",
      "Iteration 82 completed\n",
      "Iteration 83 completed\n",
      "Iteration 84 completed\n",
      "Iteration 85 completed\n",
      "Iteration 86 completed\n",
      "Iteration 87 completed\n",
      "Iteration 88 completed\n",
      "Iteration 89 completed\n",
      "Iteration 90 completed\n",
      "Iteration 91 completed\n",
      "Iteration 92 completed\n",
      "Iteration 93 completed\n",
      "Iteration 94 completed\n",
      "Iteration 95 completed\n",
      "Iteration 96 completed\n",
      "Iteration 97 completed\n",
      "Iteration 98 completed\n",
      "Iteration 99 completed\n",
      "Iteration 100 completed\n",
      "Iteration 101 completed\n",
      "Iteration 102 completed\n",
      "Iteration 103 completed\n",
      "Iteration 104 completed\n",
      "Iteration 105 completed\n",
      "Iteration 106 completed\n",
      "Iteration 107 completed\n",
      "Iteration 108 completed\n",
      "Iteration 109 completed\n",
      "Iteration 110 completed\n",
      "Iteration 111 completed\n",
      "Iteration 112 completed\n",
      "Iteration 113 completed\n",
      "Iteration 114 completed\n",
      "Iteration 115 completed\n",
      "Iteration 116 completed\n",
      "Iteration 117 completed\n",
      "Iteration 118 completed\n",
      "Iteration 119 completed\n",
      "Iteration 120 completed\n",
      "Total number of iterations: 120\n"
     ]
    }
   ],
   "source": [
    "# Define the chunk size (number of rows to load at a time)\n",
    "chunk_size = 1000000\n",
    "\n",
    "# Path to the original CSV file downloaded from box, stored into the local computer\n",
    "# remember to use 'r' infront of the file path if you use '\\'.\n",
    "csv_file_path = r'C:\\Users\\Shwarna.Bhattacharje\\Documents\\IPUMS_Datasets\\ipumsi_00021.csv\\ipumsi_00021.csv'\n",
    "\n",
    "# Path to save intended country with applicable year, CSV naming convention: '{Country}_ipums_{Year}': e.g. 'PuertoRico_ipums_2020'\n",
    "output_file_path = r'C:\\Users\\Shwarna.Bhattacharje\\Documents\\IPUMS_Datasets\\ipums_americas_data\\PuertoRico_ipums_2020.csv'\n",
    "\n",
    "# Initialize iteration counter and header flag\n",
    "counter = 0\n",
    "header_written = False\n",
    "\n",
    "# Loop through the CSV file in chunks\n",
    "for i, chunk in enumerate(pd.read_csv(csv_file_path, iterator=True, chunksize=chunk_size)):\n",
    "    # Increment the iteration counter\n",
    "    counter += 1\n",
    "\n",
    "    # Apply multiple filters to the chunk\n",
    "    # Define 'COUNTRY' and 'YEAR' code for the filter\n",
    "    # Here example for Puerto Rico: 'COUNTRY': 630, 'YEAR': 2020\n",
    "    filtered_chunk = chunk[(chunk['COUNTRY'] == 630) & (chunk['YEAR'] == 2020)]\n",
    "    \n",
    "    # Filter out columns where all row values of the particular column are NaN\n",
    "    filtered_chunk = filtered_chunk.dropna(axis=1, how='all')  \n",
    "\n",
    "\n",
    "     # Ensure column consistency\n",
    "    if not filtered_chunk.empty:\n",
    "        if not header_written:\n",
    "            filtered_chunk.to_csv(output_file_path, mode='w', index=False)\n",
    "            header_written = True  # Write header only once\n",
    "        else:\n",
    "            filtered_chunk.to_csv(output_file_path, mode='a', header=False, index=False)\n",
    "    # Print the current iteration number\n",
    "    print(f\"Iteration {counter} completed\")\n",
    "\n",
    "# After the loop, print the total number of iterations\n",
    "print(f\"Total number of iterations: {counter}\")\n"
   ]
  },
  {
   "cell_type": "code",
   "execution_count": 2,
   "metadata": {
    "hidden": true
   },
   "outputs": [
    {
     "data": {
      "text/html": [
       "<div>\n",
       "<style scoped>\n",
       "    .dataframe tbody tr th:only-of-type {\n",
       "        vertical-align: middle;\n",
       "    }\n",
       "\n",
       "    .dataframe tbody tr th {\n",
       "        vertical-align: top;\n",
       "    }\n",
       "\n",
       "    .dataframe thead th {\n",
       "        text-align: right;\n",
       "    }\n",
       "</style>\n",
       "<table border=\"1\" class=\"dataframe\">\n",
       "  <thead>\n",
       "    <tr style=\"text-align: right;\">\n",
       "      <th></th>\n",
       "      <th>COUNTRY</th>\n",
       "      <th>YEAR</th>\n",
       "      <th>SAMPLE</th>\n",
       "      <th>SERIAL</th>\n",
       "      <th>HHWT</th>\n",
       "      <th>GEOLEV1</th>\n",
       "      <th>GEO1_PR2020</th>\n",
       "      <th>OWNERSHIP</th>\n",
       "      <th>OWNERSHIPD</th>\n",
       "      <th>INTERNET</th>\n",
       "      <th>PERNUM</th>\n",
       "      <th>PERWT</th>\n",
       "      <th>RACE</th>\n",
       "      <th>INDIG</th>\n",
       "      <th>ANCEST</th>\n",
       "      <th>EDATTAIN</th>\n",
       "      <th>EDATTAIND</th>\n",
       "      <th>EMPSTAT</th>\n",
       "      <th>EMPSTATD</th>\n",
       "      <th>INCEARN</th>\n",
       "    </tr>\n",
       "  </thead>\n",
       "  <tbody>\n",
       "    <tr>\n",
       "      <th>0</th>\n",
       "      <td>630</td>\n",
       "      <td>2020</td>\n",
       "      <td>630202001</td>\n",
       "      <td>1000</td>\n",
       "      <td>5.0</td>\n",
       "      <td>630079</td>\n",
       "      <td>402.0</td>\n",
       "      <td>2</td>\n",
       "      <td>250</td>\n",
       "      <td>1.0</td>\n",
       "      <td>1</td>\n",
       "      <td>5.0</td>\n",
       "      <td>10.0</td>\n",
       "      <td>2.0</td>\n",
       "      <td>261.0</td>\n",
       "      <td>2</td>\n",
       "      <td>221</td>\n",
       "      <td>2</td>\n",
       "      <td>200</td>\n",
       "      <td>0.0</td>\n",
       "    </tr>\n",
       "    <tr>\n",
       "      <th>1</th>\n",
       "      <td>630</td>\n",
       "      <td>2020</td>\n",
       "      <td>630202001</td>\n",
       "      <td>1000</td>\n",
       "      <td>5.0</td>\n",
       "      <td>630079</td>\n",
       "      <td>402.0</td>\n",
       "      <td>2</td>\n",
       "      <td>250</td>\n",
       "      <td>1.0</td>\n",
       "      <td>2</td>\n",
       "      <td>6.0</td>\n",
       "      <td>10.0</td>\n",
       "      <td>2.0</td>\n",
       "      <td>261.0</td>\n",
       "      <td>3</td>\n",
       "      <td>311</td>\n",
       "      <td>1</td>\n",
       "      <td>110</td>\n",
       "      <td>464.0</td>\n",
       "    </tr>\n",
       "    <tr>\n",
       "      <th>2</th>\n",
       "      <td>630</td>\n",
       "      <td>2020</td>\n",
       "      <td>630202001</td>\n",
       "      <td>1000</td>\n",
       "      <td>5.0</td>\n",
       "      <td>630079</td>\n",
       "      <td>402.0</td>\n",
       "      <td>2</td>\n",
       "      <td>250</td>\n",
       "      <td>1.0</td>\n",
       "      <td>3</td>\n",
       "      <td>9.0</td>\n",
       "      <td>10.0</td>\n",
       "      <td>2.0</td>\n",
       "      <td>261.0</td>\n",
       "      <td>2</td>\n",
       "      <td>212</td>\n",
       "      <td>0</td>\n",
       "      <td>0</td>\n",
       "      <td>0.0</td>\n",
       "    </tr>\n",
       "    <tr>\n",
       "      <th>3</th>\n",
       "      <td>630</td>\n",
       "      <td>2020</td>\n",
       "      <td>630202001</td>\n",
       "      <td>1000</td>\n",
       "      <td>5.0</td>\n",
       "      <td>630079</td>\n",
       "      <td>402.0</td>\n",
       "      <td>2</td>\n",
       "      <td>250</td>\n",
       "      <td>1.0</td>\n",
       "      <td>4</td>\n",
       "      <td>10.0</td>\n",
       "      <td>10.0</td>\n",
       "      <td>2.0</td>\n",
       "      <td>261.0</td>\n",
       "      <td>1</td>\n",
       "      <td>110</td>\n",
       "      <td>0</td>\n",
       "      <td>0</td>\n",
       "      <td>0.0</td>\n",
       "    </tr>\n",
       "    <tr>\n",
       "      <th>4</th>\n",
       "      <td>630</td>\n",
       "      <td>2020</td>\n",
       "      <td>630202001</td>\n",
       "      <td>2000</td>\n",
       "      <td>22.0</td>\n",
       "      <td>630079</td>\n",
       "      <td>302.0</td>\n",
       "      <td>1</td>\n",
       "      <td>110</td>\n",
       "      <td>1.0</td>\n",
       "      <td>1</td>\n",
       "      <td>22.0</td>\n",
       "      <td>10.0</td>\n",
       "      <td>2.0</td>\n",
       "      <td>261.0</td>\n",
       "      <td>1</td>\n",
       "      <td>120</td>\n",
       "      <td>3</td>\n",
       "      <td>300</td>\n",
       "      <td>0.0</td>\n",
       "    </tr>\n",
       "  </tbody>\n",
       "</table>\n",
       "</div>"
      ],
      "text/plain": [
       "   COUNTRY  YEAR     SAMPLE  SERIAL  ...  EDATTAIND  EMPSTAT  EMPSTATD  INCEARN\n",
       "0      630  2020  630202001    1000  ...        221        2       200      0.0\n",
       "1      630  2020  630202001    1000  ...        311        1       110    464.0\n",
       "2      630  2020  630202001    1000  ...        212        0         0      0.0\n",
       "3      630  2020  630202001    1000  ...        110        0         0      0.0\n",
       "4      630  2020  630202001    2000  ...        120        3       300      0.0\n",
       "\n",
       "[5 rows x 20 columns]"
      ]
     },
     "execution_count": 2,
     "metadata": {},
     "output_type": "execute_result"
    }
   ],
   "source": [
    "# Path to the output csv file for your intended country\n",
    "file_path = r'C:\\Users\\Shwarna.Bhattacharje\\Documents\\IPUMS_Datasets\\ipums_americas_data\\PuertoRico_ipums_2020.csv'\n",
    "\n",
    "# load the output csv file for intended country\n",
    "df = pd.read_csv(file_path)\n",
    "\n",
    "# Prview Datafrane\n",
    "df.head()\n"
   ]
  },
  {
   "cell_type": "code",
   "execution_count": 3,
   "metadata": {
    "hidden": true
   },
   "outputs": [
    {
     "name": "stdout",
     "output_type": "stream",
     "text": [
      "        COUNTRY  YEAR     SAMPLE  ...  EMPSTAT  EMPSTATD  INCEARN\n",
      "0           630  2020  630202001  ...        2       200        0\n",
      "1           630  2020  630202001  ...        1       110      464\n",
      "2           630  2020  630202001  ...        0         0        0\n",
      "3           630  2020  630202001  ...        0         0        0\n",
      "4           630  2020  630202001  ...        3       300        0\n",
      "...         ...   ...        ...  ...      ...       ...      ...\n",
      "128980      630  2020  630202001  ...        3       300        0\n",
      "128981      630  2020  630202001  ...        3       300        0\n",
      "128982      630  2020  630202001  ...        3       300        0\n",
      "128983      630  2020  630202001  ...        3       300        0\n",
      "128984      630  2020  630202001  ...        1       110    26000\n",
      "\n",
      "[128985 rows x 20 columns]\n",
      "COUNTRY        int64\n",
      "YEAR           int64\n",
      "SAMPLE         int64\n",
      "SERIAL         int64\n",
      "HHWT           int32\n",
      "GEOLEV1        int64\n",
      "GEO1_PR2020    int32\n",
      "OWNERSHIP      int64\n",
      "OWNERSHIPD     int64\n",
      "INTERNET       int32\n",
      "PERNUM         int64\n",
      "PERWT          int32\n",
      "RACE           int32\n",
      "INDIG          int32\n",
      "ANCEST         int32\n",
      "EDATTAIN       int64\n",
      "EDATTAIND      int64\n",
      "EMPSTAT        int64\n",
      "EMPSTATD       int64\n",
      "INCEARN        int32\n",
      "dtype: object\n"
     ]
    }
   ],
   "source": [
    "# Iterate over all columns\n",
    "for col in df.columns:\n",
    "    # Check if the column is a float type and if all decimal parts are zero\n",
    "    if pd.api.types.is_float_dtype(df[col]) and (df[col] % 1 == 0).all():\n",
    "        # Convert the column to int if all decimal values are 0\n",
    "        df[col] = df[col].astype(int)\n",
    "\n",
    "# Display the DataFrame and its dtypes to confirm the conversion\n",
    "print(df)\n",
    "print(df.dtypes)\n"
   ]
  },
  {
   "cell_type": "markdown",
   "metadata": {
    "hidden": true
   },
   "source": [
    "### Variable: \"RACE\"\n",
    "* Name: RACE\n",
    "* Label: Race or color\n",
    "* Variable Text: Race identifies the racial group with which a person identified himself or herself, or towhich an enumerator assigned them. Determinations of race are based largely onappearance or ancestral place of origin.\n",
    "* Concept: Ethnicity and Language Variables -- PERSON\n",
    "* List of Values with Label:\n",
    "    10 (White); 20 (Black); 21 (Black African); 22 (Black Caribbean); 23 (Afro-Ecuadorian);\n",
    "    24 (Other Black); 30 (Indigenous); 31 (American Indian); 32 (Latin American Indian);  \n",
    "    40 (Asian); 41 (Chinese); 42 (Japanese); 43 (Korean); 44 (Vietnamese); 45 (Filipino);\n",
    "    46 (Indian); 47 (Pakistani); 48 (Bangladeshi); 49 (Other Asian); 50 (Mixed Race);\n",
    "    51 (Brown/Brazil); 52 (Mestizo/Indigenous and White); 53 (Mulatto/ Black and White); \n",
    "    54 (Coloured/South Africa); 55 (Two or more races); 60 (Other); 61 (Montubio/ Ecuador);\n",
    "    99 (Unkown)"
   ]
  },
  {
   "attachments": {
    "image.png": {
     "image/png": "[encoded data removed]"
    }
   },
   "cell_type": "markdown",
   "metadata": {
    "hidden": true
   },
   "source": [
    "![image.png](attachment:image.png)"
   ]
  },
  {
   "cell_type": "code",
   "execution_count": 14,
   "metadata": {
    "hidden": true
   },
   "outputs": [
    {
     "data": {
      "text/plain": [
       "array([10, 20, 60, 50, 40, 30])"
      ]
     },
     "execution_count": 14,
     "metadata": {},
     "output_type": "execute_result"
    }
   ],
   "source": [
    "# Get the unique values of 'Race' column\n",
    "df.RACE.unique()"
   ]
  },
  {
   "cell_type": "code",
   "execution_count": 15,
   "metadata": {
    "hidden": true
   },
   "outputs": [
    {
     "name": "stdout",
     "output_type": "stream",
     "text": [
      "0         10\n",
      "1         10\n",
      "2         10\n",
      "3         10\n",
      "4         10\n",
      "          ..\n",
      "128980    60\n",
      "128981    60\n",
      "128982    10\n",
      "128983    10\n",
      "128984    10\n",
      "Name: RACE, Length: 128985, dtype: int32\n"
     ]
    }
   ],
   "source": [
    "# Race categories are reclassified through creating a new dictionary - 10 : 'White', 20: 'Black', 30: 'Indigenous', 40: 'Asian', 50: 'Misxed Race', 60: 'Other'\n",
    "# Converting 31, 32 into 30; 41, 42, 43, 44, 45,46,49 into 40; 55 into 50\n",
    "\n",
    "# Define the mapping dictionary for race categories \n",
    "race_mapping = { 10: 10, 20: 20, 31: 30, 32: 30, 41: 40, 42: 40, 43: 40, 44: 40, 45:40, 46:40, 49: 40, \n",
    "               55: 50, 60: 60}\n",
    "\n",
    "# Apply the mapping to the 'race' column\n",
    "df[\"RACE\"] = df[\"RACE\"].replace(race_mapping)\n",
    "print(df.RACE)\n"
   ]
  },
  {
   "cell_type": "code",
   "execution_count": 16,
   "metadata": {
    "hidden": true
   },
   "outputs": [
    {
     "name": "stdout",
     "output_type": "stream",
     "text": [
      "     GEO1_PR2020  RACE  Estimated_pop\n",
      "0            101    10         105722\n",
      "1            101    20           4889\n",
      "2            101    30            164\n",
      "3            101    40             94\n",
      "4            101    50          20441\n",
      "..           ...   ...            ...\n",
      "153         1102    20          32367\n",
      "154         1102    30            104\n",
      "155         1102    40            452\n",
      "156         1102    50           3314\n",
      "157         1102    60          31650\n",
      "\n",
      "[158 rows x 3 columns]\n",
      "    GEO1_PR2020  Estimated_pop_GEOL2\n",
      "0           101               149549\n",
      "1           102               115778\n",
      "2           201               123359\n",
      "3           202               103125\n",
      "4           301               119185\n",
      "5           302               123571\n",
      "6           401               105782\n",
      "7           402               149944\n",
      "8           403               127383\n",
      "9           501               136061\n",
      "10          502               112414\n",
      "11          503               109274\n",
      "12          601               128260\n",
      "13          602               130116\n",
      "14          701               112536\n",
      "15          801                89732\n",
      "16          802                83719\n",
      "17          803               108958\n",
      "18          804               150862\n",
      "19          805                82981\n",
      "20          806                93304\n",
      "21          901               145842\n",
      "22          902               139785\n",
      "23         1001               126371\n",
      "24         1002               159205\n",
      "25         1101               118086\n",
      "26         1102               110461\n",
      "     GEO1_PR2020  RACE  Estimated_pop  Estimated_pop_GEOL2    pct\n",
      "0            101    10         105722               149549  70.69\n",
      "1            101    20           4889               149549   3.27\n",
      "2            101    30            164               149549   0.11\n",
      "3            101    40             94               149549   0.06\n",
      "4            101    50          20441               149549  13.67\n",
      "..           ...   ...            ...                  ...    ...\n",
      "153         1102    20          32367               110461  29.30\n",
      "154         1102    30            104               110461   0.09\n",
      "155         1102    40            452               110461   0.41\n",
      "156         1102    50           3314               110461   3.00\n",
      "157         1102    60          31650               110461  28.65\n",
      "\n",
      "[158 rows x 5 columns]\n"
     ]
    }
   ],
   "source": [
    "# Group by GEO1_PR2020 and RACE, summing the 'PERWT' for calculation estimated population for each group \n",
    "grouped_data = df.groupby(['GEO1_PR2020', 'RACE']).agg(Estimated_pop=('PERWT', 'sum')).reset_index()\n",
    "print(grouped_data)\n",
    "\n",
    "# Calculate estimated population for each smaller geographic region\n",
    "Estimated_population = grouped_data.groupby('GEO1_PR2020')['Estimated_pop'].sum().reset_index(name='Estimated_pop_GEOL2')\n",
    "print(Estimated_population)\n",
    "\n",
    "# Merge the estimated population back to the grouped data\n",
    "grouped_data = grouped_data.merge(Estimated_population, on='GEO1_PR2020', how='left')\n",
    "\n",
    "# Calculate the proportion (percentage) of people  by region\n",
    "grouped_data['pct'] = grouped_data['Estimated_pop'] / grouped_data['Estimated_pop_GEOL2']*100\n",
    "\n",
    "#rounding the value into 2 decimals\n",
    "grouped_data['pct'] = grouped_data['pct'].round(2)\n",
    "\n",
    "\n",
    "# Display the results\n",
    "print(grouped_data)"
   ]
  },
  {
   "cell_type": "markdown",
   "metadata": {
    "hidden": true
   },
   "source": [
    "#### Calculating Estimated Pop for \"RACE\" var\n",
    "\n",
    "Variable List:\n",
    "* 10 : WHITE_POP\n",
    "* 20 : BLACK_POP\n",
    "* 30 : INDIG_POP\n",
    "* 40 : ASIAN_POP\n",
    "* 50 : MIXED_RACE_POP\n",
    "* 60 : OTHER_POP\n",
    "* 99 : RACE_UK_POP"
   ]
  },
  {
   "cell_type": "code",
   "execution_count": 17,
   "metadata": {
    "hidden": true
   },
   "outputs": [
    {
     "name": "stdout",
     "output_type": "stream",
     "text": [
      "RACE  GEO1_PR2020      10     20    30   40     50     60\n",
      "0             101  105722   4889   164   94  20441  18239\n",
      "1             102   83972   5438   229   20   5336  20783\n",
      "2             201   49123   1987   282   73   6797  65097\n",
      "3             202   28660   2847   183    6   3302  68127\n",
      "4             301   79486   4347    51  987   9781  24533\n",
      "5             302   93081   2000     0    0   2702  25788\n",
      "6             401   75079   3883   135  126   4252  22307\n",
      "7             402  103269   8257   179   47  22185  16007\n",
      "8             403   63850  22311    42  123  33110   7947\n",
      "9             501  101452   4505   327  118  16993  12666\n",
      "10            502   73647  12701     0   44  13136  12886\n",
      "11            503   79577   7952   134   33  10246  11332\n",
      "12            601   93209   8612    93    0  18622   7724\n",
      "13            602   74905  13183   308  133  31412  10175\n",
      "14            701   54351  39031    15  212   8363  10564\n",
      "15            801   54203   8105   114  152  16694  10464\n",
      "16            802   51876   5713   105  170  14511  11344\n",
      "17            803   70987   8452   169   57  15093  14200\n",
      "18            804   77126  19559   410  679  14374  38714\n",
      "19            805   46662  14101   200  150   4999  16869\n",
      "20            806   58986  10734    77   48  14918   8541\n",
      "21            901   72623  27497  1649  419  12507  31147\n",
      "22            902   73144  22880    80  615  11112  31954\n",
      "23           1001   87815  10926   277  472   7912  18969\n",
      "24           1002   66564  47110   163  278   9127  35963\n",
      "25           1101   57356  13856   216  314   9805  36539\n",
      "26           1102   42574  32367   104  452   3314  31650\n",
      "\n",
      "Pivot table:\n",
      " RACE  GEO1_PR2020  WHITE_POP  BLACK_POP  ...  ASIAN_POP  MIXED_RACE_POP  OTHER_POP\n",
      "0             101     105722       4889  ...         94           20441      18239\n",
      "1             102      83972       5438  ...         20            5336      20783\n",
      "2             201      49123       1987  ...         73            6797      65097\n",
      "3             202      28660       2847  ...          6            3302      68127\n",
      "4             301      79486       4347  ...        987            9781      24533\n",
      "5             302      93081       2000  ...          0            2702      25788\n",
      "6             401      75079       3883  ...        126            4252      22307\n",
      "7             402     103269       8257  ...         47           22185      16007\n",
      "8             403      63850      22311  ...        123           33110       7947\n",
      "9             501     101452       4505  ...        118           16993      12666\n",
      "10            502      73647      12701  ...         44           13136      12886\n",
      "11            503      79577       7952  ...         33           10246      11332\n",
      "12            601      93209       8612  ...          0           18622       7724\n",
      "13            602      74905      13183  ...        133           31412      10175\n",
      "14            701      54351      39031  ...        212            8363      10564\n",
      "15            801      54203       8105  ...        152           16694      10464\n",
      "16            802      51876       5713  ...        170           14511      11344\n",
      "17            803      70987       8452  ...         57           15093      14200\n",
      "18            804      77126      19559  ...        679           14374      38714\n",
      "19            805      46662      14101  ...        150            4999      16869\n",
      "20            806      58986      10734  ...         48           14918       8541\n",
      "21            901      72623      27497  ...        419           12507      31147\n",
      "22            902      73144      22880  ...        615           11112      31954\n",
      "23           1001      87815      10926  ...        472            7912      18969\n",
      "24           1002      66564      47110  ...        278            9127      35963\n",
      "25           1101      57356      13856  ...        314            9805      36539\n",
      "26           1102      42574      32367  ...        452            3314      31650\n",
      "\n",
      "[27 rows x 7 columns]\n"
     ]
    }
   ],
   "source": [
    "## Create a pivot table with RACE categories\n",
    "pivot_table = grouped_data.pivot_table(\n",
    "    index='GEO1_PR2020',  # Rows will be smaller geographic region\n",
    "    columns='RACE',   # Columns will be RACE categories\n",
    "    values='Estimated_pop',  # Values to be aggregated\n",
    "    aggfunc='sum',        # Sum the values for aggregation\n",
    "    fill_value=0          # Fill missing values with 0\n",
    ")\n",
    "\n",
    "pivot_table = pivot_table.reset_index()\n",
    "print(pivot_table1)\n",
    "\n",
    "# Rename the columns of pivot table for \"RACE\" variable\n",
    "# rename it based on datatsets.\n",
    "pivot_table_RACE = pivot_table.rename(columns={10: 'WHITE_POP', 20: 'BLACK_POP',30: 'INDIG_POP',40:'ASIAN_POP', \n",
    "                                       50: 'MIXED_RACE_POP', 60:'OTHER_POP' })\n",
    "\n",
    "# Export the DataFrame to a CSV file\n",
    "pivot_table_RACE.to_csv(r'C:\\Users\\Shwarna.Bhattacharje\\Documents\\IPUMS_Datasets\\Dataset_output\\PuertoRico_2020\\PR20_RACE.csv', index=False, encoding='utf-8')\n",
    "\n",
    "# Print \"RACE\" variable in a pivot table\n",
    "print(\"\\nPivot table:\\n\", pivot_table_RACE)\n",
    "\n"
   ]
  },
  {
   "cell_type": "markdown",
   "metadata": {
    "hidden": true
   },
   "source": [
    "#### Calculating Percentage for \"RACE\" var\n",
    "\n",
    "Variable List:\n",
    "* 10 : WHITE_PCT\n",
    "* 20 : BLACK_PCT\n",
    "* 30 : INDIG_PCT\n",
    "* 40 : ASIAN_PCT\n",
    "* 50 : MIXED_RACE_PCT\n",
    "* 60 : OTHER_PCT\n",
    "* 99 : RACE_UK_PCT"
   ]
  },
  {
   "cell_type": "code",
   "execution_count": 18,
   "metadata": {
    "hidden": true
   },
   "outputs": [
    {
     "name": "stdout",
     "output_type": "stream",
     "text": [
      "RACE  GEO1_PR2020      10     20    30   40     50     60\n",
      "0             101  105722   4889   164   94  20441  18239\n",
      "1             102   83972   5438   229   20   5336  20783\n",
      "2             201   49123   1987   282   73   6797  65097\n",
      "3             202   28660   2847   183    6   3302  68127\n",
      "4             301   79486   4347    51  987   9781  24533\n",
      "5             302   93081   2000     0    0   2702  25788\n",
      "6             401   75079   3883   135  126   4252  22307\n",
      "7             402  103269   8257   179   47  22185  16007\n",
      "8             403   63850  22311    42  123  33110   7947\n",
      "9             501  101452   4505   327  118  16993  12666\n",
      "10            502   73647  12701     0   44  13136  12886\n",
      "11            503   79577   7952   134   33  10246  11332\n",
      "12            601   93209   8612    93    0  18622   7724\n",
      "13            602   74905  13183   308  133  31412  10175\n",
      "14            701   54351  39031    15  212   8363  10564\n",
      "15            801   54203   8105   114  152  16694  10464\n",
      "16            802   51876   5713   105  170  14511  11344\n",
      "17            803   70987   8452   169   57  15093  14200\n",
      "18            804   77126  19559   410  679  14374  38714\n",
      "19            805   46662  14101   200  150   4999  16869\n",
      "20            806   58986  10734    77   48  14918   8541\n",
      "21            901   72623  27497  1649  419  12507  31147\n",
      "22            902   73144  22880    80  615  11112  31954\n",
      "23           1001   87815  10926   277  472   7912  18969\n",
      "24           1002   66564  47110   163  278   9127  35963\n",
      "25           1101   57356  13856   216  314   9805  36539\n",
      "26           1102   42574  32367   104  452   3314  31650\n",
      "\n",
      "Pivot table:\n",
      " RACE  GEO1_PR2020  WHITE_PCT  BLACK_PCT  ...  ASIAN_PCT  MiXED_RACE_PCT  OTHER_PCT\n",
      "0             101      70.69       3.27  ...       0.06           13.67      12.20\n",
      "1             102      72.53       4.70  ...       0.02            4.61      17.95\n",
      "2             201      39.82       1.61  ...       0.06            5.51      52.77\n",
      "3             202      27.79       2.76  ...       0.01            3.20      66.06\n",
      "4             301      66.69       3.65  ...       0.83            8.21      20.58\n",
      "5             302      75.33       1.62  ...       0.00            2.19      20.87\n",
      "6             401      70.98       3.67  ...       0.12            4.02      21.09\n",
      "7             402      68.87       5.51  ...       0.03           14.80      10.68\n",
      "8             403      50.12      17.51  ...       0.10           25.99       6.24\n",
      "9             501      74.56       3.31  ...       0.09           12.49       9.31\n",
      "10            502      65.51      11.30  ...       0.04           11.69      11.46\n",
      "11            503      72.82       7.28  ...       0.03            9.38      10.37\n",
      "12            601      72.67       6.71  ...       0.00           14.52       6.02\n",
      "13            602      57.57      10.13  ...       0.10           24.14       7.82\n",
      "14            701      48.30      34.68  ...       0.19            7.43       9.39\n",
      "15            801      60.41       9.03  ...       0.17           18.60      11.66\n",
      "16            802      61.96       6.82  ...       0.20           17.33      13.55\n",
      "17            803      65.15       7.76  ...       0.05           13.85      13.03\n",
      "18            804      51.12      12.96  ...       0.45            9.53      25.66\n",
      "19            805      56.23      16.99  ...       0.18            6.02      20.33\n",
      "20            806      63.22      11.50  ...       0.05           15.99       9.15\n",
      "21            901      49.80      18.85  ...       0.29            8.58      21.36\n",
      "22            902      52.33      16.37  ...       0.44            7.95      22.86\n",
      "23           1001      69.49       8.65  ...       0.37            6.26      15.01\n",
      "24           1002      41.81      29.59  ...       0.17            5.73      22.59\n",
      "25           1101      48.57      11.73  ...       0.27            8.30      30.94\n",
      "26           1102      38.54      29.30  ...       0.41            3.00      28.65\n",
      "\n",
      "[27 rows x 7 columns]\n"
     ]
    }
   ],
   "source": [
    "## Create a pivot table with RACE categories\n",
    "pivot_table = grouped_data.pivot_table(\n",
    "    index='GEO1_PR2020',  # Rows will be smaller geographic region\n",
    "    columns='RACE',   # Columns will be RACE categories\n",
    "    values='pct',  # Values to be aggregated\n",
    "    aggfunc='sum',        # Sum the values for aggregation\n",
    "    fill_value=0          # Fill missing values with 0\n",
    ")\n",
    "\n",
    "pivot_table = pivot_table.reset_index()\n",
    "print(pivot_table1)\n",
    "\n",
    "# Rename the columns of pivot table for \"RACE\" variable\n",
    "# rename it based on datatsets.\n",
    "pivot_table_RACE = pivot_table.rename(columns={10: 'WHITE_PCT', 20: 'BLACK_PCT',30: 'INDIG_PCT',40:'ASIAN_PCT', \n",
    "                                       50: 'MiXED_RACE_PCT', 60:'OTHER_PCT' })\n",
    "\n",
    "\n",
    "# Print \"RACE\" variable in a pivot table\n",
    "print(\"\\nPivot table:\\n\", pivot_table_RACE)\n",
    "\n"
   ]
  },
  {
   "cell_type": "code",
   "execution_count": 19,
   "metadata": {
    "hidden": true,
    "scrolled": true
   },
   "outputs": [
    {
     "name": "stdout",
     "output_type": "stream",
     "text": [
      "    GEO1_PR2020  WHITE_POP  BLACK_POP  ...  ASIAN_PCT  MiXED_RACE_PCT  OTHER_PCT\n",
      "0           101     105722       4889  ...       0.06           13.67      12.20\n",
      "1           102      83972       5438  ...       0.02            4.61      17.95\n",
      "2           201      49123       1987  ...       0.06            5.51      52.77\n",
      "3           202      28660       2847  ...       0.01            3.20      66.06\n",
      "4           301      79486       4347  ...       0.83            8.21      20.58\n",
      "5           302      93081       2000  ...       0.00            2.19      20.87\n",
      "6           401      75079       3883  ...       0.12            4.02      21.09\n",
      "7           402     103269       8257  ...       0.03           14.80      10.68\n",
      "8           403      63850      22311  ...       0.10           25.99       6.24\n",
      "9           501     101452       4505  ...       0.09           12.49       9.31\n",
      "10          502      73647      12701  ...       0.04           11.69      11.46\n",
      "11          503      79577       7952  ...       0.03            9.38      10.37\n",
      "12          601      93209       8612  ...       0.00           14.52       6.02\n",
      "13          602      74905      13183  ...       0.10           24.14       7.82\n",
      "14          701      54351      39031  ...       0.19            7.43       9.39\n",
      "15          801      54203       8105  ...       0.17           18.60      11.66\n",
      "16          802      51876       5713  ...       0.20           17.33      13.55\n",
      "17          803      70987       8452  ...       0.05           13.85      13.03\n",
      "18          804      77126      19559  ...       0.45            9.53      25.66\n",
      "19          805      46662      14101  ...       0.18            6.02      20.33\n",
      "20          806      58986      10734  ...       0.05           15.99       9.15\n",
      "21          901      72623      27497  ...       0.29            8.58      21.36\n",
      "22          902      73144      22880  ...       0.44            7.95      22.86\n",
      "23         1001      87815      10926  ...       0.37            6.26      15.01\n",
      "24         1002      66564      47110  ...       0.17            5.73      22.59\n",
      "25         1101      57356      13856  ...       0.27            8.30      30.94\n",
      "26         1102      42574      32367  ...       0.41            3.00      28.65\n",
      "\n",
      "[27 rows x 13 columns]\n"
     ]
    }
   ],
   "source": [
    "# Ensure both 'GEO1_PR2020' are of the same data type, convert to integer\n",
    "pivot_table_RACE['GEO1_PR2020'] = pivot_table_RACE['GEO1_PR2020'].astype(int)\n",
    "\n",
    "# Load the previously exported csv file on MX2020A_INDIG\n",
    "RACE_CSV_file = pd.read_csv(r'C:\\Users\\Shwarna.Bhattacharje\\Documents\\IPUMS_Datasets\\Dataset_output\\PuertoRico_2020\\PR20_RACE.csv')\n",
    "\n",
    "# merge the PCT data to the RACE_CSV_file\n",
    "merged_data = RACE_CSV_file.merge(pivot_table_RACE, on= 'GEO1_PR2020', how= 'left')\n",
    "\n",
    "# Export the DataFrame to the previously exported CSV file\n",
    "merged_data.to_csv(r'C:\\Users\\Shwarna.Bhattacharje\\Documents\\IPUMS_Datasets\\Dataset_output\\PuertoRico_2020\\PR20_RACE.csv', index=False)\n",
    "\n",
    "# Display the modified DataFrame\n",
    "print(merged_data)"
   ]
  },
  {
   "cell_type": "markdown",
   "metadata": {
    "hidden": true
   },
   "source": []
  },
  {
   "cell_type": "markdown",
   "metadata": {
    "heading_collapsed": true
   },
   "source": [
    "## Merging All Variables CSV into One"
   ]
  },
  {
   "cell_type": "code",
   "execution_count": 73,
   "metadata": {
    "hidden": true
   },
   "outputs": [
    {
     "name": "stdout",
     "output_type": "stream",
     "text": [
      "      YEAR  TOTAL_POP_MX20 GEO2_MX2020  ...  URBAN_HH  RURAL_PCT  URBAN_PCT\n",
      "0     2020       125515554        1001  ...    893821       5.47      94.53\n",
      "1     2020       125515554        1002  ...     21137      58.94      41.06\n",
      "2     2020       125515554        1003  ...     33741      41.98      58.02\n",
      "3     2020       125515554        1004  ...      9331      45.10      54.90\n",
      "4     2020       125515554        1005  ...     95190      26.70      73.30\n",
      "...    ...             ...         ...  ...       ...        ...        ...\n",
      "2464  2020       125515554       32054  ...      4265      78.07      21.93\n",
      "2465  2020       125515554       32055  ...     18311      41.72      58.28\n",
      "2466  2020       125515554       32056  ...    138588       6.26      93.74\n",
      "2467  2020       125515554       32057  ...     15980      21.85      78.15\n",
      "2468  2020       125515554       32058  ...         0     100.00       0.00\n",
      "\n",
      "[2469 rows x 59 columns]\n"
     ]
    }
   ],
   "source": [
    "# Define the folder containing the CSV files\n",
    "# Using Mexico_2020\n",
    "folder_path = r'C:\\Users\\Shwarna.Bhattacharje\\Documents\\IPUMS_Datasets\\Dataset_output\\Mexico_2020'\n",
    "\n",
    "# Initialize an empty list to store DataFrames\n",
    "dataframes = []\n",
    "\n",
    "# Define the common field for merging\n",
    "common_field = 'GEO2_MX2020'  # Replace with the actual common field name\n",
    "\n",
    "# Iterate through all files in the folder\n",
    "for filename in os.listdir(folder_path):\n",
    "    if filename.endswith('.csv'):\n",
    "        file_path = os.path.join(folder_path, filename)\n",
    "        \n",
    "        # Read the CSV file into a DataFrame\n",
    "        df = pd.read_csv(file_path, dtype={'GEO2_MX2020': str})\n",
    "        \n",
    "        # Remove the column named 'Field1' if it exists\n",
    "        if 'Field1' in df.columns:\n",
    "            df = df.drop(columns=['Field1'])\n",
    "        \n",
    "        # Remove any columns that start with 'Unnamed'\n",
    "        df = df.loc[:, ~df.columns.str.contains('^Unnamed')]\n",
    "\n",
    "        # Append the DataFrame to the list\n",
    "        dataframes.append(df)\n",
    "\n",
    "# Merge all DataFrames on the common field\n",
    "merged_df = dataframes[0]\n",
    "for df in dataframes[1:]:\n",
    "    merged_df = pd.merge(merged_df, df, on=common_field, how='outer', suffixes=('_left', '_right'))\n",
    "    \n",
    "# Ensure that 'GEO2_MX2020' column is of type string\n",
    "merged_df['GEO2_MX2020'] = merged_df['GEO2_MX2020'].astype(str)\n",
    "\n",
    "# Export the merged DataFrame to a new CSV file\n",
    "merged_df.to_csv(r'C:\\Users\\Shwarna.Bhattacharje\\Documents\\IPUMS_Datasets\\Dataset_output\\Mexico2020_merged.csv', index=False)\n",
    "\n",
    "# Display the merged DataFrame\n",
    "print(merged_df)\n"
   ]
  },
  {
   "cell_type": "markdown",
   "metadata": {
    "heading_collapsed": true
   },
   "source": [
    "# 2.  Joining the Dataset with Country Feature Layer"
   ]
  },
  {
   "attachments": {
    "image-6.png": {
     "image/png": "[encoded data removed]"
    },
    "image-7.png": {
     "image/png": "[encoded data removed]"
    },
    "image-8.png": {
     "image/png": "[encoded data removed]"
    }
   },
   "cell_type": "markdown",
   "metadata": {
    "hidden": true
   },
   "source": [
    "To join the dataset with the feature layer, it is necessary to align their data types. In the dataset, the geography variable (e.g., 'GEO2_MX2020' for Mexico 2020) is of integer data type, while in the feature layer, the geography variable (e.g., 'MUNI2020' for the shapefile) is of string data type. Therefore, the geography variable in the feature layer must be converted to an integer data type. The process involves the following steps:\n",
    "* Right Click in the feature layer in Contents Pane\n",
    "* Click to the \"Data\" > Click Export Features\n",
    "* Write Output Feature Class as \"CountryInitial_Year_GEOL2\" (e.g MX_2020_GEOL2)\n",
    "* Click \"Edit\" button in Export Features Pane\n",
    "![image-6.png](attachment:image-6.png)\n",
    "* Click \"GEO Var\" in Field Properties Pan\n",
    "![image-7.png](attachment:image-7.png)\n",
    "* Click drop down button of \"GEO Var\" Type, Select 'Long (32 bit integer)' and Click 'OK' button\n",
    "![image-8.png](attachment:image-8.png)\n",
    "* Click 'OK' in Export Features Pane for creating new feature layer.\n"
   ]
  },
  {
   "cell_type": "markdown",
   "metadata": {
    "hidden": true
   },
   "source": [
    "The following Python script uses ArcPy to perform a field join between a feature layer and a CSV file. The `JoinField` method is used to append data from the CSV to the feature layer based on a common field "
   ]
  },
  {
   "cell_type": "code",
   "execution_count": 74,
   "metadata": {
    "hidden": true
   },
   "outputs": [
    {
     "name": "stdout",
     "output_type": "stream",
     "text": [
      "JoinField operation completed successfully.\n"
     ]
    }
   ],
   "source": [
    "# Set the workspace (adjust this to your working directory)\n",
    "arcpy.env.workspace = r\"C:\\Users\\Shwarna.Bhattacharje\\Documents\\IPUMS_Datasets\"\n",
    "\n",
    "# Define paths\n",
    "feature_layer = r\"C:\\Users\\Shwarna.Bhattacharje\\Documents\\IPUMS_Datasets\\Americas_Features.gdb\\MX_2020_GEOL2\"  # Path to the feature layer \n",
    "csv_file = r\"C:\\Users\\Shwarna.Bhattacharje\\Documents\\IPUMS_Datasets\\Dataset_output\\Mexico2020_merged.csv\"            # Path to the CSV file\n",
    "\n",
    "# Define the field to join on (common in both the CSV and the feature layer)\n",
    "join_field_feature = \"MUNI2020\"\n",
    "join_field_csv = \"GEO2_MX2020\"\n",
    "\n",
    "# Perform the join using JoinField\n",
    "# Syntax: JoinField (in_data, in_field, join_table, join_field, fields_to_join)\n",
    "arcpy.management.JoinField(feature_layer, join_field_feature, csv_file, join_field_csv)\n",
    "\n",
    "print(\"JoinField operation completed successfully.\")\n"
   ]
  },
  {
   "cell_type": "code",
   "execution_count": null,
   "metadata": {
    "hidden": true
   },
   "outputs": [],
   "source": []
  }
 ],
 "metadata": {
  "kernelspec": {
   "display_name": "ArcGISPro",
   "language": "Python",
   "name": "python3"
  },
  "language_info": {
   "file_extension": ".py",
   "name": "python",
   "version": "3"
  }
 },
 "nbformat": 4,
 "nbformat_minor": 2
}
